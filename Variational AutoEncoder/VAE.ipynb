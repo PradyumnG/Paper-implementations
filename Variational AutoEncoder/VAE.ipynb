{
  "metadata": {
    "kernelspec": {
      "name": "python3",
      "display_name": "Python 3",
      "language": "python"
    },
    "language_info": {
      "name": "python",
      "version": "3.11.13",
      "mimetype": "text/x-python",
      "codemirror_mode": {
        "name": "ipython",
        "version": 3
      },
      "pygments_lexer": "ipython3",
      "nbconvert_exporter": "python",
      "file_extension": ".py"
    },
    "colab": {
      "provenance": [],
      "toc_visible": true,
      "gpuType": "T4"
    },
    "accelerator": "GPU",
    "widgets": {
      "application/vnd.jupyter.widget-state+json": {
	"state": {}
        "b7f688a90bea4c2db2fc3d900fdfc5be": {
          "model_module": "@jupyter-widgets/controls",
          "model_name": "HBoxModel",
          "model_module_version": "1.5.0",
          "state": {
            "_dom_classes": [],
            "_model_module": "@jupyter-widgets/controls",
            "_model_module_version": "1.5.0",
            "_model_name": "HBoxModel",
            "_view_count": null,
            "_view_module": "@jupyter-widgets/controls",
            "_view_module_version": "1.5.0",
            "_view_name": "HBoxView",
            "box_style": "",
            "children": [
              "IPY_MODEL_b6aa51c4042843138c8dd024e070f9db",
              "IPY_MODEL_debcbc3911bc44fe84005f5115ab00ae",
              "IPY_MODEL_6c5ea247c6c446148c75cbcd6a22230d"
            ],
            "layout": "IPY_MODEL_4b6ac541b0dd4a8b95a1c71262408c3c"
          }
        },
        "b6aa51c4042843138c8dd024e070f9db": {
          "model_module": "@jupyter-widgets/controls",
          "model_name": "HTMLModel",
          "model_module_version": "1.5.0",
          "state": {
            "_dom_classes": [],
            "_model_module": "@jupyter-widgets/controls",
            "_model_module_version": "1.5.0",
            "_model_name": "HTMLModel",
            "_view_count": null,
            "_view_module": "@jupyter-widgets/controls",
            "_view_module_version": "1.5.0",
            "_view_name": "HTMLView",
            "description": "",
            "description_tooltip": null,
            "layout": "IPY_MODEL_9d9bf0035e034233ac7ed3cd39ff80dc",
            "placeholder": "​",
            "style": "IPY_MODEL_21cc0fdc17bd42429315487e703b665b",
            "value": "Dl Completed...: 100%"
          }
        },
        "debcbc3911bc44fe84005f5115ab00ae": {
          "model_module": "@jupyter-widgets/controls",
          "model_name": "FloatProgressModel",
          "model_module_version": "1.5.0",
          "state": {
            "_dom_classes": [],
            "_model_module": "@jupyter-widgets/controls",
            "_model_module_version": "1.5.0",
            "_model_name": "FloatProgressModel",
            "_view_count": null,
            "_view_module": "@jupyter-widgets/controls",
            "_view_module_version": "1.5.0",
            "_view_name": "ProgressView",
            "bar_style": "success",
            "description": "",
            "description_tooltip": null,
            "layout": "IPY_MODEL_c0d31d015b1a47a1bd7a8a21fd5edca3",
            "max": 1,
            "min": 0,
            "orientation": "horizontal",
            "style": "IPY_MODEL_42e4bf11c4cb41089f6d28e2d799a851",
            "value": 1
          }
        },
        "6c5ea247c6c446148c75cbcd6a22230d": {
          "model_module": "@jupyter-widgets/controls",
          "model_name": "HTMLModel",
          "model_module_version": "1.5.0",
          "state": {
            "_dom_classes": [],
            "_model_module": "@jupyter-widgets/controls",
            "_model_module_version": "1.5.0",
            "_model_name": "HTMLModel",
            "_view_count": null,
            "_view_module": "@jupyter-widgets/controls",
            "_view_module_version": "1.5.0",
            "_view_name": "HTMLView",
            "description": "",
            "description_tooltip": null,
            "layout": "IPY_MODEL_6d75fe8256eb408e8527af47314aab44",
            "placeholder": "​",
            "style": "IPY_MODEL_698ad5ffdc8f4485a98e9bbeab72607d",
            "value": " 4/4 [00:03&lt;00:00,  1.31 url/s]"
          }
        },
        "4b6ac541b0dd4a8b95a1c71262408c3c": {
          "model_module": "@jupyter-widgets/base",
          "model_name": "LayoutModel",
          "model_module_version": "1.2.0",
          "state": {
            "_model_module": "@jupyter-widgets/base",
            "_model_module_version": "1.2.0",
            "_model_name": "LayoutModel",
            "_view_count": null,
            "_view_module": "@jupyter-widgets/base",
            "_view_module_version": "1.2.0",
            "_view_name": "LayoutView",
            "align_content": null,
            "align_items": null,
            "align_self": null,
            "border": null,
            "bottom": null,
            "display": null,
            "flex": null,
            "flex_flow": null,
            "grid_area": null,
            "grid_auto_columns": null,
            "grid_auto_flow": null,
            "grid_auto_rows": null,
            "grid_column": null,
            "grid_gap": null,
            "grid_row": null,
            "grid_template_areas": null,
            "grid_template_columns": null,
            "grid_template_rows": null,
            "height": null,
            "justify_content": null,
            "justify_items": null,
            "left": null,
            "margin": null,
            "max_height": null,
            "max_width": null,
            "min_height": null,
            "min_width": null,
            "object_fit": null,
            "object_position": null,
            "order": null,
            "overflow": null,
            "overflow_x": null,
            "overflow_y": null,
            "padding": null,
            "right": null,
            "top": null,
            "visibility": null,
            "width": null
          }
        },
        "9d9bf0035e034233ac7ed3cd39ff80dc": {
          "model_module": "@jupyter-widgets/base",
          "model_name": "LayoutModel",
          "model_module_version": "1.2.0",
          "state": {
            "_model_module": "@jupyter-widgets/base",
            "_model_module_version": "1.2.0",
            "_model_name": "LayoutModel",
            "_view_count": null,
            "_view_module": "@jupyter-widgets/base",
            "_view_module_version": "1.2.0",
            "_view_name": "LayoutView",
            "align_content": null,
            "align_items": null,
            "align_self": null,
            "border": null,
            "bottom": null,
            "display": null,
            "flex": null,
            "flex_flow": null,
            "grid_area": null,
            "grid_auto_columns": null,
            "grid_auto_flow": null,
            "grid_auto_rows": null,
            "grid_column": null,
            "grid_gap": null,
            "grid_row": null,
            "grid_template_areas": null,
            "grid_template_columns": null,
            "grid_template_rows": null,
            "height": null,
            "justify_content": null,
            "justify_items": null,
            "left": null,
            "margin": null,
            "max_height": null,
            "max_width": null,
            "min_height": null,
            "min_width": null,
            "object_fit": null,
            "object_position": null,
            "order": null,
            "overflow": null,
            "overflow_x": null,
            "overflow_y": null,
            "padding": null,
            "right": null,
            "top": null,
            "visibility": null,
            "width": null
          }
        },
        "21cc0fdc17bd42429315487e703b665b": {
          "model_module": "@jupyter-widgets/controls",
          "model_name": "DescriptionStyleModel",
          "model_module_version": "1.5.0",
          "state": {
            "_model_module": "@jupyter-widgets/controls",
            "_model_module_version": "1.5.0",
            "_model_name": "DescriptionStyleModel",
            "_view_count": null,
            "_view_module": "@jupyter-widgets/base",
            "_view_module_version": "1.2.0",
            "_view_name": "StyleView",
            "description_width": ""
          }
        },
        "c0d31d015b1a47a1bd7a8a21fd5edca3": {
          "model_module": "@jupyter-widgets/base",
          "model_name": "LayoutModel",
          "model_module_version": "1.2.0",
          "state": {
            "_model_module": "@jupyter-widgets/base",
            "_model_module_version": "1.2.0",
            "_model_name": "LayoutModel",
            "_view_count": null,
            "_view_module": "@jupyter-widgets/base",
            "_view_module_version": "1.2.0",
            "_view_name": "LayoutView",
            "align_content": null,
            "align_items": null,
            "align_self": null,
            "border": null,
            "bottom": null,
            "display": null,
            "flex": null,
            "flex_flow": null,
            "grid_area": null,
            "grid_auto_columns": null,
            "grid_auto_flow": null,
            "grid_auto_rows": null,
            "grid_column": null,
            "grid_gap": null,
            "grid_row": null,
            "grid_template_areas": null,
            "grid_template_columns": null,
            "grid_template_rows": null,
            "height": null,
            "justify_content": null,
            "justify_items": null,
            "left": null,
            "margin": null,
            "max_height": null,
            "max_width": null,
            "min_height": null,
            "min_width": null,
            "object_fit": null,
            "object_position": null,
            "order": null,
            "overflow": null,
            "overflow_x": null,
            "overflow_y": null,
            "padding": null,
            "right": null,
            "top": null,
            "visibility": null,
            "width": "20px"
          }
        },
        "42e4bf11c4cb41089f6d28e2d799a851": {
          "model_module": "@jupyter-widgets/controls",
          "model_name": "ProgressStyleModel",
          "model_module_version": "1.5.0",
          "state": {
            "_model_module": "@jupyter-widgets/controls",
            "_model_module_version": "1.5.0",
            "_model_name": "ProgressStyleModel",
            "_view_count": null,
            "_view_module": "@jupyter-widgets/base",
            "_view_module_version": "1.2.0",
            "_view_name": "StyleView",
            "bar_color": null,
            "description_width": ""
          }
        },
        "6d75fe8256eb408e8527af47314aab44": {
          "model_module": "@jupyter-widgets/base",
          "model_name": "LayoutModel",
          "model_module_version": "1.2.0",
          "state": {
            "_model_module": "@jupyter-widgets/base",
            "_model_module_version": "1.2.0",
            "_model_name": "LayoutModel",
            "_view_count": null,
            "_view_module": "@jupyter-widgets/base",
            "_view_module_version": "1.2.0",
            "_view_name": "LayoutView",
            "align_content": null,
            "align_items": null,
            "align_self": null,
            "border": null,
            "bottom": null,
            "display": null,
            "flex": null,
            "flex_flow": null,
            "grid_area": null,
            "grid_auto_columns": null,
            "grid_auto_flow": null,
            "grid_auto_rows": null,
            "grid_column": null,
            "grid_gap": null,
            "grid_row": null,
            "grid_template_areas": null,
            "grid_template_columns": null,
            "grid_template_rows": null,
            "height": null,
            "justify_content": null,
            "justify_items": null,
            "left": null,
            "margin": null,
            "max_height": null,
            "max_width": null,
            "min_height": null,
            "min_width": null,
            "object_fit": null,
            "object_position": null,
            "order": null,
            "overflow": null,
            "overflow_x": null,
            "overflow_y": null,
            "padding": null,
            "right": null,
            "top": null,
            "visibility": null,
            "width": null
          }
        },
        "698ad5ffdc8f4485a98e9bbeab72607d": {
          "model_module": "@jupyter-widgets/controls",
          "model_name": "DescriptionStyleModel",
          "model_module_version": "1.5.0",
          "state": {
            "_model_module": "@jupyter-widgets/controls",
            "_model_module_version": "1.5.0",
            "_model_name": "DescriptionStyleModel",
            "_view_count": null,
            "_view_module": "@jupyter-widgets/base",
            "_view_module_version": "1.2.0",
            "_view_name": "StyleView",
            "description_width": ""
          }
        },
        "86eb1b1da06c44fbaeaff1fad42387fa": {
          "model_module": "@jupyter-widgets/controls",
          "model_name": "HBoxModel",
          "model_module_version": "1.5.0",
          "state": {
            "_dom_classes": [],
            "_model_module": "@jupyter-widgets/controls",
            "_model_module_version": "1.5.0",
            "_model_name": "HBoxModel",
            "_view_count": null,
            "_view_module": "@jupyter-widgets/controls",
            "_view_module_version": "1.5.0",
            "_view_name": "HBoxView",
            "box_style": "",
            "children": [
              "IPY_MODEL_69cb9774180948c8b8a81e15e50067f3",
              "IPY_MODEL_4c66697dbd0b45b49728922f06b050a3",
              "IPY_MODEL_2a603235fd6e4d16a2bb43de26187c8d"
            ],
            "layout": "IPY_MODEL_18fd9de45a09484a88849dfb724e9920"
          }
        },
        "69cb9774180948c8b8a81e15e50067f3": {
          "model_module": "@jupyter-widgets/controls",
          "model_name": "HTMLModel",
          "model_module_version": "1.5.0",
          "state": {
            "_dom_classes": [],
            "_model_module": "@jupyter-widgets/controls",
            "_model_module_version": "1.5.0",
            "_model_name": "HTMLModel",
            "_view_count": null,
            "_view_module": "@jupyter-widgets/controls",
            "_view_module_version": "1.5.0",
            "_view_name": "HTMLView",
            "description": "",
            "description_tooltip": null,
            "layout": "IPY_MODEL_6e7e91b3b5c34614a278cd54af99c994",
            "placeholder": "​",
            "style": "IPY_MODEL_dfe24704ac5845e284034df6511f7b43",
            "value": "Dl Size...: 100%"
          }
        },
        "4c66697dbd0b45b49728922f06b050a3": {
          "model_module": "@jupyter-widgets/controls",
          "model_name": "FloatProgressModel",
          "model_module_version": "1.5.0",
          "state": {
            "_dom_classes": [],
            "_model_module": "@jupyter-widgets/controls",
            "_model_module_version": "1.5.0",
            "_model_name": "FloatProgressModel",
            "_view_count": null,
            "_view_module": "@jupyter-widgets/controls",
            "_view_module_version": "1.5.0",
            "_view_name": "ProgressView",
            "bar_style": "success",
            "description": "",
            "description_tooltip": null,
            "layout": "IPY_MODEL_56c71012d31c4354a747e451e47c0054",
            "max": 1,
            "min": 0,
            "orientation": "horizontal",
            "style": "IPY_MODEL_e4749f8efa2c4d39927e7a8716fe03cf",
            "value": 1
          }
        },
        "2a603235fd6e4d16a2bb43de26187c8d": {
          "model_module": "@jupyter-widgets/controls",
          "model_name": "HTMLModel",
          "model_module_version": "1.5.0",
          "state": {
            "_dom_classes": [],
            "_model_module": "@jupyter-widgets/controls",
            "_model_module_version": "1.5.0",
            "_model_name": "HTMLModel",
            "_view_count": null,
            "_view_module": "@jupyter-widgets/controls",
            "_view_module_version": "1.5.0",
            "_view_name": "HTMLView",
            "description": "",
            "description_tooltip": null,
            "layout": "IPY_MODEL_a0c5cf33f14449eba1ce1572e7d04bba",
            "placeholder": "​",
            "style": "IPY_MODEL_0f41a519749d4b669b152a4491c6c288",
            "value": " 10/10 [00:03&lt;00:00,  4.13 MiB/s]"
          }
        },
        "18fd9de45a09484a88849dfb724e9920": {
          "model_module": "@jupyter-widgets/base",
          "model_name": "LayoutModel",
          "model_module_version": "1.2.0",
          "state": {
            "_model_module": "@jupyter-widgets/base",
            "_model_module_version": "1.2.0",
            "_model_name": "LayoutModel",
            "_view_count": null,
            "_view_module": "@jupyter-widgets/base",
            "_view_module_version": "1.2.0",
            "_view_name": "LayoutView",
            "align_content": null,
            "align_items": null,
            "align_self": null,
            "border": null,
            "bottom": null,
            "display": null,
            "flex": null,
            "flex_flow": null,
            "grid_area": null,
            "grid_auto_columns": null,
            "grid_auto_flow": null,
            "grid_auto_rows": null,
            "grid_column": null,
            "grid_gap": null,
            "grid_row": null,
            "grid_template_areas": null,
            "grid_template_columns": null,
            "grid_template_rows": null,
            "height": null,
            "justify_content": null,
            "justify_items": null,
            "left": null,
            "margin": null,
            "max_height": null,
            "max_width": null,
            "min_height": null,
            "min_width": null,
            "object_fit": null,
            "object_position": null,
            "order": null,
            "overflow": null,
            "overflow_x": null,
            "overflow_y": null,
            "padding": null,
            "right": null,
            "top": null,
            "visibility": null,
            "width": null
          }
        },
        "6e7e91b3b5c34614a278cd54af99c994": {
          "model_module": "@jupyter-widgets/base",
          "model_name": "LayoutModel",
          "model_module_version": "1.2.0",
          "state": {
            "_model_module": "@jupyter-widgets/base",
            "_model_module_version": "1.2.0",
            "_model_name": "LayoutModel",
            "_view_count": null,
            "_view_module": "@jupyter-widgets/base",
            "_view_module_version": "1.2.0",
            "_view_name": "LayoutView",
            "align_content": null,
            "align_items": null,
            "align_self": null,
            "border": null,
            "bottom": null,
            "display": null,
            "flex": null,
            "flex_flow": null,
            "grid_area": null,
            "grid_auto_columns": null,
            "grid_auto_flow": null,
            "grid_auto_rows": null,
            "grid_column": null,
            "grid_gap": null,
            "grid_row": null,
            "grid_template_areas": null,
            "grid_template_columns": null,
            "grid_template_rows": null,
            "height": null,
            "justify_content": null,
            "justify_items": null,
            "left": null,
            "margin": null,
            "max_height": null,
            "max_width": null,
            "min_height": null,
            "min_width": null,
            "object_fit": null,
            "object_position": null,
            "order": null,
            "overflow": null,
            "overflow_x": null,
            "overflow_y": null,
            "padding": null,
            "right": null,
            "top": null,
            "visibility": null,
            "width": null
          }
        },
        "dfe24704ac5845e284034df6511f7b43": {
          "model_module": "@jupyter-widgets/controls",
          "model_name": "DescriptionStyleModel",
          "model_module_version": "1.5.0",
          "state": {
            "_model_module": "@jupyter-widgets/controls",
            "_model_module_version": "1.5.0",
            "_model_name": "DescriptionStyleModel",
            "_view_count": null,
            "_view_module": "@jupyter-widgets/base",
            "_view_module_version": "1.2.0",
            "_view_name": "StyleView",
            "description_width": ""
          }
        },
        "56c71012d31c4354a747e451e47c0054": {
          "model_module": "@jupyter-widgets/base",
          "model_name": "LayoutModel",
          "model_module_version": "1.2.0",
          "state": {
            "_model_module": "@jupyter-widgets/base",
            "_model_module_version": "1.2.0",
            "_model_name": "LayoutModel",
            "_view_count": null,
            "_view_module": "@jupyter-widgets/base",
            "_view_module_version": "1.2.0",
            "_view_name": "LayoutView",
            "align_content": null,
            "align_items": null,
            "align_self": null,
            "border": null,
            "bottom": null,
            "display": null,
            "flex": null,
            "flex_flow": null,
            "grid_area": null,
            "grid_auto_columns": null,
            "grid_auto_flow": null,
            "grid_auto_rows": null,
            "grid_column": null,
            "grid_gap": null,
            "grid_row": null,
            "grid_template_areas": null,
            "grid_template_columns": null,
            "grid_template_rows": null,
            "height": null,
            "justify_content": null,
            "justify_items": null,
            "left": null,
            "margin": null,
            "max_height": null,
            "max_width": null,
            "min_height": null,
            "min_width": null,
            "object_fit": null,
            "object_position": null,
            "order": null,
            "overflow": null,
            "overflow_x": null,
            "overflow_y": null,
            "padding": null,
            "right": null,
            "top": null,
            "visibility": null,
            "width": "20px"
          }
        },
        "e4749f8efa2c4d39927e7a8716fe03cf": {
          "model_module": "@jupyter-widgets/controls",
          "model_name": "ProgressStyleModel",
          "model_module_version": "1.5.0",
          "state": {
            "_model_module": "@jupyter-widgets/controls",
            "_model_module_version": "1.5.0",
            "_model_name": "ProgressStyleModel",
            "_view_count": null,
            "_view_module": "@jupyter-widgets/base",
            "_view_module_version": "1.2.0",
            "_view_name": "StyleView",
            "bar_color": null,
            "description_width": ""
          }
        },
        "a0c5cf33f14449eba1ce1572e7d04bba": {
          "model_module": "@jupyter-widgets/base",
          "model_name": "LayoutModel",
          "model_module_version": "1.2.0",
          "state": {
            "_model_module": "@jupyter-widgets/base",
            "_model_module_version": "1.2.0",
            "_model_name": "LayoutModel",
            "_view_count": null,
            "_view_module": "@jupyter-widgets/base",
            "_view_module_version": "1.2.0",
            "_view_name": "LayoutView",
            "align_content": null,
            "align_items": null,
            "align_self": null,
            "border": null,
            "bottom": null,
            "display": null,
            "flex": null,
            "flex_flow": null,
            "grid_area": null,
            "grid_auto_columns": null,
            "grid_auto_flow": null,
            "grid_auto_rows": null,
            "grid_column": null,
            "grid_gap": null,
            "grid_row": null,
            "grid_template_areas": null,
            "grid_template_columns": null,
            "grid_template_rows": null,
            "height": null,
            "justify_content": null,
            "justify_items": null,
            "left": null,
            "margin": null,
            "max_height": null,
            "max_width": null,
            "min_height": null,
            "min_width": null,
            "object_fit": null,
            "object_position": null,
            "order": null,
            "overflow": null,
            "overflow_x": null,
            "overflow_y": null,
            "padding": null,
            "right": null,
            "top": null,
            "visibility": null,
            "width": null
          }
        },
        "0f41a519749d4b669b152a4491c6c288": {
          "model_module": "@jupyter-widgets/controls",
          "model_name": "DescriptionStyleModel",
          "model_module_version": "1.5.0",
          "state": {
            "_model_module": "@jupyter-widgets/controls",
            "_model_module_version": "1.5.0",
            "_model_name": "DescriptionStyleModel",
            "_view_count": null,
            "_view_module": "@jupyter-widgets/base",
            "_view_module_version": "1.2.0",
            "_view_name": "StyleView",
            "description_width": ""
          }
        },
        "80b79daca507434883908f43040b6ca6": {
          "model_module": "@jupyter-widgets/controls",
          "model_name": "HBoxModel",
          "model_module_version": "1.5.0",
          "state": {
            "_dom_classes": [],
            "_model_module": "@jupyter-widgets/controls",
            "_model_module_version": "1.5.0",
            "_model_name": "HBoxModel",
            "_view_count": null,
            "_view_module": "@jupyter-widgets/controls",
            "_view_module_version": "1.5.0",
            "_view_name": "HBoxView",
            "box_style": "",
            "children": [
              "IPY_MODEL_aecf1d2891ec4f6681d88e692b84e556",
              "IPY_MODEL_b59de582add444d89361bcc53900442b",
              "IPY_MODEL_8996e2c9b75b482f9b1285573bd55cc2"
            ],
            "layout": "IPY_MODEL_6df3af419ebb461b9527796ff79ae3c6"
          }
        },
        "aecf1d2891ec4f6681d88e692b84e556": {
          "model_module": "@jupyter-widgets/controls",
          "model_name": "HTMLModel",
          "model_module_version": "1.5.0",
          "state": {
            "_dom_classes": [],
            "_model_module": "@jupyter-widgets/controls",
            "_model_module_version": "1.5.0",
            "_model_name": "HTMLModel",
            "_view_count": null,
            "_view_module": "@jupyter-widgets/controls",
            "_view_module_version": "1.5.0",
            "_view_name": "HTMLView",
            "description": "",
            "description_tooltip": null,
            "layout": "IPY_MODEL_31d0835422114abc893b1087f772a9ac",
            "placeholder": "​",
            "style": "IPY_MODEL_3f5a48f93ea4457b8a87217a3ed79758",
            "value": "Extraction completed...: 100%"
          }
        },
        "b59de582add444d89361bcc53900442b": {
          "model_module": "@jupyter-widgets/controls",
          "model_name": "FloatProgressModel",
          "model_module_version": "1.5.0",
          "state": {
            "_dom_classes": [],
            "_model_module": "@jupyter-widgets/controls",
            "_model_module_version": "1.5.0",
            "_model_name": "FloatProgressModel",
            "_view_count": null,
            "_view_module": "@jupyter-widgets/controls",
            "_view_module_version": "1.5.0",
            "_view_name": "ProgressView",
            "bar_style": "success",
            "description": "",
            "description_tooltip": null,
            "layout": "IPY_MODEL_019a243e651241b3ad98cc5ff6c29a4a",
            "max": 1,
            "min": 0,
            "orientation": "horizontal",
            "style": "IPY_MODEL_1e710790557146eabc828319c5840130",
            "value": 1
          }
        },
        "8996e2c9b75b482f9b1285573bd55cc2": {
          "model_module": "@jupyter-widgets/controls",
          "model_name": "HTMLModel",
          "model_module_version": "1.5.0",
          "state": {
            "_dom_classes": [],
            "_model_module": "@jupyter-widgets/controls",
            "_model_module_version": "1.5.0",
            "_model_name": "HTMLModel",
            "_view_count": null,
            "_view_module": "@jupyter-widgets/controls",
            "_view_module_version": "1.5.0",
            "_view_name": "HTMLView",
            "description": "",
            "description_tooltip": null,
            "layout": "IPY_MODEL_36cbb68845454b3d99e340f1c97abbcc",
            "placeholder": "​",
            "style": "IPY_MODEL_84a9cb8a7f224b268229f2a52d258fb0",
            "value": " 4/4 [00:03&lt;00:00,  1.30 file/s]"
          }
        },
        "6df3af419ebb461b9527796ff79ae3c6": {
          "model_module": "@jupyter-widgets/base",
          "model_name": "LayoutModel",
          "model_module_version": "1.2.0",
          "state": {
            "_model_module": "@jupyter-widgets/base",
            "_model_module_version": "1.2.0",
            "_model_name": "LayoutModel",
            "_view_count": null,
            "_view_module": "@jupyter-widgets/base",
            "_view_module_version": "1.2.0",
            "_view_name": "LayoutView",
            "align_content": null,
            "align_items": null,
            "align_self": null,
            "border": null,
            "bottom": null,
            "display": null,
            "flex": null,
            "flex_flow": null,
            "grid_area": null,
            "grid_auto_columns": null,
            "grid_auto_flow": null,
            "grid_auto_rows": null,
            "grid_column": null,
            "grid_gap": null,
            "grid_row": null,
            "grid_template_areas": null,
            "grid_template_columns": null,
            "grid_template_rows": null,
            "height": null,
            "justify_content": null,
            "justify_items": null,
            "left": null,
            "margin": null,
            "max_height": null,
            "max_width": null,
            "min_height": null,
            "min_width": null,
            "object_fit": null,
            "object_position": null,
            "order": null,
            "overflow": null,
            "overflow_x": null,
            "overflow_y": null,
            "padding": null,
            "right": null,
            "top": null,
            "visibility": null,
            "width": null
          }
        },
        "31d0835422114abc893b1087f772a9ac": {
          "model_module": "@jupyter-widgets/base",
          "model_name": "LayoutModel",
          "model_module_version": "1.2.0",
          "state": {
            "_model_module": "@jupyter-widgets/base",
            "_model_module_version": "1.2.0",
            "_model_name": "LayoutModel",
            "_view_count": null,
            "_view_module": "@jupyter-widgets/base",
            "_view_module_version": "1.2.0",
            "_view_name": "LayoutView",
            "align_content": null,
            "align_items": null,
            "align_self": null,
            "border": null,
            "bottom": null,
            "display": null,
            "flex": null,
            "flex_flow": null,
            "grid_area": null,
            "grid_auto_columns": null,
            "grid_auto_flow": null,
            "grid_auto_rows": null,
            "grid_column": null,
            "grid_gap": null,
            "grid_row": null,
            "grid_template_areas": null,
            "grid_template_columns": null,
            "grid_template_rows": null,
            "height": null,
            "justify_content": null,
            "justify_items": null,
            "left": null,
            "margin": null,
            "max_height": null,
            "max_width": null,
            "min_height": null,
            "min_width": null,
            "object_fit": null,
            "object_position": null,
            "order": null,
            "overflow": null,
            "overflow_x": null,
            "overflow_y": null,
            "padding": null,
            "right": null,
            "top": null,
            "visibility": null,
            "width": null
          }
        },
        "3f5a48f93ea4457b8a87217a3ed79758": {
          "model_module": "@jupyter-widgets/controls",
          "model_name": "DescriptionStyleModel",
          "model_module_version": "1.5.0",
          "state": {
            "_model_module": "@jupyter-widgets/controls",
            "_model_module_version": "1.5.0",
            "_model_name": "DescriptionStyleModel",
            "_view_count": null,
            "_view_module": "@jupyter-widgets/base",
            "_view_module_version": "1.2.0",
            "_view_name": "StyleView",
            "description_width": ""
          }
        },
        "019a243e651241b3ad98cc5ff6c29a4a": {
          "model_module": "@jupyter-widgets/base",
          "model_name": "LayoutModel",
          "model_module_version": "1.2.0",
          "state": {
            "_model_module": "@jupyter-widgets/base",
            "_model_module_version": "1.2.0",
            "_model_name": "LayoutModel",
            "_view_count": null,
            "_view_module": "@jupyter-widgets/base",
            "_view_module_version": "1.2.0",
            "_view_name": "LayoutView",
            "align_content": null,
            "align_items": null,
            "align_self": null,
            "border": null,
            "bottom": null,
            "display": null,
            "flex": null,
            "flex_flow": null,
            "grid_area": null,
            "grid_auto_columns": null,
            "grid_auto_flow": null,
            "grid_auto_rows": null,
            "grid_column": null,
            "grid_gap": null,
            "grid_row": null,
            "grid_template_areas": null,
            "grid_template_columns": null,
            "grid_template_rows": null,
            "height": null,
            "justify_content": null,
            "justify_items": null,
            "left": null,
            "margin": null,
            "max_height": null,
            "max_width": null,
            "min_height": null,
            "min_width": null,
            "object_fit": null,
            "object_position": null,
            "order": null,
            "overflow": null,
            "overflow_x": null,
            "overflow_y": null,
            "padding": null,
            "right": null,
            "top": null,
            "visibility": null,
            "width": "20px"
          }
        },
        "1e710790557146eabc828319c5840130": {
          "model_module": "@jupyter-widgets/controls",
          "model_name": "ProgressStyleModel",
          "model_module_version": "1.5.0",
          "state": {
            "_model_module": "@jupyter-widgets/controls",
            "_model_module_version": "1.5.0",
            "_model_name": "ProgressStyleModel",
            "_view_count": null,
            "_view_module": "@jupyter-widgets/base",
            "_view_module_version": "1.2.0",
            "_view_name": "StyleView",
            "bar_color": null,
            "description_width": ""
          }
        },
        "36cbb68845454b3d99e340f1c97abbcc": {
          "model_module": "@jupyter-widgets/base",
          "model_name": "LayoutModel",
          "model_module_version": "1.2.0",
          "state": {
            "_model_module": "@jupyter-widgets/base",
            "_model_module_version": "1.2.0",
            "_model_name": "LayoutModel",
            "_view_count": null,
            "_view_module": "@jupyter-widgets/base",
            "_view_module_version": "1.2.0",
            "_view_name": "LayoutView",
            "align_content": null,
            "align_items": null,
            "align_self": null,
            "border": null,
            "bottom": null,
            "display": null,
            "flex": null,
            "flex_flow": null,
            "grid_area": null,
            "grid_auto_columns": null,
            "grid_auto_flow": null,
            "grid_auto_rows": null,
            "grid_column": null,
            "grid_gap": null,
            "grid_row": null,
            "grid_template_areas": null,
            "grid_template_columns": null,
            "grid_template_rows": null,
            "height": null,
            "justify_content": null,
            "justify_items": null,
            "left": null,
            "margin": null,
            "max_height": null,
            "max_width": null,
            "min_height": null,
            "min_width": null,
            "object_fit": null,
            "object_position": null,
            "order": null,
            "overflow": null,
            "overflow_x": null,
            "overflow_y": null,
            "padding": null,
            "right": null,
            "top": null,
            "visibility": null,
            "width": null
          }
        },
        "84a9cb8a7f224b268229f2a52d258fb0": {
          "model_module": "@jupyter-widgets/controls",
          "model_name": "DescriptionStyleModel",
          "model_module_version": "1.5.0",
          "state": {
            "_model_module": "@jupyter-widgets/controls",
            "_model_module_version": "1.5.0",
            "_model_name": "DescriptionStyleModel",
            "_view_count": null,
            "_view_module": "@jupyter-widgets/base",
            "_view_module_version": "1.2.0",
            "_view_name": "StyleView",
            "description_width": ""
          }
        },
        "d4347542fda947149dd5d088f637646d": {
          "model_module": "@jupyter-widgets/controls",
          "model_name": "HBoxModel",
          "model_module_version": "1.5.0",
          "state": {
            "_dom_classes": [],
            "_model_module": "@jupyter-widgets/controls",
            "_model_module_version": "1.5.0",
            "_model_name": "HBoxModel",
            "_view_count": null,
            "_view_module": "@jupyter-widgets/controls",
            "_view_module_version": "1.5.0",
            "_view_name": "HBoxView",
            "box_style": "",
            "children": [
              "IPY_MODEL_83743df95c1043e59f1a1d5e23f7bc21",
              "IPY_MODEL_c3c9a11ff16044cb8f86bc2a438a0cec",
              "IPY_MODEL_09a01f17dc034f31928a9df3ab9f5578"
            ],
            "layout": "IPY_MODEL_9d88eaa198354ae9b6aafe8c72876bf1"
          }
        },
        "83743df95c1043e59f1a1d5e23f7bc21": {
          "model_module": "@jupyter-widgets/controls",
          "model_name": "HTMLModel",
          "model_module_version": "1.5.0",
          "state": {
            "_dom_classes": [],
            "_model_module": "@jupyter-widgets/controls",
            "_model_module_version": "1.5.0",
            "_model_name": "HTMLModel",
            "_view_count": null,
            "_view_module": "@jupyter-widgets/controls",
            "_view_module_version": "1.5.0",
            "_view_name": "HTMLView",
            "description": "",
            "description_tooltip": null,
            "layout": "IPY_MODEL_3c19f3fce7eb4fff933462b2d9a00910",
            "placeholder": "​",
            "style": "IPY_MODEL_faacd23592074e709ea6d61d686f9762",
            "value": "Generating splits...: 100%"
          }
        },
        "c3c9a11ff16044cb8f86bc2a438a0cec": {
          "model_module": "@jupyter-widgets/controls",
          "model_name": "FloatProgressModel",
          "model_module_version": "1.5.0",
          "state": {
            "_dom_classes": [],
            "_model_module": "@jupyter-widgets/controls",
            "_model_module_version": "1.5.0",
            "_model_name": "FloatProgressModel",
            "_view_count": null,
            "_view_module": "@jupyter-widgets/controls",
            "_view_module_version": "1.5.0",
            "_view_name": "ProgressView",
            "bar_style": "",
            "description": "",
            "description_tooltip": null,
            "layout": "IPY_MODEL_437f9b66d55d4727876b16dd92e4ebb6",
            "max": 2,
            "min": 0,
            "orientation": "horizontal",
            "style": "IPY_MODEL_3769e9728ac84b9dad96183457bebfaf",
            "value": 2
          }
        },
        "09a01f17dc034f31928a9df3ab9f5578": {
          "model_module": "@jupyter-widgets/controls",
          "model_name": "HTMLModel",
          "model_module_version": "1.5.0",
          "state": {
            "_dom_classes": [],
            "_model_module": "@jupyter-widgets/controls",
            "_model_module_version": "1.5.0",
            "_model_name": "HTMLModel",
            "_view_count": null,
            "_view_module": "@jupyter-widgets/controls",
            "_view_module_version": "1.5.0",
            "_view_name": "HTMLView",
            "description": "",
            "description_tooltip": null,
            "layout": "IPY_MODEL_86372e1eb8dc42f09cacd564e6bb6b46",
            "placeholder": "​",
            "style": "IPY_MODEL_8f9c2566acb94b42b4b96fb094896fb8",
            "value": " 2/2 [00:48&lt;00:00, 21.32s/ splits]"
          }
        },
        "9d88eaa198354ae9b6aafe8c72876bf1": {
          "model_module": "@jupyter-widgets/base",
          "model_name": "LayoutModel",
          "model_module_version": "1.2.0",
          "state": {
            "_model_module": "@jupyter-widgets/base",
            "_model_module_version": "1.2.0",
            "_model_name": "LayoutModel",
            "_view_count": null,
            "_view_module": "@jupyter-widgets/base",
            "_view_module_version": "1.2.0",
            "_view_name": "LayoutView",
            "align_content": null,
            "align_items": null,
            "align_self": null,
            "border": null,
            "bottom": null,
            "display": null,
            "flex": null,
            "flex_flow": null,
            "grid_area": null,
            "grid_auto_columns": null,
            "grid_auto_flow": null,
            "grid_auto_rows": null,
            "grid_column": null,
            "grid_gap": null,
            "grid_row": null,
            "grid_template_areas": null,
            "grid_template_columns": null,
            "grid_template_rows": null,
            "height": null,
            "justify_content": null,
            "justify_items": null,
            "left": null,
            "margin": null,
            "max_height": null,
            "max_width": null,
            "min_height": null,
            "min_width": null,
            "object_fit": null,
            "object_position": null,
            "order": null,
            "overflow": null,
            "overflow_x": null,
            "overflow_y": null,
            "padding": null,
            "right": null,
            "top": null,
            "visibility": "hidden",
            "width": null
          }
        },
        "3c19f3fce7eb4fff933462b2d9a00910": {
          "model_module": "@jupyter-widgets/base",
          "model_name": "LayoutModel",
          "model_module_version": "1.2.0",
          "state": {
            "_model_module": "@jupyter-widgets/base",
            "_model_module_version": "1.2.0",
            "_model_name": "LayoutModel",
            "_view_count": null,
            "_view_module": "@jupyter-widgets/base",
            "_view_module_version": "1.2.0",
            "_view_name": "LayoutView",
            "align_content": null,
            "align_items": null,
            "align_self": null,
            "border": null,
            "bottom": null,
            "display": null,
            "flex": null,
            "flex_flow": null,
            "grid_area": null,
            "grid_auto_columns": null,
            "grid_auto_flow": null,
            "grid_auto_rows": null,
            "grid_column": null,
            "grid_gap": null,
            "grid_row": null,
            "grid_template_areas": null,
            "grid_template_columns": null,
            "grid_template_rows": null,
            "height": null,
            "justify_content": null,
            "justify_items": null,
            "left": null,
            "margin": null,
            "max_height": null,
            "max_width": null,
            "min_height": null,
            "min_width": null,
            "object_fit": null,
            "object_position": null,
            "order": null,
            "overflow": null,
            "overflow_x": null,
            "overflow_y": null,
            "padding": null,
            "right": null,
            "top": null,
            "visibility": null,
            "width": null
          }
        },
        "faacd23592074e709ea6d61d686f9762": {
          "model_module": "@jupyter-widgets/controls",
          "model_name": "DescriptionStyleModel",
          "model_module_version": "1.5.0",
          "state": {
            "_model_module": "@jupyter-widgets/controls",
            "_model_module_version": "1.5.0",
            "_model_name": "DescriptionStyleModel",
            "_view_count": null,
            "_view_module": "@jupyter-widgets/base",
            "_view_module_version": "1.2.0",
            "_view_name": "StyleView",
            "description_width": ""
          }
        },
        "437f9b66d55d4727876b16dd92e4ebb6": {
          "model_module": "@jupyter-widgets/base",
          "model_name": "LayoutModel",
          "model_module_version": "1.2.0",
          "state": {
            "_model_module": "@jupyter-widgets/base",
            "_model_module_version": "1.2.0",
            "_model_name": "LayoutModel",
            "_view_count": null,
            "_view_module": "@jupyter-widgets/base",
            "_view_module_version": "1.2.0",
            "_view_name": "LayoutView",
            "align_content": null,
            "align_items": null,
            "align_self": null,
            "border": null,
            "bottom": null,
            "display": null,
            "flex": null,
            "flex_flow": null,
            "grid_area": null,
            "grid_auto_columns": null,
            "grid_auto_flow": null,
            "grid_auto_rows": null,
            "grid_column": null,
            "grid_gap": null,
            "grid_row": null,
            "grid_template_areas": null,
            "grid_template_columns": null,
            "grid_template_rows": null,
            "height": null,
            "justify_content": null,
            "justify_items": null,
            "left": null,
            "margin": null,
            "max_height": null,
            "max_width": null,
            "min_height": null,
            "min_width": null,
            "object_fit": null,
            "object_position": null,
            "order": null,
            "overflow": null,
            "overflow_x": null,
            "overflow_y": null,
            "padding": null,
            "right": null,
            "top": null,
            "visibility": null,
            "width": null
          }
        },
        "3769e9728ac84b9dad96183457bebfaf": {
          "model_module": "@jupyter-widgets/controls",
          "model_name": "ProgressStyleModel",
          "model_module_version": "1.5.0",
          "state": {
            "_model_module": "@jupyter-widgets/controls",
            "_model_module_version": "1.5.0",
            "_model_name": "ProgressStyleModel",
            "_view_count": null,
            "_view_module": "@jupyter-widgets/base",
            "_view_module_version": "1.2.0",
            "_view_name": "StyleView",
            "bar_color": null,
            "description_width": ""
          }
        },
        "86372e1eb8dc42f09cacd564e6bb6b46": {
          "model_module": "@jupyter-widgets/base",
          "model_name": "LayoutModel",
          "model_module_version": "1.2.0",
          "state": {
            "_model_module": "@jupyter-widgets/base",
            "_model_module_version": "1.2.0",
            "_model_name": "LayoutModel",
            "_view_count": null,
            "_view_module": "@jupyter-widgets/base",
            "_view_module_version": "1.2.0",
            "_view_name": "LayoutView",
            "align_content": null,
            "align_items": null,
            "align_self": null,
            "border": null,
            "bottom": null,
            "display": null,
            "flex": null,
            "flex_flow": null,
            "grid_area": null,
            "grid_auto_columns": null,
            "grid_auto_flow": null,
            "grid_auto_rows": null,
            "grid_column": null,
            "grid_gap": null,
            "grid_row": null,
            "grid_template_areas": null,
            "grid_template_columns": null,
            "grid_template_rows": null,
            "height": null,
            "justify_content": null,
            "justify_items": null,
            "left": null,
            "margin": null,
            "max_height": null,
            "max_width": null,
            "min_height": null,
            "min_width": null,
            "object_fit": null,
            "object_position": null,
            "order": null,
            "overflow": null,
            "overflow_x": null,
            "overflow_y": null,
            "padding": null,
            "right": null,
            "top": null,
            "visibility": null,
            "width": null
          }
        },
        "8f9c2566acb94b42b4b96fb094896fb8": {
          "model_module": "@jupyter-widgets/controls",
          "model_name": "DescriptionStyleModel",
          "model_module_version": "1.5.0",
          "state": {
            "_model_module": "@jupyter-widgets/controls",
            "_model_module_version": "1.5.0",
            "_model_name": "DescriptionStyleModel",
            "_view_count": null,
            "_view_module": "@jupyter-widgets/base",
            "_view_module_version": "1.2.0",
            "_view_name": "StyleView",
            "description_width": ""
          }
        },
        "c38f1bccb471446db22739671eaa85f5": {
          "model_module": "@jupyter-widgets/controls",
          "model_name": "HBoxModel",
          "model_module_version": "1.5.0",
          "state": {
            "_dom_classes": [],
            "_model_module": "@jupyter-widgets/controls",
            "_model_module_version": "1.5.0",
            "_model_name": "HBoxModel",
            "_view_count": null,
            "_view_module": "@jupyter-widgets/controls",
            "_view_module_version": "1.5.0",
            "_view_name": "HBoxView",
            "box_style": "",
            "children": [
              "IPY_MODEL_452f6684439e4758bb56eedc7faae612",
              "IPY_MODEL_2ee6d01462054afa9136bb057d6434ff",
              "IPY_MODEL_32a061c1d37a4816ad74a1782696000f"
            ],
            "layout": "IPY_MODEL_e826e042d0cc45c184bda0b40cd330d7"
          }
        },
        "452f6684439e4758bb56eedc7faae612": {
          "model_module": "@jupyter-widgets/controls",
          "model_name": "HTMLModel",
          "model_module_version": "1.5.0",
          "state": {
            "_dom_classes": [],
            "_model_module": "@jupyter-widgets/controls",
            "_model_module_version": "1.5.0",
            "_model_name": "HTMLModel",
            "_view_count": null,
            "_view_module": "@jupyter-widgets/controls",
            "_view_module_version": "1.5.0",
            "_view_name": "HTMLView",
            "description": "",
            "description_tooltip": null,
            "layout": "IPY_MODEL_2a00e3a574b247c18273906f13cd4e1a",
            "placeholder": "​",
            "style": "IPY_MODEL_c7d144e0a66845719b0f0df979bc98e8",
            "value": "Generating train examples...: "
          }
        },
        "2ee6d01462054afa9136bb057d6434ff": {
          "model_module": "@jupyter-widgets/controls",
          "model_name": "FloatProgressModel",
          "model_module_version": "1.5.0",
          "state": {
            "_dom_classes": [],
            "_model_module": "@jupyter-widgets/controls",
            "_model_module_version": "1.5.0",
            "_model_name": "FloatProgressModel",
            "_view_count": null,
            "_view_module": "@jupyter-widgets/controls",
            "_view_module_version": "1.5.0",
            "_view_name": "ProgressView",
            "bar_style": "info",
            "description": "",
            "description_tooltip": null,
            "layout": "IPY_MODEL_8812905eab2045cdb857bc5db8bb04ca",
            "max": 1,
            "min": 0,
            "orientation": "horizontal",
            "style": "IPY_MODEL_65a2ff592b0149109879bba35f398e4b",
            "value": 1
          }
        },
        "32a061c1d37a4816ad74a1782696000f": {
          "model_module": "@jupyter-widgets/controls",
          "model_name": "HTMLModel",
          "model_module_version": "1.5.0",
          "state": {
            "_dom_classes": [],
            "_model_module": "@jupyter-widgets/controls",
            "_model_module_version": "1.5.0",
            "_model_name": "HTMLModel",
            "_view_count": null,
            "_view_module": "@jupyter-widgets/controls",
            "_view_module_version": "1.5.0",
            "_view_name": "HTMLView",
            "description": "",
            "description_tooltip": null,
            "layout": "IPY_MODEL_5e3f6394296340a285c3306123ee9279",
            "placeholder": "​",
            "style": "IPY_MODEL_4170181d28fb488a8fa6cdb398a91353",
            "value": " 58626/? [00:39&lt;00:00, 1469.89 examples/s]"
          }
        },
        "e826e042d0cc45c184bda0b40cd330d7": {
          "model_module": "@jupyter-widgets/base",
          "model_name": "LayoutModel",
          "model_module_version": "1.2.0",
          "state": {
            "_model_module": "@jupyter-widgets/base",
            "_model_module_version": "1.2.0",
            "_model_name": "LayoutModel",
            "_view_count": null,
            "_view_module": "@jupyter-widgets/base",
            "_view_module_version": "1.2.0",
            "_view_name": "LayoutView",
            "align_content": null,
            "align_items": null,
            "align_self": null,
            "border": null,
            "bottom": null,
            "display": null,
            "flex": null,
            "flex_flow": null,
            "grid_area": null,
            "grid_auto_columns": null,
            "grid_auto_flow": null,
            "grid_auto_rows": null,
            "grid_column": null,
            "grid_gap": null,
            "grid_row": null,
            "grid_template_areas": null,
            "grid_template_columns": null,
            "grid_template_rows": null,
            "height": null,
            "justify_content": null,
            "justify_items": null,
            "left": null,
            "margin": null,
            "max_height": null,
            "max_width": null,
            "min_height": null,
            "min_width": null,
            "object_fit": null,
            "object_position": null,
            "order": null,
            "overflow": null,
            "overflow_x": null,
            "overflow_y": null,
            "padding": null,
            "right": null,
            "top": null,
            "visibility": "hidden",
            "width": null
          }
        },
        "2a00e3a574b247c18273906f13cd4e1a": {
          "model_module": "@jupyter-widgets/base",
          "model_name": "LayoutModel",
          "model_module_version": "1.2.0",
          "state": {
            "_model_module": "@jupyter-widgets/base",
            "_model_module_version": "1.2.0",
            "_model_name": "LayoutModel",
            "_view_count": null,
            "_view_module": "@jupyter-widgets/base",
            "_view_module_version": "1.2.0",
            "_view_name": "LayoutView",
            "align_content": null,
            "align_items": null,
            "align_self": null,
            "border": null,
            "bottom": null,
            "display": null,
            "flex": null,
            "flex_flow": null,
            "grid_area": null,
            "grid_auto_columns": null,
            "grid_auto_flow": null,
            "grid_auto_rows": null,
            "grid_column": null,
            "grid_gap": null,
            "grid_row": null,
            "grid_template_areas": null,
            "grid_template_columns": null,
            "grid_template_rows": null,
            "height": null,
            "justify_content": null,
            "justify_items": null,
            "left": null,
            "margin": null,
            "max_height": null,
            "max_width": null,
            "min_height": null,
            "min_width": null,
            "object_fit": null,
            "object_position": null,
            "order": null,
            "overflow": null,
            "overflow_x": null,
            "overflow_y": null,
            "padding": null,
            "right": null,
            "top": null,
            "visibility": null,
            "width": null
          }
        },
        "c7d144e0a66845719b0f0df979bc98e8": {
          "model_module": "@jupyter-widgets/controls",
          "model_name": "DescriptionStyleModel",
          "model_module_version": "1.5.0",
          "state": {
            "_model_module": "@jupyter-widgets/controls",
            "_model_module_version": "1.5.0",
            "_model_name": "DescriptionStyleModel",
            "_view_count": null,
            "_view_module": "@jupyter-widgets/base",
            "_view_module_version": "1.2.0",
            "_view_name": "StyleView",
            "description_width": ""
          }
        },
        "8812905eab2045cdb857bc5db8bb04ca": {
          "model_module": "@jupyter-widgets/base",
          "model_name": "LayoutModel",
          "model_module_version": "1.2.0",
          "state": {
            "_model_module": "@jupyter-widgets/base",
            "_model_module_version": "1.2.0",
            "_model_name": "LayoutModel",
            "_view_count": null,
            "_view_module": "@jupyter-widgets/base",
            "_view_module_version": "1.2.0",
            "_view_name": "LayoutView",
            "align_content": null,
            "align_items": null,
            "align_self": null,
            "border": null,
            "bottom": null,
            "display": null,
            "flex": null,
            "flex_flow": null,
            "grid_area": null,
            "grid_auto_columns": null,
            "grid_auto_flow": null,
            "grid_auto_rows": null,
            "grid_column": null,
            "grid_gap": null,
            "grid_row": null,
            "grid_template_areas": null,
            "grid_template_columns": null,
            "grid_template_rows": null,
            "height": null,
            "justify_content": null,
            "justify_items": null,
            "left": null,
            "margin": null,
            "max_height": null,
            "max_width": null,
            "min_height": null,
            "min_width": null,
            "object_fit": null,
            "object_position": null,
            "order": null,
            "overflow": null,
            "overflow_x": null,
            "overflow_y": null,
            "padding": null,
            "right": null,
            "top": null,
            "visibility": null,
            "width": "20px"
          }
        },
        "65a2ff592b0149109879bba35f398e4b": {
          "model_module": "@jupyter-widgets/controls",
          "model_name": "ProgressStyleModel",
          "model_module_version": "1.5.0",
          "state": {
            "_model_module": "@jupyter-widgets/controls",
            "_model_module_version": "1.5.0",
            "_model_name": "ProgressStyleModel",
            "_view_count": null,
            "_view_module": "@jupyter-widgets/base",
            "_view_module_version": "1.2.0",
            "_view_name": "StyleView",
            "bar_color": null,
            "description_width": ""
          }
        },
        "5e3f6394296340a285c3306123ee9279": {
          "model_module": "@jupyter-widgets/base",
          "model_name": "LayoutModel",
          "model_module_version": "1.2.0",
          "state": {
            "_model_module": "@jupyter-widgets/base",
            "_model_module_version": "1.2.0",
            "_model_name": "LayoutModel",
            "_view_count": null,
            "_view_module": "@jupyter-widgets/base",
            "_view_module_version": "1.2.0",
            "_view_name": "LayoutView",
            "align_content": null,
            "align_items": null,
            "align_self": null,
            "border": null,
            "bottom": null,
            "display": null,
            "flex": null,
            "flex_flow": null,
            "grid_area": null,
            "grid_auto_columns": null,
            "grid_auto_flow": null,
            "grid_auto_rows": null,
            "grid_column": null,
            "grid_gap": null,
            "grid_row": null,
            "grid_template_areas": null,
            "grid_template_columns": null,
            "grid_template_rows": null,
            "height": null,
            "justify_content": null,
            "justify_items": null,
            "left": null,
            "margin": null,
            "max_height": null,
            "max_width": null,
            "min_height": null,
            "min_width": null,
            "object_fit": null,
            "object_position": null,
            "order": null,
            "overflow": null,
            "overflow_x": null,
            "overflow_y": null,
            "padding": null,
            "right": null,
            "top": null,
            "visibility": null,
            "width": null
          }
        },
        "4170181d28fb488a8fa6cdb398a91353": {
          "model_module": "@jupyter-widgets/controls",
          "model_name": "DescriptionStyleModel",
          "model_module_version": "1.5.0",
          "state": {
            "_model_module": "@jupyter-widgets/controls",
            "_model_module_version": "1.5.0",
            "_model_name": "DescriptionStyleModel",
            "_view_count": null,
            "_view_module": "@jupyter-widgets/base",
            "_view_module_version": "1.2.0",
            "_view_name": "StyleView",
            "description_width": ""
          }
        },
        "cdf60ba93f344328bb830aaef9461184": {
          "model_module": "@jupyter-widgets/controls",
          "model_name": "HBoxModel",
          "model_module_version": "1.5.0",
          "state": {
            "_dom_classes": [],
            "_model_module": "@jupyter-widgets/controls",
            "_model_module_version": "1.5.0",
            "_model_name": "HBoxModel",
            "_view_count": null,
            "_view_module": "@jupyter-widgets/controls",
            "_view_module_version": "1.5.0",
            "_view_name": "HBoxView",
            "box_style": "",
            "children": [
              "IPY_MODEL_5c34d9c6409f46fea11bd378917c7ccb",
              "IPY_MODEL_cd920672527747158b6dc07398987adc",
              "IPY_MODEL_55f11ba9af85499e81b153b64a1ff545"
            ],
            "layout": "IPY_MODEL_03c87a32766b497cba57767989e3e286"
          }
        },
        "5c34d9c6409f46fea11bd378917c7ccb": {
          "model_module": "@jupyter-widgets/controls",
          "model_name": "HTMLModel",
          "model_module_version": "1.5.0",
          "state": {
            "_dom_classes": [],
            "_model_module": "@jupyter-widgets/controls",
            "_model_module_version": "1.5.0",
            "_model_name": "HTMLModel",
            "_view_count": null,
            "_view_module": "@jupyter-widgets/controls",
            "_view_module_version": "1.5.0",
            "_view_name": "HTMLView",
            "description": "",
            "description_tooltip": null,
            "layout": "IPY_MODEL_5d1c793261d24c799f31bf5304186686",
            "placeholder": "​",
            "style": "IPY_MODEL_846e5dbb8a294e238e6c73ed5cce67f4",
            "value": "Shuffling /root/tensorflow_datasets/mnist/incomplete.93F0AX_3.0.1/mnist-train.tfrecord*...:   0%"
          }
        },
        "cd920672527747158b6dc07398987adc": {
          "model_module": "@jupyter-widgets/controls",
          "model_name": "FloatProgressModel",
          "model_module_version": "1.5.0",
          "state": {
            "_dom_classes": [],
            "_model_module": "@jupyter-widgets/controls",
            "_model_module_version": "1.5.0",
            "_model_name": "FloatProgressModel",
            "_view_count": null,
            "_view_module": "@jupyter-widgets/controls",
            "_view_module_version": "1.5.0",
            "_view_name": "ProgressView",
            "bar_style": "",
            "description": "",
            "description_tooltip": null,
            "layout": "IPY_MODEL_16bf3800862941ef8cdb6d1f8fad3990",
            "max": 60000,
            "min": 0,
            "orientation": "horizontal",
            "style": "IPY_MODEL_f3a84d507eae411cad96bc0a978cd421",
            "value": 60000
          }
        },
        "55f11ba9af85499e81b153b64a1ff545": {
          "model_module": "@jupyter-widgets/controls",
          "model_name": "HTMLModel",
          "model_module_version": "1.5.0",
          "state": {
            "_dom_classes": [],
            "_model_module": "@jupyter-widgets/controls",
            "_model_module_version": "1.5.0",
            "_model_name": "HTMLModel",
            "_view_count": null,
            "_view_module": "@jupyter-widgets/controls",
            "_view_module_version": "1.5.0",
            "_view_name": "HTMLView",
            "description": "",
            "description_tooltip": null,
            "layout": "IPY_MODEL_f983279e03c44337ad4fe8298ccf58c6",
            "placeholder": "​",
            "style": "IPY_MODEL_98758ab9fd294f7d85574cbf7406814c",
            "value": " 0/60000 [00:00&lt;?, ? examples/s]"
          }
        },
        "03c87a32766b497cba57767989e3e286": {
          "model_module": "@jupyter-widgets/base",
          "model_name": "LayoutModel",
          "model_module_version": "1.2.0",
          "state": {
            "_model_module": "@jupyter-widgets/base",
            "_model_module_version": "1.2.0",
            "_model_name": "LayoutModel",
            "_view_count": null,
            "_view_module": "@jupyter-widgets/base",
            "_view_module_version": "1.2.0",
            "_view_name": "LayoutView",
            "align_content": null,
            "align_items": null,
            "align_self": null,
            "border": null,
            "bottom": null,
            "display": null,
            "flex": null,
            "flex_flow": null,
            "grid_area": null,
            "grid_auto_columns": null,
            "grid_auto_flow": null,
            "grid_auto_rows": null,
            "grid_column": null,
            "grid_gap": null,
            "grid_row": null,
            "grid_template_areas": null,
            "grid_template_columns": null,
            "grid_template_rows": null,
            "height": null,
            "justify_content": null,
            "justify_items": null,
            "left": null,
            "margin": null,
            "max_height": null,
            "max_width": null,
            "min_height": null,
            "min_width": null,
            "object_fit": null,
            "object_position": null,
            "order": null,
            "overflow": null,
            "overflow_x": null,
            "overflow_y": null,
            "padding": null,
            "right": null,
            "top": null,
            "visibility": "hidden",
            "width": null
          }
        },
        "5d1c793261d24c799f31bf5304186686": {
          "model_module": "@jupyter-widgets/base",
          "model_name": "LayoutModel",
          "model_module_version": "1.2.0",
          "state": {
            "_model_module": "@jupyter-widgets/base",
            "_model_module_version": "1.2.0",
            "_model_name": "LayoutModel",
            "_view_count": null,
            "_view_module": "@jupyter-widgets/base",
            "_view_module_version": "1.2.0",
            "_view_name": "LayoutView",
            "align_content": null,
            "align_items": null,
            "align_self": null,
            "border": null,
            "bottom": null,
            "display": null,
            "flex": null,
            "flex_flow": null,
            "grid_area": null,
            "grid_auto_columns": null,
            "grid_auto_flow": null,
            "grid_auto_rows": null,
            "grid_column": null,
            "grid_gap": null,
            "grid_row": null,
            "grid_template_areas": null,
            "grid_template_columns": null,
            "grid_template_rows": null,
            "height": null,
            "justify_content": null,
            "justify_items": null,
            "left": null,
            "margin": null,
            "max_height": null,
            "max_width": null,
            "min_height": null,
            "min_width": null,
            "object_fit": null,
            "object_position": null,
            "order": null,
            "overflow": null,
            "overflow_x": null,
            "overflow_y": null,
            "padding": null,
            "right": null,
            "top": null,
            "visibility": null,
            "width": null
          }
        },
        "846e5dbb8a294e238e6c73ed5cce67f4": {
          "model_module": "@jupyter-widgets/controls",
          "model_name": "DescriptionStyleModel",
          "model_module_version": "1.5.0",
          "state": {
            "_model_module": "@jupyter-widgets/controls",
            "_model_module_version": "1.5.0",
            "_model_name": "DescriptionStyleModel",
            "_view_count": null,
            "_view_module": "@jupyter-widgets/base",
            "_view_module_version": "1.2.0",
            "_view_name": "StyleView",
            "description_width": ""
          }
        },
        "16bf3800862941ef8cdb6d1f8fad3990": {
          "model_module": "@jupyter-widgets/base",
          "model_name": "LayoutModel",
          "model_module_version": "1.2.0",
          "state": {
            "_model_module": "@jupyter-widgets/base",
            "_model_module_version": "1.2.0",
            "_model_name": "LayoutModel",
            "_view_count": null,
            "_view_module": "@jupyter-widgets/base",
            "_view_module_version": "1.2.0",
            "_view_name": "LayoutView",
            "align_content": null,
            "align_items": null,
            "align_self": null,
            "border": null,
            "bottom": null,
            "display": null,
            "flex": null,
            "flex_flow": null,
            "grid_area": null,
            "grid_auto_columns": null,
            "grid_auto_flow": null,
            "grid_auto_rows": null,
            "grid_column": null,
            "grid_gap": null,
            "grid_row": null,
            "grid_template_areas": null,
            "grid_template_columns": null,
            "grid_template_rows": null,
            "height": null,
            "justify_content": null,
            "justify_items": null,
            "left": null,
            "margin": null,
            "max_height": null,
            "max_width": null,
            "min_height": null,
            "min_width": null,
            "object_fit": null,
            "object_position": null,
            "order": null,
            "overflow": null,
            "overflow_x": null,
            "overflow_y": null,
            "padding": null,
            "right": null,
            "top": null,
            "visibility": null,
            "width": null
          }
        },
        "f3a84d507eae411cad96bc0a978cd421": {
          "model_module": "@jupyter-widgets/controls",
          "model_name": "ProgressStyleModel",
          "model_module_version": "1.5.0",
          "state": {
            "_model_module": "@jupyter-widgets/controls",
            "_model_module_version": "1.5.0",
            "_model_name": "ProgressStyleModel",
            "_view_count": null,
            "_view_module": "@jupyter-widgets/base",
            "_view_module_version": "1.2.0",
            "_view_name": "StyleView",
            "bar_color": null,
            "description_width": ""
          }
        },
        "f983279e03c44337ad4fe8298ccf58c6": {
          "model_module": "@jupyter-widgets/base",
          "model_name": "LayoutModel",
          "model_module_version": "1.2.0",
          "state": {
            "_model_module": "@jupyter-widgets/base",
            "_model_module_version": "1.2.0",
            "_model_name": "LayoutModel",
            "_view_count": null,
            "_view_module": "@jupyter-widgets/base",
            "_view_module_version": "1.2.0",
            "_view_name": "LayoutView",
            "align_content": null,
            "align_items": null,
            "align_self": null,
            "border": null,
            "bottom": null,
            "display": null,
            "flex": null,
            "flex_flow": null,
            "grid_area": null,
            "grid_auto_columns": null,
            "grid_auto_flow": null,
            "grid_auto_rows": null,
            "grid_column": null,
            "grid_gap": null,
            "grid_row": null,
            "grid_template_areas": null,
            "grid_template_columns": null,
            "grid_template_rows": null,
            "height": null,
            "justify_content": null,
            "justify_items": null,
            "left": null,
            "margin": null,
            "max_height": null,
            "max_width": null,
            "min_height": null,
            "min_width": null,
            "object_fit": null,
            "object_position": null,
            "order": null,
            "overflow": null,
            "overflow_x": null,
            "overflow_y": null,
            "padding": null,
            "right": null,
            "top": null,
            "visibility": null,
            "width": null
          }
        },
        "98758ab9fd294f7d85574cbf7406814c": {
          "model_module": "@jupyter-widgets/controls",
          "model_name": "DescriptionStyleModel",
          "model_module_version": "1.5.0",
          "state": {
            "_model_module": "@jupyter-widgets/controls",
            "_model_module_version": "1.5.0",
            "_model_name": "DescriptionStyleModel",
            "_view_count": null,
            "_view_module": "@jupyter-widgets/base",
            "_view_module_version": "1.2.0",
            "_view_name": "StyleView",
            "description_width": ""
          }
        },
        "e41c1ecddc1d4b36ad45318393beb06e": {
          "model_module": "@jupyter-widgets/controls",
          "model_name": "HBoxModel",
          "model_module_version": "1.5.0",
          "state": {
            "_dom_classes": [],
            "_model_module": "@jupyter-widgets/controls",
            "_model_module_version": "1.5.0",
            "_model_name": "HBoxModel",
            "_view_count": null,
            "_view_module": "@jupyter-widgets/controls",
            "_view_module_version": "1.5.0",
            "_view_name": "HBoxView",
            "box_style": "",
            "children": [
              "IPY_MODEL_7d83b940b4424f54a385e2bd35ef92c1",
              "IPY_MODEL_11f8aa8709b749dc88e7a2029fcfb96a",
              "IPY_MODEL_cd727542a2cc42f8b372cc13c50d7d47"
            ],
            "layout": "IPY_MODEL_e4d0d514fecc4826851aa0eb31dc9dca"
          }
        },
        "7d83b940b4424f54a385e2bd35ef92c1": {
          "model_module": "@jupyter-widgets/controls",
          "model_name": "HTMLModel",
          "model_module_version": "1.5.0",
          "state": {
            "_dom_classes": [],
            "_model_module": "@jupyter-widgets/controls",
            "_model_module_version": "1.5.0",
            "_model_name": "HTMLModel",
            "_view_count": null,
            "_view_module": "@jupyter-widgets/controls",
            "_view_module_version": "1.5.0",
            "_view_name": "HTMLView",
            "description": "",
            "description_tooltip": null,
            "layout": "IPY_MODEL_484c4eaf8aff4f57b5ea854124c28f2a",
            "placeholder": "​",
            "style": "IPY_MODEL_2d07dbc28ea843669bece831ab505d30",
            "value": "Generating test examples...: "
          }
        },
        "11f8aa8709b749dc88e7a2029fcfb96a": {
          "model_module": "@jupyter-widgets/controls",
          "model_name": "FloatProgressModel",
          "model_module_version": "1.5.0",
          "state": {
            "_dom_classes": [],
            "_model_module": "@jupyter-widgets/controls",
            "_model_module_version": "1.5.0",
            "_model_name": "FloatProgressModel",
            "_view_count": null,
            "_view_module": "@jupyter-widgets/controls",
            "_view_module_version": "1.5.0",
            "_view_name": "ProgressView",
            "bar_style": "info",
            "description": "",
            "description_tooltip": null,
            "layout": "IPY_MODEL_d06ca6f4fa4f429ebd4d06998e6eb896",
            "max": 1,
            "min": 0,
            "orientation": "horizontal",
            "style": "IPY_MODEL_6c54228bb701476dba3d856eb916546d",
            "value": 1
          }
        },
        "cd727542a2cc42f8b372cc13c50d7d47": {
          "model_module": "@jupyter-widgets/controls",
          "model_name": "HTMLModel",
          "model_module_version": "1.5.0",
          "state": {
            "_dom_classes": [],
            "_model_module": "@jupyter-widgets/controls",
            "_model_module_version": "1.5.0",
            "_model_name": "HTMLModel",
            "_view_count": null,
            "_view_module": "@jupyter-widgets/controls",
            "_view_module_version": "1.5.0",
            "_view_name": "HTMLView",
            "description": "",
            "description_tooltip": null,
            "layout": "IPY_MODEL_a76c21b12b69496db6f2a66d5c325c9f",
            "placeholder": "​",
            "style": "IPY_MODEL_a59b1186a29e44bba62f42ca6d26f78f",
            "value": " 9278/? [00:07&lt;00:00, 1480.59 examples/s]"
          }
        },
        "e4d0d514fecc4826851aa0eb31dc9dca": {
          "model_module": "@jupyter-widgets/base",
          "model_name": "LayoutModel",
          "model_module_version": "1.2.0",
          "state": {
            "_model_module": "@jupyter-widgets/base",
            "_model_module_version": "1.2.0",
            "_model_name": "LayoutModel",
            "_view_count": null,
            "_view_module": "@jupyter-widgets/base",
            "_view_module_version": "1.2.0",
            "_view_name": "LayoutView",
            "align_content": null,
            "align_items": null,
            "align_self": null,
            "border": null,
            "bottom": null,
            "display": null,
            "flex": null,
            "flex_flow": null,
            "grid_area": null,
            "grid_auto_columns": null,
            "grid_auto_flow": null,
            "grid_auto_rows": null,
            "grid_column": null,
            "grid_gap": null,
            "grid_row": null,
            "grid_template_areas": null,
            "grid_template_columns": null,
            "grid_template_rows": null,
            "height": null,
            "justify_content": null,
            "justify_items": null,
            "left": null,
            "margin": null,
            "max_height": null,
            "max_width": null,
            "min_height": null,
            "min_width": null,
            "object_fit": null,
            "object_position": null,
            "order": null,
            "overflow": null,
            "overflow_x": null,
            "overflow_y": null,
            "padding": null,
            "right": null,
            "top": null,
            "visibility": "hidden",
            "width": null
          }
        },
        "484c4eaf8aff4f57b5ea854124c28f2a": {
          "model_module": "@jupyter-widgets/base",
          "model_name": "LayoutModel",
          "model_module_version": "1.2.0",
          "state": {
            "_model_module": "@jupyter-widgets/base",
            "_model_module_version": "1.2.0",
            "_model_name": "LayoutModel",
            "_view_count": null,
            "_view_module": "@jupyter-widgets/base",
            "_view_module_version": "1.2.0",
            "_view_name": "LayoutView",
            "align_content": null,
            "align_items": null,
            "align_self": null,
            "border": null,
            "bottom": null,
            "display": null,
            "flex": null,
            "flex_flow": null,
            "grid_area": null,
            "grid_auto_columns": null,
            "grid_auto_flow": null,
            "grid_auto_rows": null,
            "grid_column": null,
            "grid_gap": null,
            "grid_row": null,
            "grid_template_areas": null,
            "grid_template_columns": null,
            "grid_template_rows": null,
            "height": null,
            "justify_content": null,
            "justify_items": null,
            "left": null,
            "margin": null,
            "max_height": null,
            "max_width": null,
            "min_height": null,
            "min_width": null,
            "object_fit": null,
            "object_position": null,
            "order": null,
            "overflow": null,
            "overflow_x": null,
            "overflow_y": null,
            "padding": null,
            "right": null,
            "top": null,
            "visibility": null,
            "width": null
          }
        },
        "2d07dbc28ea843669bece831ab505d30": {
          "model_module": "@jupyter-widgets/controls",
          "model_name": "DescriptionStyleModel",
          "model_module_version": "1.5.0",
          "state": {
            "_model_module": "@jupyter-widgets/controls",
            "_model_module_version": "1.5.0",
            "_model_name": "DescriptionStyleModel",
            "_view_count": null,
            "_view_module": "@jupyter-widgets/base",
            "_view_module_version": "1.2.0",
            "_view_name": "StyleView",
            "description_width": ""
          }
        },
        "d06ca6f4fa4f429ebd4d06998e6eb896": {
          "model_module": "@jupyter-widgets/base",
          "model_name": "LayoutModel",
          "model_module_version": "1.2.0",
          "state": {
            "_model_module": "@jupyter-widgets/base",
            "_model_module_version": "1.2.0",
            "_model_name": "LayoutModel",
            "_view_count": null,
            "_view_module": "@jupyter-widgets/base",
            "_view_module_version": "1.2.0",
            "_view_name": "LayoutView",
            "align_content": null,
            "align_items": null,
            "align_self": null,
            "border": null,
            "bottom": null,
            "display": null,
            "flex": null,
            "flex_flow": null,
            "grid_area": null,
            "grid_auto_columns": null,
            "grid_auto_flow": null,
            "grid_auto_rows": null,
            "grid_column": null,
            "grid_gap": null,
            "grid_row": null,
            "grid_template_areas": null,
            "grid_template_columns": null,
            "grid_template_rows": null,
            "height": null,
            "justify_content": null,
            "justify_items": null,
            "left": null,
            "margin": null,
            "max_height": null,
            "max_width": null,
            "min_height": null,
            "min_width": null,
            "object_fit": null,
            "object_position": null,
            "order": null,
            "overflow": null,
            "overflow_x": null,
            "overflow_y": null,
            "padding": null,
            "right": null,
            "top": null,
            "visibility": null,
            "width": "20px"
          }
        },
        "6c54228bb701476dba3d856eb916546d": {
          "model_module": "@jupyter-widgets/controls",
          "model_name": "ProgressStyleModel",
          "model_module_version": "1.5.0",
          "state": {
            "_model_module": "@jupyter-widgets/controls",
            "_model_module_version": "1.5.0",
            "_model_name": "ProgressStyleModel",
            "_view_count": null,
            "_view_module": "@jupyter-widgets/base",
            "_view_module_version": "1.2.0",
            "_view_name": "StyleView",
            "bar_color": null,
            "description_width": ""
          }
        },
        "a76c21b12b69496db6f2a66d5c325c9f": {
          "model_module": "@jupyter-widgets/base",
          "model_name": "LayoutModel",
          "model_module_version": "1.2.0",
          "state": {
            "_model_module": "@jupyter-widgets/base",
            "_model_module_version": "1.2.0",
            "_model_name": "LayoutModel",
            "_view_count": null,
            "_view_module": "@jupyter-widgets/base",
            "_view_module_version": "1.2.0",
            "_view_name": "LayoutView",
            "align_content": null,
            "align_items": null,
            "align_self": null,
            "border": null,
            "bottom": null,
            "display": null,
            "flex": null,
            "flex_flow": null,
            "grid_area": null,
            "grid_auto_columns": null,
            "grid_auto_flow": null,
            "grid_auto_rows": null,
            "grid_column": null,
            "grid_gap": null,
            "grid_row": null,
            "grid_template_areas": null,
            "grid_template_columns": null,
            "grid_template_rows": null,
            "height": null,
            "justify_content": null,
            "justify_items": null,
            "left": null,
            "margin": null,
            "max_height": null,
            "max_width": null,
            "min_height": null,
            "min_width": null,
            "object_fit": null,
            "object_position": null,
            "order": null,
            "overflow": null,
            "overflow_x": null,
            "overflow_y": null,
            "padding": null,
            "right": null,
            "top": null,
            "visibility": null,
            "width": null
          }
        },
        "a59b1186a29e44bba62f42ca6d26f78f": {
          "model_module": "@jupyter-widgets/controls",
          "model_name": "DescriptionStyleModel",
          "model_module_version": "1.5.0",
          "state": {
            "_model_module": "@jupyter-widgets/controls",
            "_model_module_version": "1.5.0",
            "_model_name": "DescriptionStyleModel",
            "_view_count": null,
            "_view_module": "@jupyter-widgets/base",
            "_view_module_version": "1.2.0",
            "_view_name": "StyleView",
            "description_width": ""
          }
        },
        "8dea08c208474df18cd04b7dc7d7e88f": {
          "model_module": "@jupyter-widgets/controls",
          "model_name": "HBoxModel",
          "model_module_version": "1.5.0",
          "state": {
            "_dom_classes": [],
            "_model_module": "@jupyter-widgets/controls",
            "_model_module_version": "1.5.0",
            "_model_name": "HBoxModel",
            "_view_count": null,
            "_view_module": "@jupyter-widgets/controls",
            "_view_module_version": "1.5.0",
            "_view_name": "HBoxView",
            "box_style": "",
            "children": [
              "IPY_MODEL_35b472913d29417eb41c9fd65e9e5b79",
              "IPY_MODEL_6b22734eb03249a28332cbf3dc05df9c",
              "IPY_MODEL_c4b9ca82a14443559e0ec6bbdd4b7676"
            ],
            "layout": "IPY_MODEL_de6a445307cb4f8bbbfa907e9ad4fc45"
          }
        },
        "35b472913d29417eb41c9fd65e9e5b79": {
          "model_module": "@jupyter-widgets/controls",
          "model_name": "HTMLModel",
          "model_module_version": "1.5.0",
          "state": {
            "_dom_classes": [],
            "_model_module": "@jupyter-widgets/controls",
            "_model_module_version": "1.5.0",
            "_model_name": "HTMLModel",
            "_view_count": null,
            "_view_module": "@jupyter-widgets/controls",
            "_view_module_version": "1.5.0",
            "_view_name": "HTMLView",
            "description": "",
            "description_tooltip": null,
            "layout": "IPY_MODEL_17740573d59d4f5a9079bf4f280eee77",
            "placeholder": "​",
            "style": "IPY_MODEL_649f1b46b7484e2eb3514b77e8b71573",
            "value": "Shuffling /root/tensorflow_datasets/mnist/incomplete.93F0AX_3.0.1/mnist-test.tfrecord*...:   0%"
          }
        },
        "6b22734eb03249a28332cbf3dc05df9c": {
          "model_module": "@jupyter-widgets/controls",
          "model_name": "FloatProgressModel",
          "model_module_version": "1.5.0",
          "state": {
            "_dom_classes": [],
            "_model_module": "@jupyter-widgets/controls",
            "_model_module_version": "1.5.0",
            "_model_name": "FloatProgressModel",
            "_view_count": null,
            "_view_module": "@jupyter-widgets/controls",
            "_view_module_version": "1.5.0",
            "_view_name": "ProgressView",
            "bar_style": "",
            "description": "",
            "description_tooltip": null,
            "layout": "IPY_MODEL_7e87e9096b3e4933b76a670b92df1184",
            "max": 10000,
            "min": 0,
            "orientation": "horizontal",
            "style": "IPY_MODEL_dce82e32c2e64f0d9f61c708d0e5e962",
            "value": 10000
          }
        },
        "c4b9ca82a14443559e0ec6bbdd4b7676": {
          "model_module": "@jupyter-widgets/controls",
          "model_name": "HTMLModel",
          "model_module_version": "1.5.0",
          "state": {
            "_dom_classes": [],
            "_model_module": "@jupyter-widgets/controls",
            "_model_module_version": "1.5.0",
            "_model_name": "HTMLModel",
            "_view_count": null,
            "_view_module": "@jupyter-widgets/controls",
            "_view_module_version": "1.5.0",
            "_view_name": "HTMLView",
            "description": "",
            "description_tooltip": null,
            "layout": "IPY_MODEL_22fe83e903a6420e8e75600e336d9e4c",
            "placeholder": "​",
            "style": "IPY_MODEL_e82b4526d8384a4286b40967a79014a2",
            "value": " 0/10000 [00:00&lt;?, ? examples/s]"
          }
        },
        "de6a445307cb4f8bbbfa907e9ad4fc45": {
          "model_module": "@jupyter-widgets/base",
          "model_name": "LayoutModel",
          "model_module_version": "1.2.0",
          "state": {
            "_model_module": "@jupyter-widgets/base",
            "_model_module_version": "1.2.0",
            "_model_name": "LayoutModel",
            "_view_count": null,
            "_view_module": "@jupyter-widgets/base",
            "_view_module_version": "1.2.0",
            "_view_name": "LayoutView",
            "align_content": null,
            "align_items": null,
            "align_self": null,
            "border": null,
            "bottom": null,
            "display": null,
            "flex": null,
            "flex_flow": null,
            "grid_area": null,
            "grid_auto_columns": null,
            "grid_auto_flow": null,
            "grid_auto_rows": null,
            "grid_column": null,
            "grid_gap": null,
            "grid_row": null,
            "grid_template_areas": null,
            "grid_template_columns": null,
            "grid_template_rows": null,
            "height": null,
            "justify_content": null,
            "justify_items": null,
            "left": null,
            "margin": null,
            "max_height": null,
            "max_width": null,
            "min_height": null,
            "min_width": null,
            "object_fit": null,
            "object_position": null,
            "order": null,
            "overflow": null,
            "overflow_x": null,
            "overflow_y": null,
            "padding": null,
            "right": null,
            "top": null,
            "visibility": "hidden",
            "width": null
          }
        },
        "17740573d59d4f5a9079bf4f280eee77": {
          "model_module": "@jupyter-widgets/base",
          "model_name": "LayoutModel",
          "model_module_version": "1.2.0",
          "state": {
            "_model_module": "@jupyter-widgets/base",
            "_model_module_version": "1.2.0",
            "_model_name": "LayoutModel",
            "_view_count": null,
            "_view_module": "@jupyter-widgets/base",
            "_view_module_version": "1.2.0",
            "_view_name": "LayoutView",
            "align_content": null,
            "align_items": null,
            "align_self": null,
            "border": null,
            "bottom": null,
            "display": null,
            "flex": null,
            "flex_flow": null,
            "grid_area": null,
            "grid_auto_columns": null,
            "grid_auto_flow": null,
            "grid_auto_rows": null,
            "grid_column": null,
            "grid_gap": null,
            "grid_row": null,
            "grid_template_areas": null,
            "grid_template_columns": null,
            "grid_template_rows": null,
            "height": null,
            "justify_content": null,
            "justify_items": null,
            "left": null,
            "margin": null,
            "max_height": null,
            "max_width": null,
            "min_height": null,
            "min_width": null,
            "object_fit": null,
            "object_position": null,
            "order": null,
            "overflow": null,
            "overflow_x": null,
            "overflow_y": null,
            "padding": null,
            "right": null,
            "top": null,
            "visibility": null,
            "width": null
          }
        },
        "649f1b46b7484e2eb3514b77e8b71573": {
          "model_module": "@jupyter-widgets/controls",
          "model_name": "DescriptionStyleModel",
          "model_module_version": "1.5.0",
          "state": {
            "_model_module": "@jupyter-widgets/controls",
            "_model_module_version": "1.5.0",
            "_model_name": "DescriptionStyleModel",
            "_view_count": null,
            "_view_module": "@jupyter-widgets/base",
            "_view_module_version": "1.2.0",
            "_view_name": "StyleView",
            "description_width": ""
          }
        },
        "7e87e9096b3e4933b76a670b92df1184": {
          "model_module": "@jupyter-widgets/base",
          "model_name": "LayoutModel",
          "model_module_version": "1.2.0",
          "state": {
            "_model_module": "@jupyter-widgets/base",
            "_model_module_version": "1.2.0",
            "_model_name": "LayoutModel",
            "_view_count": null,
            "_view_module": "@jupyter-widgets/base",
            "_view_module_version": "1.2.0",
            "_view_name": "LayoutView",
            "align_content": null,
            "align_items": null,
            "align_self": null,
            "border": null,
            "bottom": null,
            "display": null,
            "flex": null,
            "flex_flow": null,
            "grid_area": null,
            "grid_auto_columns": null,
            "grid_auto_flow": null,
            "grid_auto_rows": null,
            "grid_column": null,
            "grid_gap": null,
            "grid_row": null,
            "grid_template_areas": null,
            "grid_template_columns": null,
            "grid_template_rows": null,
            "height": null,
            "justify_content": null,
            "justify_items": null,
            "left": null,
            "margin": null,
            "max_height": null,
            "max_width": null,
            "min_height": null,
            "min_width": null,
            "object_fit": null,
            "object_position": null,
            "order": null,
            "overflow": null,
            "overflow_x": null,
            "overflow_y": null,
            "padding": null,
            "right": null,
            "top": null,
            "visibility": null,
            "width": null
          }
        },
        "dce82e32c2e64f0d9f61c708d0e5e962": {
          "model_module": "@jupyter-widgets/controls",
          "model_name": "ProgressStyleModel",
          "model_module_version": "1.5.0",
          "state": {
            "_model_module": "@jupyter-widgets/controls",
            "_model_module_version": "1.5.0",
            "_model_name": "ProgressStyleModel",
            "_view_count": null,
            "_view_module": "@jupyter-widgets/base",
            "_view_module_version": "1.2.0",
            "_view_name": "StyleView",
            "bar_color": null,
            "description_width": ""
          }
        },
        "22fe83e903a6420e8e75600e336d9e4c": {
          "model_module": "@jupyter-widgets/base",
          "model_name": "LayoutModel",
          "model_module_version": "1.2.0",
          "state": {
            "_model_module": "@jupyter-widgets/base",
            "_model_module_version": "1.2.0",
            "_model_name": "LayoutModel",
            "_view_count": null,
            "_view_module": "@jupyter-widgets/base",
            "_view_module_version": "1.2.0",
            "_view_name": "LayoutView",
            "align_content": null,
            "align_items": null,
            "align_self": null,
            "border": null,
            "bottom": null,
            "display": null,
            "flex": null,
            "flex_flow": null,
            "grid_area": null,
            "grid_auto_columns": null,
            "grid_auto_flow": null,
            "grid_auto_rows": null,
            "grid_column": null,
            "grid_gap": null,
            "grid_row": null,
            "grid_template_areas": null,
            "grid_template_columns": null,
            "grid_template_rows": null,
            "height": null,
            "justify_content": null,
            "justify_items": null,
            "left": null,
            "margin": null,
            "max_height": null,
            "max_width": null,
            "min_height": null,
            "min_width": null,
            "object_fit": null,
            "object_position": null,
            "order": null,
            "overflow": null,
            "overflow_x": null,
            "overflow_y": null,
            "padding": null,
            "right": null,
            "top": null,
            "visibility": null,
            "width": null
          }
        },
        "e82b4526d8384a4286b40967a79014a2": {
          "model_module": "@jupyter-widgets/controls",
          "model_name": "DescriptionStyleModel",
          "model_module_version": "1.5.0",
          "state": {
            "_model_module": "@jupyter-widgets/controls",
            "_model_module_version": "1.5.0",
            "_model_name": "DescriptionStyleModel",
            "_view_count": null,
            "_view_module": "@jupyter-widgets/base",
            "_view_module_version": "1.2.0",
            "_view_name": "StyleView",
            "description_width": ""
          }
        }
      }
    },
    "kaggle": {
      "accelerator": "nvidiaTeslaT4",
      "dataSources": [],
      "dockerImageVersionId": 31089,
      "isInternetEnabled": true,
      "language": "python",
      "sourceType": "notebook",
      "isGpuEnabled": true
    }
  },
  "nbformat_minor": 0,
  "nbformat": 4,
  "cells": [
    {
      "cell_type": "code",
      "source": [
        "import tensorflow as tf\n",
        "from tqdm import tqdm\n",
        "from google.colab import runtime\n",
        "import matplotlib.pyplot as plt\n",
        "import tensorflow_datasets as tfds\n",
        "import tensorflow_probability as tfp\n",
        "from sklearn.decomposition import PCA\n",
        "import numpy as np"
      ],
      "metadata": {
        "id": "LjgOvJnDE58d",
        "trusted": true,
        "execution": {
          "iopub.status.busy": "2025-07-27T05:12:29.676254Z",
          "iopub.execute_input": "2025-07-27T05:12:29.676523Z",
          "iopub.status.idle": "2025-07-27T05:12:55.077426Z",
          "shell.execute_reply.started": "2025-07-27T05:12:29.676502Z",
          "shell.execute_reply": "2025-07-27T05:12:55.076644Z"
        }
      },
      "outputs": [],
      "execution_count": null
    },
    {
      "cell_type": "markdown",
      "source": [
        "## Loading the data"
      ],
      "metadata": {
        "id": "qIQ7K97n9e9h"
      }
    },
    {
      "cell_type": "code",
      "source": [
        "(train_ds, test_ds) = tfds.load(\n",
        "    'mnist',\n",
        "    split=['train', 'test'],\n",
        "    shuffle_files=True,\n",
        "    as_supervised=False,\n",
        "    with_info=False,\n",
        "    batch_size = 64\n",
        ")"
      ],
      "metadata": {
        "id": "C9gtG6fj9gqe",
        "colab": {
          "base_uri": "https://localhost:8080/",
          "height": 167,
          "referenced_widgets": [
            "b7f688a90bea4c2db2fc3d900fdfc5be",
            "b6aa51c4042843138c8dd024e070f9db",
            "debcbc3911bc44fe84005f5115ab00ae",
            "6c5ea247c6c446148c75cbcd6a22230d",
            "4b6ac541b0dd4a8b95a1c71262408c3c",
            "9d9bf0035e034233ac7ed3cd39ff80dc",
            "21cc0fdc17bd42429315487e703b665b",
            "c0d31d015b1a47a1bd7a8a21fd5edca3",
            "42e4bf11c4cb41089f6d28e2d799a851",
            "6d75fe8256eb408e8527af47314aab44",
            "698ad5ffdc8f4485a98e9bbeab72607d",
            "86eb1b1da06c44fbaeaff1fad42387fa",
            "69cb9774180948c8b8a81e15e50067f3",
            "4c66697dbd0b45b49728922f06b050a3",
            "2a603235fd6e4d16a2bb43de26187c8d",
            "18fd9de45a09484a88849dfb724e9920",
            "6e7e91b3b5c34614a278cd54af99c994",
            "dfe24704ac5845e284034df6511f7b43",
            "56c71012d31c4354a747e451e47c0054",
            "e4749f8efa2c4d39927e7a8716fe03cf",
            "a0c5cf33f14449eba1ce1572e7d04bba",
            "0f41a519749d4b669b152a4491c6c288",
            "80b79daca507434883908f43040b6ca6",
            "aecf1d2891ec4f6681d88e692b84e556",
            "b59de582add444d89361bcc53900442b",
            "8996e2c9b75b482f9b1285573bd55cc2",
            "6df3af419ebb461b9527796ff79ae3c6",
            "31d0835422114abc893b1087f772a9ac",
            "3f5a48f93ea4457b8a87217a3ed79758",
            "019a243e651241b3ad98cc5ff6c29a4a",
            "1e710790557146eabc828319c5840130",
            "36cbb68845454b3d99e340f1c97abbcc",
            "84a9cb8a7f224b268229f2a52d258fb0",
            "d4347542fda947149dd5d088f637646d",
            "83743df95c1043e59f1a1d5e23f7bc21",
            "c3c9a11ff16044cb8f86bc2a438a0cec",
            "09a01f17dc034f31928a9df3ab9f5578",
            "9d88eaa198354ae9b6aafe8c72876bf1",
            "3c19f3fce7eb4fff933462b2d9a00910",
            "faacd23592074e709ea6d61d686f9762",
            "437f9b66d55d4727876b16dd92e4ebb6",
            "3769e9728ac84b9dad96183457bebfaf",
            "86372e1eb8dc42f09cacd564e6bb6b46",
            "8f9c2566acb94b42b4b96fb094896fb8",
            "c38f1bccb471446db22739671eaa85f5",
            "452f6684439e4758bb56eedc7faae612",
            "2ee6d01462054afa9136bb057d6434ff",
            "32a061c1d37a4816ad74a1782696000f",
            "e826e042d0cc45c184bda0b40cd330d7",
            "2a00e3a574b247c18273906f13cd4e1a",
            "c7d144e0a66845719b0f0df979bc98e8",
            "8812905eab2045cdb857bc5db8bb04ca",
            "65a2ff592b0149109879bba35f398e4b",
            "5e3f6394296340a285c3306123ee9279",
            "4170181d28fb488a8fa6cdb398a91353",
            "cdf60ba93f344328bb830aaef9461184",
            "5c34d9c6409f46fea11bd378917c7ccb",
            "cd920672527747158b6dc07398987adc",
            "55f11ba9af85499e81b153b64a1ff545",
            "03c87a32766b497cba57767989e3e286",
            "5d1c793261d24c799f31bf5304186686",
            "846e5dbb8a294e238e6c73ed5cce67f4",
            "16bf3800862941ef8cdb6d1f8fad3990",
            "f3a84d507eae411cad96bc0a978cd421",
            "f983279e03c44337ad4fe8298ccf58c6",
            "98758ab9fd294f7d85574cbf7406814c",
            "e41c1ecddc1d4b36ad45318393beb06e",
            "7d83b940b4424f54a385e2bd35ef92c1",
            "11f8aa8709b749dc88e7a2029fcfb96a",
            "cd727542a2cc42f8b372cc13c50d7d47",
            "e4d0d514fecc4826851aa0eb31dc9dca",
            "484c4eaf8aff4f57b5ea854124c28f2a",
            "2d07dbc28ea843669bece831ab505d30",
            "d06ca6f4fa4f429ebd4d06998e6eb896",
            "6c54228bb701476dba3d856eb916546d",
            "a76c21b12b69496db6f2a66d5c325c9f",
            "a59b1186a29e44bba62f42ca6d26f78f",
            "8dea08c208474df18cd04b7dc7d7e88f",
            "35b472913d29417eb41c9fd65e9e5b79",
            "6b22734eb03249a28332cbf3dc05df9c",
            "c4b9ca82a14443559e0ec6bbdd4b7676",
            "de6a445307cb4f8bbbfa907e9ad4fc45",
            "17740573d59d4f5a9079bf4f280eee77",
            "649f1b46b7484e2eb3514b77e8b71573",
            "7e87e9096b3e4933b76a670b92df1184",
            "dce82e32c2e64f0d9f61c708d0e5e962",
            "22fe83e903a6420e8e75600e336d9e4c",
            "e82b4526d8384a4286b40967a79014a2"
          ]
        },
        "outputId": "6bb0759d-3c90-4ca8-ffdf-85c0ffbfa178",
        "trusted": true,
        "execution": {
          "iopub.status.busy": "2025-07-27T05:12:55.078711Z",
          "iopub.execute_input": "2025-07-27T05:12:55.079249Z",
          "iopub.status.idle": "2025-07-27T05:13:55.100469Z",
          "shell.execute_reply.started": "2025-07-27T05:12:55.079227Z",
          "shell.execute_reply": "2025-07-27T05:13:55.099908Z"
        }
      },
      "outputs": [
        {
          "output_type": "stream",
          "name": "stderr",
          "text": [
            "WARNING:absl:Variant folder /root/tensorflow_datasets/mnist/3.0.1 has no dataset_info.json\n"
          ]
        },
        {
          "output_type": "stream",
          "name": "stdout",
          "text": [
            "Downloading and preparing dataset Unknown size (download: Unknown size, generated: Unknown size, total: Unknown size) to /root/tensorflow_datasets/mnist/3.0.1...\n"
          ]
        },
        {
          "output_type": "display_data",
          "data": {
            "text/plain": [
              "Dl Completed...: 0 url [00:00, ? url/s]"
            ],
            "application/vnd.jupyter.widget-view+json": {
              "version_major": 2,
              "version_minor": 0,
              "model_id": "b7f688a90bea4c2db2fc3d900fdfc5be"
            }
          },
          "metadata": {}
        },
        {
          "output_type": "display_data",
          "data": {
            "text/plain": [
              "Dl Size...: 0 MiB [00:00, ? MiB/s]"
            ],
            "application/vnd.jupyter.widget-view+json": {
              "version_major": 2,
              "version_minor": 0,
              "model_id": "86eb1b1da06c44fbaeaff1fad42387fa"
            }
          },
          "metadata": {}
        },
        {
          "output_type": "display_data",
          "data": {
            "text/plain": [
              "Extraction completed...: 0 file [00:00, ? file/s]"
            ],
            "application/vnd.jupyter.widget-view+json": {
              "version_major": 2,
              "version_minor": 0,
              "model_id": "80b79daca507434883908f43040b6ca6"
            }
          },
          "metadata": {}
        },
        {
          "output_type": "display_data",
          "data": {
            "text/plain": [
              "Generating splits...:   0%|          | 0/2 [00:00<?, ? splits/s]"
            ],
            "application/vnd.jupyter.widget-view+json": {
              "version_major": 2,
              "version_minor": 0,
              "model_id": "d4347542fda947149dd5d088f637646d"
            }
          },
          "metadata": {}
        },
        {
          "output_type": "display_data",
          "data": {
            "text/plain": [
              "Generating train examples...: 0 examples [00:00, ? examples/s]"
            ],
            "application/vnd.jupyter.widget-view+json": {
              "version_major": 2,
              "version_minor": 0,
              "model_id": "c38f1bccb471446db22739671eaa85f5"
            }
          },
          "metadata": {}
        },
        {
          "output_type": "display_data",
          "data": {
            "text/plain": [
              "Shuffling /root/tensorflow_datasets/mnist/incomplete.93F0AX_3.0.1/mnist-train.tfrecord*...:   0%|          | 0…"
            ],
            "application/vnd.jupyter.widget-view+json": {
              "version_major": 2,
              "version_minor": 0,
              "model_id": "cdf60ba93f344328bb830aaef9461184"
            }
          },
          "metadata": {}
        },
        {
          "output_type": "display_data",
          "data": {
            "text/plain": [
              "Generating test examples...: 0 examples [00:00, ? examples/s]"
            ],
            "application/vnd.jupyter.widget-view+json": {
              "version_major": 2,
              "version_minor": 0,
              "model_id": "e41c1ecddc1d4b36ad45318393beb06e"
            }
          },
          "metadata": {}
        },
        {
          "output_type": "display_data",
          "data": {
            "text/plain": [
              "Shuffling /root/tensorflow_datasets/mnist/incomplete.93F0AX_3.0.1/mnist-test.tfrecord*...:   0%|          | 0/…"
            ],
            "application/vnd.jupyter.widget-view+json": {
              "version_major": 2,
              "version_minor": 0,
              "model_id": "8dea08c208474df18cd04b7dc7d7e88f"
            }
          },
          "metadata": {}
        },
        {
          "output_type": "stream",
          "name": "stdout",
          "text": [
            "Dataset mnist downloaded and prepared to /root/tensorflow_datasets/mnist/3.0.1. Subsequent calls will reuse this data.\n"
          ]
        }
      ],
      "execution_count": null
    },
    {
      "cell_type": "code",
      "source": [
        "train_ds"
      ],
      "metadata": {
        "colab": {
          "base_uri": "https://localhost:8080/"
        },
        "id": "Z7CF8zlTqH81",
        "outputId": "81901a44-471e-4037-ee8f-bab81a0ac117",
        "trusted": true,
        "execution": {
          "iopub.status.busy": "2025-07-27T05:13:55.101129Z",
          "iopub.execute_input": "2025-07-27T05:13:55.101346Z",
          "iopub.status.idle": "2025-07-27T05:13:55.106210Z",
          "shell.execute_reply.started": "2025-07-27T05:13:55.101329Z",
          "shell.execute_reply": "2025-07-27T05:13:55.105474Z"
        }
      },
      "outputs": [
        {
          "output_type": "execute_result",
          "data": {
            "text/plain": [
              "<_PrefetchDataset element_spec={'image': TensorSpec(shape=(None, 28, 28, 1), dtype=tf.uint8, name=None), 'label': TensorSpec(shape=(None,), dtype=tf.int64, name=None)}>"
            ]
          },
          "metadata": {},
          "execution_count": 3
        }
      ],
      "execution_count": null
    },
    {
      "cell_type": "code",
      "source": [
        "combined_dataset = train_ds.concatenate(test_ds) # We're generating new images, so test set doesn't make sense here"
      ],
      "metadata": {
        "id": "ZK206K9oA8JR",
        "trusted": true,
        "execution": {
          "iopub.status.busy": "2025-07-27T05:13:55.107610Z",
          "iopub.execute_input": "2025-07-27T05:13:55.107838Z",
          "iopub.status.idle": "2025-07-27T05:13:55.128535Z",
          "shell.execute_reply.started": "2025-07-27T05:13:55.107821Z",
          "shell.execute_reply": "2025-07-27T05:13:55.128012Z"
        }
      },
      "outputs": [],
      "execution_count": null
    },
    {
      "cell_type": "code",
      "source": [
        "images_only_dataset = combined_dataset.map(lambda features_dict: features_dict['image'])"
      ],
      "metadata": {
        "id": "5KlF49BRBP4R",
        "trusted": true,
        "execution": {
          "iopub.status.busy": "2025-07-27T05:13:55.129303Z",
          "iopub.execute_input": "2025-07-27T05:13:55.129503Z",
          "iopub.status.idle": "2025-07-27T05:13:55.156043Z",
          "shell.execute_reply.started": "2025-07-27T05:13:55.129488Z",
          "shell.execute_reply": "2025-07-27T05:13:55.155558Z"
        }
      },
      "outputs": [],
      "execution_count": null
    },
    {
      "cell_type": "code",
      "source": [
        "IMG_PREPROCESSOR = tf.keras.Sequential([tf.keras.layers.Resizing(64,64), tf.keras.layers.Rescaling(1.0/255)])"
      ],
      "metadata": {
        "id": "rK9Nm4N3-kBv",
        "trusted": true,
        "execution": {
          "iopub.status.busy": "2025-07-27T05:13:55.156622Z",
          "iopub.execute_input": "2025-07-27T05:13:55.157085Z",
          "iopub.status.idle": "2025-07-27T05:13:55.162471Z",
          "shell.execute_reply.started": "2025-07-27T05:13:55.157068Z",
          "shell.execute_reply": "2025-07-27T05:13:55.161803Z"
        }
      },
      "outputs": [],
      "execution_count": null
    },
    {
      "cell_type": "code",
      "source": [
        "images_only_dataset = images_only_dataset.map(IMG_PREPROCESSOR)"
      ],
      "metadata": {
        "id": "Lcy_7U75BF79",
        "trusted": true,
        "execution": {
          "iopub.status.busy": "2025-07-27T05:13:55.163291Z",
          "iopub.execute_input": "2025-07-27T05:13:55.163499Z",
          "iopub.status.idle": "2025-07-27T05:13:55.210906Z",
          "shell.execute_reply.started": "2025-07-27T05:13:55.163475Z",
          "shell.execute_reply": "2025-07-27T05:13:55.210163Z"
        }
      },
      "outputs": [],
      "execution_count": null
    },
    {
      "cell_type": "code",
      "source": [
        "processed_dataset = combined_dataset.map(lambda feature_dict: {'image': IMG_PREPROCESSOR(feature_dict['image']), 'label': feature_dict['label']})"
      ],
      "metadata": {
        "id": "ATB_ZJOtrJSm",
        "trusted": true,
        "execution": {
          "iopub.status.busy": "2025-07-27T05:13:55.211637Z",
          "iopub.execute_input": "2025-07-27T05:13:55.211847Z",
          "iopub.status.idle": "2025-07-27T05:13:55.252381Z",
          "shell.execute_reply.started": "2025-07-27T05:13:55.211830Z",
          "shell.execute_reply": "2025-07-27T05:13:55.251879Z"
        }
      },
      "outputs": [],
      "execution_count": null
    },
    {
      "cell_type": "markdown",
      "source": [
        "## Visualize the data"
      ],
      "metadata": {
        "id": "hBoz58kq8Fl-"
      }
    },
    {
      "cell_type": "code",
      "source": [
        "def plot_img(img):\n",
        "    plt.imshow(img)\n",
        "    plt.show()"
      ],
      "metadata": {
        "id": "wEP_A_kI9cCc",
        "trusted": true,
        "execution": {
          "iopub.status.busy": "2025-07-27T05:13:55.253037Z",
          "iopub.execute_input": "2025-07-27T05:13:55.253205Z",
          "iopub.status.idle": "2025-07-27T05:13:55.256891Z",
          "shell.execute_reply.started": "2025-07-27T05:13:55.253192Z",
          "shell.execute_reply": "2025-07-27T05:13:55.256205Z"
        }
      },
      "outputs": [],
      "execution_count": null
    },
    {
      "cell_type": "markdown",
      "source": [
        "## Defining VAE components"
      ],
      "metadata": {
        "id": "PQl0sXqFBu5u"
      }
    },
    {
      "cell_type": "code",
      "source": [
        "class GaussianNoise():\n",
        "    def sample(self, inputs):\n",
        "        mu, logvar = inputs\n",
        "        return tfp.distributions.Normal(loc = mu, scale = tf.math.exp(logvar * 0.5)).sample()"
      ],
      "metadata": {
        "id": "Y_b7kxGIBq-2",
        "trusted": true,
        "execution": {
          "iopub.status.busy": "2025-07-27T05:13:55.259340Z",
          "iopub.execute_input": "2025-07-27T05:13:55.259631Z",
          "iopub.status.idle": "2025-07-27T05:13:55.272763Z",
          "shell.execute_reply.started": "2025-07-27T05:13:55.259614Z",
          "shell.execute_reply": "2025-07-27T05:13:55.272080Z"
        }
      },
      "outputs": [],
      "execution_count": null
    },
    {
      "cell_type": "code",
      "source": [
        "class Encoder(tf.keras.Model):\n",
        "    def __init__(self):\n",
        "        super().__init__()\n",
        "        self.model = tf.keras.Sequential([\n",
        "            tf.keras.layers.Conv2D(filters = 4, kernel_size = 3, strides=2, padding = 'same', activation='leaky_relu'),\n",
        "            tf.keras.layers.BatchNormalization(),\n",
        "            tf.keras.layers.Conv2D(filters = 8, kernel_size = 3, strides=2, padding = 'same', activation='leaky_relu'),\n",
        "            tf.keras.layers.BatchNormalization(),\n",
        "            tf.keras.layers.Conv2D(filters = 16, kernel_size = 3, strides=2, padding = 'same', activation='leaky_relu'),\n",
        "            tf.keras.layers.BatchNormalization(),\n",
        "            tf.keras.layers.Conv2D(filters = 32, kernel_size = 3, strides=2, padding = 'same', activation='leaky_relu'),\n",
        "            tf.keras.layers.BatchNormalization(),\n",
        "            tf.keras.layers.Conv2D(filters = 32, kernel_size = 3, strides=2, padding = 'same', activation='leaky_relu'),\n",
        "            tf.keras.layers.BatchNormalization(),\n",
        "            tf.keras.layers.Flatten(),\n",
        "        ])\n",
        "        self.mu = tf.keras.layers.Dense(units = 32)\n",
        "        self.logvar = tf.keras.layers.Dense(units = 32)\n",
        "        self.noise = GaussianNoise()\n",
        "\n",
        "    def call(self, x):\n",
        "        x = self.model(x)\n",
        "        mu = self.mu(x)\n",
        "        logvar = self.logvar(x)\n",
        "        z = self.noise.sample((mu, logvar))\n",
        "        return mu, logvar, z"
      ],
      "metadata": {
        "id": "x3QrbtllCNDp",
        "trusted": true,
        "execution": {
          "iopub.status.busy": "2025-07-27T05:13:55.273386Z",
          "iopub.execute_input": "2025-07-27T05:13:55.273556Z",
          "iopub.status.idle": "2025-07-27T05:13:55.292002Z",
          "shell.execute_reply.started": "2025-07-27T05:13:55.273542Z",
          "shell.execute_reply": "2025-07-27T05:13:55.291460Z"
        }
      },
      "outputs": [],
      "execution_count": null
    },
    {
      "cell_type": "code",
      "source": [
        "class Decoder(tf.keras.Model):\n",
        "    def __init__(self):\n",
        "        super().__init__()\n",
        "        self.model = tf.keras.Sequential([\n",
        "            tf.keras.layers.Dense(units = 2*2*32, activation='leaky_relu'),\n",
        "            tf.keras.layers.Reshape((2,2,32)),\n",
        "            tf.keras.layers.Conv2DTranspose(filters = 32, kernel_size = 3, strides = 2, padding = 'same', activation = 'leaky_relu'),\n",
        "            tf.keras.layers.BatchNormalization(),\n",
        "            tf.keras.layers.Dropout(0.2),\n",
        "            tf.keras.layers.Conv2DTranspose(filters = 16, kernel_size = 3, strides = 2, padding = 'same', activation = 'leaky_relu'),\n",
        "            tf.keras.layers.BatchNormalization(),\n",
        "            tf.keras.layers.Dropout(0.2),\n",
        "            tf.keras.layers.Conv2DTranspose(filters = 8, kernel_size = 3, strides = 2, padding = 'same', activation = 'leaky_relu'),\n",
        "            tf.keras.layers.BatchNormalization(),\n",
        "            tf.keras.layers.Conv2DTranspose(filters = 4, kernel_size = 3, strides = 2, padding = 'same', activation = 'leaky_relu'),\n",
        "            tf.keras.layers.BatchNormalization(),\n",
        "            tf.keras.layers.Dropout(0.2),\n",
        "            tf.keras.layers.Conv2DTranspose(filters = 3, kernel_size = 3, strides = 2, padding = 'same', activation = 'sigmoid'),\n",
        "            tf.keras.layers.BatchNormalization(),\n",
        "        ])\n",
        "\n",
        "    def call(self, x):\n",
        "        return self.model(x)"
      ],
      "metadata": {
        "id": "99vJysmhJwL6",
        "trusted": true,
        "execution": {
          "iopub.status.busy": "2025-07-27T05:13:55.292613Z",
          "iopub.execute_input": "2025-07-27T05:13:55.292863Z",
          "iopub.status.idle": "2025-07-27T05:13:55.315822Z",
          "shell.execute_reply.started": "2025-07-27T05:13:55.292847Z",
          "shell.execute_reply": "2025-07-27T05:13:55.314999Z"
        }
      },
      "outputs": [],
      "execution_count": null
    },
    {
      "cell_type": "markdown",
      "source": [
        "## Defining loss functions"
      ],
      "metadata": {
        "id": "vjzkpi3rLRbH"
      }
    },
    {
      "cell_type": "code",
      "source": [
        "reconstruction_loss_fn = tf.keras.losses.MeanSquaredError(\n",
        "    name='mean_squared_error'\n",
        ")"
      ],
      "metadata": {
        "id": "8wSOdMKJaEa9",
        "trusted": true,
        "execution": {
          "iopub.status.busy": "2025-07-27T05:13:55.316428Z",
          "iopub.execute_input": "2025-07-27T05:13:55.316671Z",
          "iopub.status.idle": "2025-07-27T05:13:55.338076Z",
          "shell.execute_reply.started": "2025-07-27T05:13:55.316649Z",
          "shell.execute_reply": "2025-07-27T05:13:55.337314Z"
        }
      },
      "outputs": [],
      "execution_count": null
    },
    {
      "cell_type": "code",
      "source": [
        "def kl_loss(mu, logvar):\n",
        "    return -0.5 * tf.reduce_mean(tf.reduce_sum((1 + logvar - tf.square(mu) - tf.exp(logvar)), axis = 1))"
      ],
      "metadata": {
        "id": "ArwW_6uULPsX",
        "trusted": true,
        "execution": {
          "iopub.status.busy": "2025-07-27T05:13:55.338721Z",
          "iopub.execute_input": "2025-07-27T05:13:55.339054Z",
          "iopub.status.idle": "2025-07-27T05:13:55.356832Z",
          "shell.execute_reply.started": "2025-07-27T05:13:55.339037Z",
          "shell.execute_reply": "2025-07-27T05:13:55.356002Z"
        }
      },
      "outputs": [],
      "execution_count": null
    },
    {
      "cell_type": "code",
      "source": [
        "RECONSTRUCTION_LOSS_WEIGHT = 300\n",
        "def reconstruction_loss(original, reconstructed):\n",
        "    return tf.reduce_mean(reconstruction_loss_fn(original, reconstructed) * RECONSTRUCTION_LOSS_WEIGHT)"
      ],
      "metadata": {
        "id": "xQtIs7EbZ3Rv",
        "trusted": true,
        "execution": {
          "iopub.status.busy": "2025-07-27T05:13:55.357548Z",
          "iopub.execute_input": "2025-07-27T05:13:55.357751Z",
          "iopub.status.idle": "2025-07-27T05:13:55.374426Z",
          "shell.execute_reply.started": "2025-07-27T05:13:55.357732Z",
          "shell.execute_reply": "2025-07-27T05:13:55.373903Z"
        }
      },
      "outputs": [],
      "execution_count": null
    },
    {
      "cell_type": "markdown",
      "source": [
        "## Setup VAE"
      ],
      "metadata": {
        "id": "QqkEdnTqiCdo"
      }
    },
    {
      "cell_type": "code",
      "source": [
        "class VAE(tf.keras.Model):\n",
        "    def __init__(self, encoder: Encoder, decoder: Decoder):\n",
        "        super().__init__()\n",
        "        self.encoder = encoder\n",
        "        self.decoder = decoder\n",
        "        self.total_loss = tf.keras.metrics.Mean(name = 'total_loss')\n",
        "        self.reconstruction_loss = tf.keras.metrics.Mean(name = 'reconstruction_loss')\n",
        "        self.kl_loss = tf.keras.metrics.Mean(name = 'kl_loss')\n",
        "\n",
        "    @property\n",
        "    def metrics(self):\n",
        "        return [\n",
        "            self.total_loss,\n",
        "            self.reconstruction_loss,\n",
        "            self.kl_loss\n",
        "        ]\n",
        "\n",
        "    def call(self, inputs):\n",
        "        mu, logvar, z = self.encoder(inputs)\n",
        "        reconstructed = self.decoder(z)\n",
        "        return mu, logvar, reconstructed\n",
        "\n",
        "    def train_step(self, inputs):\n",
        "        with tf.GradientTape() as tape:\n",
        "            mu, logvar, reconstructed = self(inputs)\n",
        "            reconstruction_loss_value = reconstruction_loss(inputs, reconstructed)\n",
        "            kl_loss_value = kl_loss(mu, logvar)\n",
        "            total_loss = reconstruction_loss_value + kl_loss_value\n",
        "        grads = tape.gradient(total_loss, self.trainable_weights)\n",
        "        self.optimizer.apply_gradients(zip(grads, self.trainable_weights))\n",
        "        self.total_loss.update_state(total_loss)\n",
        "        self.reconstruction_loss.update_state(reconstruction_loss_value)\n",
        "        self.kl_loss.update_state(kl_loss_value)\n",
        "        return {\"total_loss\": self.total_loss.result(), \"reconstruction_loss\": self.reconstruction_loss.result(), \"kl_loss\": self.kl_loss.result()}"
      ],
      "metadata": {
        "id": "0DRJ0gX4iGDq",
        "trusted": true,
        "execution": {
          "iopub.status.busy": "2025-07-27T05:13:55.375108Z",
          "iopub.execute_input": "2025-07-27T05:13:55.375301Z",
          "iopub.status.idle": "2025-07-27T05:13:55.393324Z",
          "shell.execute_reply.started": "2025-07-27T05:13:55.375286Z",
          "shell.execute_reply": "2025-07-27T05:13:55.392796Z"
        }
      },
      "outputs": [],
      "execution_count": null
    },
    {
      "cell_type": "markdown",
      "source": [
        "## Setup 2D visualization of latent space"
      ],
      "metadata": {
        "id": "dy0EAnwgos86"
      }
    },
    {
      "cell_type": "code",
      "source": [
        "class LatentSpace2D():\n",
        "    def __init__(self):\n",
        "        self.pca = PCA(n_components=3)\n",
        "\n",
        "    def visualize(self, data):\n",
        "        self.pca.fit(data['encoded_version'])\n",
        "        transformed_data = self.pca.transform(data['encoded_version'])\n",
        "        fig = plt.figure(figsize=(8,6))\n",
        "        ax = fig.add_subplot(111, projection='3d')\n",
        "        im = ax.scatter3D(transformed_data[:,0], transformed_data[:,1], transformed_data[:,2], c = data['labels'], cmap='summer')\n",
        "        plt.colorbar(im)\n",
        "        plt.show()"
      ],
      "metadata": {
        "id": "9k-hJ5kJosQd",
        "trusted": true,
        "execution": {
          "iopub.status.busy": "2025-07-27T05:13:55.394064Z",
          "iopub.execute_input": "2025-07-27T05:13:55.394453Z",
          "iopub.status.idle": "2025-07-27T05:13:55.416675Z",
          "shell.execute_reply.started": "2025-07-27T05:13:55.394437Z",
          "shell.execute_reply": "2025-07-27T05:13:55.416211Z"
        }
      },
      "outputs": [],
      "execution_count": null
    },
    {
      "cell_type": "markdown",
      "source": [
        "## Setup training"
      ],
      "metadata": {
        "id": "1olMpOFtg2ls"
      }
    },
    {
      "cell_type": "code",
      "source": [
        "EPOCHS = 20\n",
        "encoder = Encoder()\n",
        "decoder = Decoder()\n",
        "vae = VAE(encoder,decoder)\n",
        "vae.compile(optimizer='adam')\n",
        "vae.fit(images_only_dataset, epochs = EPOCHS, batch_size = 64)\n",
        "# for epoch in range(EPOCHS):\n",
        "#     met = {}\n",
        "#     for batch in tqdm(images_only_dataset):\n",
        "#         met = vae.train_step(batch, epoch)\n",
        "#     print(met)"
      ],
      "metadata": {
        "colab": {
          "base_uri": "https://localhost:8080/"
        },
        "id": "Pn0cu7lVg3-a",
        "outputId": "b9caca61-63da-4a38-998a-57f538c11b69",
        "trusted": true,
        "execution": {
          "iopub.status.busy": "2025-07-27T05:13:55.417308Z",
          "iopub.execute_input": "2025-07-27T05:13:55.417530Z",
          "iopub.status.idle": "2025-07-27T05:16:13.266035Z",
          "shell.execute_reply.started": "2025-07-27T05:13:55.417510Z",
          "shell.execute_reply": "2025-07-27T05:16:13.265304Z"
        }
      },
      "outputs": [
        {
          "output_type": "stream",
          "name": "stdout",
          "text": [
            "Epoch 1/20\n",
            "\u001b[1m1095/1095\u001b[0m \u001b[32m━━━━━━━━━━━━━━━━━━━━\u001b[0m\u001b[37m\u001b[0m \u001b[1m35s\u001b[0m 17ms/step - kl_loss: 0.6182 - reconstruction_loss: 25.0789 - total_loss: 25.6971\n",
            "Epoch 2/20\n",
            "\u001b[1m1095/1095\u001b[0m \u001b[32m━━━━━━━━━━━━━━━━━━━━\u001b[0m\u001b[37m\u001b[0m \u001b[1m9s\u001b[0m 8ms/step - kl_loss: 2.5823 - reconstruction_loss: 12.5255 - total_loss: 15.1078\n",
            "Epoch 3/20\n",
            "\u001b[1m1095/1095\u001b[0m \u001b[32m━━━━━━━━━━━━━━━━━━━━\u001b[0m\u001b[37m\u001b[0m \u001b[1m9s\u001b[0m 8ms/step - kl_loss: 3.3123 - reconstruction_loss: 11.1090 - total_loss: 14.4212\n",
            "Epoch 4/20\n",
            "\u001b[1m1095/1095\u001b[0m \u001b[32m━━━━━━━━━━━━━━━━━━━━\u001b[0m\u001b[37m\u001b[0m \u001b[1m11s\u001b[0m 8ms/step - kl_loss: 3.6439 - reconstruction_loss: 10.4841 - total_loss: 14.1280\n",
            "Epoch 5/20\n",
            "\u001b[1m1095/1095\u001b[0m \u001b[32m━━━━━━━━━━━━━━━━━━━━\u001b[0m\u001b[37m\u001b[0m \u001b[1m12s\u001b[0m 11ms/step - kl_loss: 3.8263 - reconstruction_loss: 10.1273 - total_loss: 13.9536\n",
            "Epoch 6/20\n",
            "\u001b[1m1095/1095\u001b[0m \u001b[32m━━━━━━━━━━━━━━━━━━━━\u001b[0m\u001b[37m\u001b[0m \u001b[1m7s\u001b[0m 7ms/step - kl_loss: 3.9704 - reconstruction_loss: 9.9016 - total_loss: 13.8720\n",
            "Epoch 7/20\n",
            "\u001b[1m1095/1095\u001b[0m \u001b[32m━━━━━━━━━━━━━━━━━━━━\u001b[0m\u001b[37m\u001b[0m \u001b[1m15s\u001b[0m 11ms/step - kl_loss: 4.0298 - reconstruction_loss: 9.7393 - total_loss: 13.7691\n",
            "Epoch 8/20\n",
            "\u001b[1m1095/1095\u001b[0m \u001b[32m━━━━━━━━━━━━━━━━━━━━\u001b[0m\u001b[37m\u001b[0m \u001b[1m9s\u001b[0m 8ms/step - kl_loss: 4.0931 - reconstruction_loss: 9.6222 - total_loss: 13.7153\n",
            "Epoch 9/20\n",
            "\u001b[1m1095/1095\u001b[0m \u001b[32m━━━━━━━━━━━━━━━━━━━━\u001b[0m\u001b[37m\u001b[0m \u001b[1m8s\u001b[0m 6ms/step - kl_loss: 4.1140 - reconstruction_loss: 9.5337 - total_loss: 13.6477\n",
            "Epoch 10/20\n",
            "\u001b[1m1095/1095\u001b[0m \u001b[32m━━━━━━━━━━━━━━━━━━━━\u001b[0m\u001b[37m\u001b[0m \u001b[1m8s\u001b[0m 7ms/step - kl_loss: 4.1927 - reconstruction_loss: 9.4438 - total_loss: 13.6365\n",
            "Epoch 11/20\n",
            "\u001b[1m1095/1095\u001b[0m \u001b[32m━━━━━━━━━━━━━━━━━━━━\u001b[0m\u001b[37m\u001b[0m \u001b[1m10s\u001b[0m 7ms/step - kl_loss: 4.2194 - reconstruction_loss: 9.3870 - total_loss: 13.6063\n",
            "Epoch 12/20\n",
            "\u001b[1m1095/1095\u001b[0m \u001b[32m━━━━━━━━━━━━━━━━━━━━\u001b[0m\u001b[37m\u001b[0m \u001b[1m11s\u001b[0m 8ms/step - kl_loss: 4.2665 - reconstruction_loss: 9.3122 - total_loss: 13.5787\n",
            "Epoch 13/20\n",
            "\u001b[1m1095/1095\u001b[0m \u001b[32m━━━━━━━━━━━━━━━━━━━━\u001b[0m\u001b[37m\u001b[0m \u001b[1m6s\u001b[0m 6ms/step - kl_loss: 4.2835 - reconstruction_loss: 9.2733 - total_loss: 13.5568\n",
            "Epoch 14/20\n",
            "\u001b[1m1095/1095\u001b[0m \u001b[32m━━━━━━━━━━━━━━━━━━━━\u001b[0m\u001b[37m\u001b[0m \u001b[1m8s\u001b[0m 7ms/step - kl_loss: 4.3052 - reconstruction_loss: 9.2295 - total_loss: 13.5347\n",
            "Epoch 15/20\n",
            "\u001b[1m1095/1095\u001b[0m \u001b[32m━━━━━━━━━━━━━━━━━━━━\u001b[0m\u001b[37m\u001b[0m \u001b[1m8s\u001b[0m 7ms/step - kl_loss: 4.3017 - reconstruction_loss: 9.2077 - total_loss: 13.5094\n",
            "Epoch 16/20\n",
            "\u001b[1m1095/1095\u001b[0m \u001b[32m━━━━━━━━━━━━━━━━━━━━\u001b[0m\u001b[37m\u001b[0m \u001b[1m9s\u001b[0m 6ms/step - kl_loss: 4.3412 - reconstruction_loss: 9.1615 - total_loss: 13.5027\n",
            "Epoch 17/20\n",
            "\u001b[1m1095/1095\u001b[0m \u001b[32m━━━━━━━━━━━━━━━━━━━━\u001b[0m\u001b[37m\u001b[0m \u001b[1m10s\u001b[0m 6ms/step - kl_loss: 4.3733 - reconstruction_loss: 9.1136 - total_loss: 13.4870\n",
            "Epoch 18/20\n",
            "\u001b[1m1095/1095\u001b[0m \u001b[32m━━━━━━━━━━━━━━━━━━━━\u001b[0m\u001b[37m\u001b[0m \u001b[1m7s\u001b[0m 7ms/step - kl_loss: 4.3691 - reconstruction_loss: 9.0848 - total_loss: 13.4539\n",
            "Epoch 19/20\n",
            "\u001b[1m1095/1095\u001b[0m \u001b[32m━━━━━━━━━━━━━━━━━━━━\u001b[0m\u001b[37m\u001b[0m \u001b[1m10s\u001b[0m 7ms/step - kl_loss: 4.3819 - reconstruction_loss: 9.0599 - total_loss: 13.4418\n",
            "Epoch 20/20\n",
            "\u001b[1m1095/1095\u001b[0m \u001b[32m━━━━━━━━━━━━━━━━━━━━\u001b[0m\u001b[37m\u001b[0m \u001b[1m6s\u001b[0m 6ms/step - kl_loss: 4.3940 - reconstruction_loss: 9.0541 - total_loss: 13.4481\n"
          ]
        },
        {
          "output_type": "execute_result",
          "data": {
            "text/plain": [
              "<keras.src.callbacks.history.History at 0x7f2f204df3d0>"
            ]
          },
          "metadata": {},
          "execution_count": 18
        }
      ],
      "execution_count": null
    },
    {
      "cell_type": "markdown",
      "source": [
        "## Test image reconstructions"
      ],
      "metadata": {
        "id": "7aZRnPr1f9nM"
      }
    },
    {
      "cell_type": "code",
      "source": [
        "img = list(images_only_dataset.take(1).as_numpy_iterator())\n",
        "mu, logvar, reconstructed = vae.call(img[0])\n",
        "for i in range(min(len(img[0]), 10)):\n",
        "    plot_img(img[0][i])\n",
        "    plot_img(reconstructed[i])"
      ],
      "metadata": {
        "id": "2Mq4a2R_9qni",
        "trusted": true,
        "execution": {
          "iopub.status.busy": "2025-07-27T05:16:13.266971Z",
          "iopub.execute_input": "2025-07-27T05:16:13.267266Z",
          "iopub.status.idle": "2025-07-27T05:16:16.255256Z",
          "shell.execute_reply.started": "2025-07-27T05:16:13.267232Z",
          "shell.execute_reply": "2025-07-27T05:16:16.254619Z"
        },
        "colab": {
          "base_uri": "https://localhost:8080/",
          "height": 1000
        },
        "outputId": "5ee96dd9-cd3e-4b93-b06f-87e7bf9331e6"
      },
      "outputs": [
        {
          "output_type": "display_data",
          "data": {
            "text/plain": [
              "<Figure size 640x480 with 1 Axes>"
            ],
            "image/png": "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\n"
          },
          "metadata": {}
        },
        {
          "output_type": "display_data",
          "data": {
            "text/plain": [
              "<Figure size 640x480 with 1 Axes>"
            ],
            "image/png": "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\n"
          },
          "metadata": {}
        },
        {
          "output_type": "display_data",
          "data": {
            "text/plain": [
              "<Figure size 640x480 with 1 Axes>"
            ],
            "image/png": "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\n"
          },
          "metadata": {}
        },
        {
          "output_type": "display_data",
          "data": {
            "text/plain": [
              "<Figure size 640x480 with 1 Axes>"
            ],
            "image/png": "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\n"
          },
          "metadata": {}
        },
        {
          "output_type": "display_data",
          "data": {
            "text/plain": [
              "<Figure size 640x480 with 1 Axes>"
            ],
            "image/png": "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\n"
          },
          "metadata": {}
        },
        {
          "output_type": "display_data",
          "data": {
            "text/plain": [
              "<Figure size 640x480 with 1 Axes>"
            ],
            "image/png": "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\n"
          },
          "metadata": {}
        },
        {
          "output_type": "display_data",
          "data": {
            "text/plain": [
              "<Figure size 640x480 with 1 Axes>"
            ],
            "image/png": "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\n"
          },
          "metadata": {}
        },
        {
          "output_type": "display_data",
          "data": {
            "text/plain": [
              "<Figure size 640x480 with 1 Axes>"
            ],
            "image/png": "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\n"
          },
          "metadata": {}
        },
        {
          "output_type": "display_data",
          "data": {
            "text/plain": [
              "<Figure size 640x480 with 1 Axes>"
            ],
            "image/png": "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\n"
          },
          "metadata": {}
        },
        {
          "output_type": "display_data",
          "data": {
            "text/plain": [
              "<Figure size 640x480 with 1 Axes>"
            ],
            "image/png": "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\n"
          },
          "metadata": {}
        },
        {
          "output_type": "display_data",
          "data": {
            "text/plain": [
              "<Figure size 640x480 with 1 Axes>"
            ],
            "image/png": "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\n"
          },
          "metadata": {}
        },
        {
          "output_type": "stream",
          "name": "stderr",
          "text": [
            "WARNING:matplotlib.image:Clipping input data to the valid range for imshow with RGB data ([0..1] for floats or [0..255] for integers). Got range [0.00019485211..1.0038567].\n"
          ]
        },
        {
          "output_type": "display_data",
          "data": {
            "text/plain": [
              "<Figure size 640x480 with 1 Axes>"
            ],
            "image/png": "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\n"
          },
          "metadata": {}
        },
        {
          "output_type": "display_data",
          "data": {
            "text/plain": [
              "<Figure size 640x480 with 1 Axes>"
            ],
            "image/png": "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\n"
          },
          "metadata": {}
        },
        {
          "output_type": "display_data",
          "data": {
            "text/plain": [
              "<Figure size 640x480 with 1 Axes>"
            ],
            "image/png": "iVBORw0KGgoAAAANSUhEUgAAAaAAAAGfCAYAAAAZGgYhAAAAOnRFWHRTb2Z0d2FyZQBNYXRwbG90bGliIHZlcnNpb24zLjEwLjAsIGh0dHBzOi8vbWF0cGxvdGxpYi5vcmcvlHJYcgAAAAlwSFlzAAAPYQAAD2EBqD+naQAAMmBJREFUeJzt3X9sVfd9//GXDfbFgH2N+WFD+TGq0kBCoQkkxCLdOnCLUBWRgaqsSjXWRY2SGZpApiWeltBWS40StUnTEmgzBp0a6pVJNKVTYJHTELUDEpxE+cHmkpYVL2CTpPG1+WUb3/P9I8r95uLPm/qDj/nce3k+pCsln3s493POvfbbx+fl96coiqJIAABcZsWhJwAAuDJRgAAAQVCAAABBUIAAAEFQgAAAQVCAAABBUIAAAEFQgAAAQVCAAABBUIAAAEGMHK4db9q0SY888oja29s1f/58fe9739MNN9zwR/9dOp3W8ePHVV5erqKiouGaHgBgmERRpO7ubk2ZMkXFxRe5zomGQVNTU1RaWhr9y7/8S/Tmm29GX/3qV6PKysqoo6Pjj/7btra2SBIPHjx48MjzR1tb20W/3xdFUfzNSBctWqTrr79e3//+9yV9cFUzbdo0rV27Vvfff/9F/20qlVJlZaVGjBgx4Aro/PnzcU8VecL6KSqdTufEvq2r9ZEj3b9k6OvrG/S+fV9zGL6kAZPr6yeKIkVRpM7OTiWTSfPfxv4ruN7eXrW0tKihoSFrgnV1ddq/f/+A7Xt6etTT05P5/+7ubkkffHFdqb+Ccx13XN9ULve+ffdv7cN33Ecc+86leedDARrOzyGGh+9nOYqiP/o5jz2E8O6776q/v1/V1dVZ49XV1Wpvbx+wfWNjo5LJZOYxbdq0uKcEAMhBwVNwDQ0NSqVSmUdbW1voKQEALoPYfwU3YcIEjRgxQh0dHVnjHR0dqqmpGbB9IpFQIpEYMH4l3+8Zzl9F5Pq+rX309/cPed+WOPZtzbu3t3fI+/Z9zXyQz3O/Ug3H12bsV0ClpaVasGCBmpubM2PpdFrNzc2qra2N++UAAHlqWP4OaP369Vq9erUWLlyoG264QY899phOnz6tr3zlK8PxcgCAPDQsBejWW2/VO++8owcffFDt7e369Kc/rT179gwIJgAArlzD8ndAQ9HV1XXR3DgAID+kUilVVFSYzwdPwQEArkzD1gsOQH7/sSgw3LgCAgAEQQECAARBAQIABEEBAgAEkdMhhAtv4HLjFgAKB1dAAIAgKEAAgCAoQACAIChAAIAgKEAAgCByOgVH6u3KY7WuKS52/6yUTqeHvG+L9elz7cWanzVuLbg4nIv6AbmGKyAAQBAUIABAEBQgAEAQFCAAQBAUIABAEDmdgkNustJkPuPWtiNGjHCOjxw59I+qlUjz5ZqjNT/reM6dO+cct9Jx/f39A8asBCAJO+QLroAAAEFQgAAAQVCAAABBUIAAAEFQgAAAQZCCg8k37ebTD81Kh5WWljrHS0pKhu01LVayzTVuzdt6zc7OTue4lY7r7e0dMNbX1+fc1pWYuxifZJv13pOOw6XgCggAEAQFCAAQBAUIABAEBQgAEAQhBMQSKpDsG+6uAIF1037UqFHO8TFjxgz5Na0ggzWeSCSc4665W4EF6zjffvtt53gqlXKOd3V1DRiz3jcrhGCNu/ZjhQoIGyBOXAEBAIKgAAEAgqAAAQCCoAABAIKgAAEAgiAFV6B82uhYqTbfZJc1Pnr06EGNSdLYsWMHvQ/JTs25EmxWks5Mx3m01xlV6k7MjSxxn8Mxo91zeb/zfef4e++9N2DMaufzhz/8wTl+9uxZ57grHWcl5qxF8OJIzZGwu/JwBQQACIICBAAIggIEAAiCAgQACIICBAAIghRcnvBdHM4a91lMzbcvmzWeTCYHNXaxfZSVlXmN+yTvrOO0+sy5zqHVN856H8aNG+cctxJsrh5x1rbHjx93jruSdJJ06tSpAWNWYs53ETwr2Wal6Xz2gfzHFRAAIAgKEAAgCAoQACAIChAAIAgKEAAgCO8U3AsvvKBHHnlELS0tOnHihHbt2qVbbrkl83wURdqwYYOefPJJdXZ2avHixdq8ebNmzZoV57wLmis55btqqdXHzZXWsvqvWeOVlZVe248fP37AmJWCG22k4EYZKTPrNX16wVkpQKtHnCsdZ51vK+1VUVHhHJ80aZJz3JWCe+edd5zb+h7Pe+8OTMdZCcCenh6vcZ/VWa1tLaTj8p/3FdDp06c1f/58bdq0yfn8ww8/rMcff1xbtmzRwYMHNWbMGC1btkznzp0b8mQBAIXD+wpo+fLlWr58ufO5KIr02GOP6R//8R+1YsUKSdK//uu/qrq6Wj/72c/0l3/5lwP+TU9PT9ZPT11dXb5TAgDkoVjvAR09elTt7e2qq6vLjCWTSS1atEj79+93/pvGxkYlk8nMY9q0aXFOCQCQo2ItQO3t7ZKk6urqrPHq6urMcxdqaGhQKpXKPNra2uKcEgAgRwVvxZNIJMw2JgCAwhVrAaqpqZEkdXR0aPLkyZnxjo4OffrTn47zpa44vmk3q7+ZqweZlciyxq0+Zq60m+ROvFn7tvq1WeNWLzjXebH24Zsa81lV1krBWSkzKwnmOrdVVVXOba1z4tPzL/Gu+4fC7u5u57irn5xkp+NcPeXi6Bt3sf0g98T6K7iZM2eqpqZGzc3NmbGuri4dPHhQtbW1cb4UACDPeV8BnTp1Sm+99Vbm/48ePapXX31VVVVVmj59uu655x790z/9k2bNmqWZM2fqgQce0JQpU7L+VggAAO8CdOjQIf35n/955v/Xr18vSVq9erW2b9+uv//7v9fp06d1xx13qLOzUzfddJP27Nlj/koIAHBl8i5An/3sZy/6O9aioiJ985vf1De/+c0hTQwAUNiCp+CuZD6LycUVQnCNl5eXO7e1Wu5MnDjROT5hwgTn+LhxA2+Wl5e7W+hY7XKs47eO03UOrZvw1vswYoT73Lo2t0IF58+fd45b75u1H58b62fOnHGOW4vMuc6tFcCwzqH1/ljhBBcrbGAdO2GD/EczUgBAEBQgAEAQFCAAQBAUIABAEBQgAEAQpOAC8llkzkpH+aaVXO1orEXdrHY5VjrOag3jat3juziclZCyjt/FSmrZaSorfTX4fVitdXwXsHNtbyUArffHWpPLdQ6tffucb8nvvFiJQescWl8/PvNAWFwBAQCCoAABAIKgAAEAgqAAAQCCoAABAIIgBXcZ+KR1fPdhJumM1Fwcfb98x137t+btuyjZ+X53cirdP3D73t5e57auxdEkO3nomos1Pyt5ZiUPfXqtWefQSrB9dJHIj3IlI619WO+PtfCcz7h1ruL4+kFu4goIABAEBQgAEAQFCAAQBAUIABAEBQgAEAQpuBzkSv34rgqZ9uifZSW4zBUq0+7XtPqbueZo7dtKpFnbW33CXH3FrG2tpJbFtR8rwWWtQurqjye5E2mSVFZWNmDMSi/6rIYruZN31rbWueo2Vj71WZ319OnTzm19PxP0fcsfXAEBAIKgAAEAgqAAAQCCoAABAIIghBCQT3uduBakc7V0sbZNJBLOcWsu1g1q101ha3E436CAz36sVjz+LWAGjvf1ufdtzds6h9YNdFfAwwos+C4m59reeu99wxbnjPGzjv10d3c7t7XeN+uzgvzBFRAAIAgKEAAgCAoQACAIChAAIAgKEAAgCFJwMYpr4SzXfqy0l5WmsrZ3jftsK0m9RuLLaqXiasdinSsrZWW1dLH242rFY6WpfJNqrnHX60l2GxmrbZHVXsbVisfa1mfekv0+u1RUVDjHq6qqnOOdnZ3OcVfi7Z2TJ53bWvNjnbr8xxUQACAIChAAIAgKEAAgCAoQACAIChAAIAhScJeBT883X2lrQTqPBd+sFNgpY5ExRys0SXbKzNXfzNrWSrtZCTsrIeVKpVmJNOv4rd5prgSbuTCg8T5Y+7aSaq7zYiXPrM+V1d/Np1dfMpl0jk+YMME5/v777zvH33vvvQFjPv0LPzD0rysWrwuLKyAAQBAUIABAEBQgAEAQFCAAQBAUIABAEKTgAvJJ4FhpqrSxKqSV+HKNW2k3K01kpcaslJVre6vnm08/OckvfWb1a7PGrX5trnHrXFkJLp+EneROn1nvsXVOfOZo7cNabdVanXXMmDHOcVdvO+vY7V5wNIPLBa73YbDf27gCAgAEQQECAARBAQIABEEBAgAE4VWAGhsbdf3116u8vFyTJk3SLbfcotbW1qxtzp07p/r6eo0fP15jx47VqlWr1NHREeukAQD5zysFt2/fPtXX1+v666/X+fPn9Q//8A/6/Oc/r8OHD2fSLuvWrdN//Md/aOfOnUomk1qzZo1WrlypX//618NyAPnAN5Xk2t7ah29/s1QqNeh9nz171jmeKHWn3Xx6xFkpOGvcmot1Dl0puH4jMWiNW/t29WvzXbG2r9f9vlkpQNf2vqkxK6nmGh9jbGvt2/ocWiuoljj6vlnnirRb4fIqQHv27Mn6/+3bt2vSpElqaWnRn/7pnyqVSmnr1q3asWOHlixZIknatm2b5syZowMHDujGG2+Mb+YAgLw2pHtAH/40/WFX3paWFvX19amuri6zzezZszV9+nTt37/fuY+enh51dXVlPQAAhe+SC1A6ndY999yjxYsXa+7cuZKk9vZ2lZaWqrKyMmvb6upqtbe3O/fT2NioZDKZeUybNu1SpwQAyCOXXIDq6+v1xhtvqKmpaUgTaGhoUCqVyjza2tqGtD8AQH64pFY8a9as0S9+8Qu98MILmjp1ama8pqZGvb296uzszLoK6ujoUE1NjXNfiUTCbOGSb+IIG0h+bWR85+KzUJvvTW6Lz2v6jltc59A6J3G0rrHOiXUOrdfs7XMv1Odq3ZOsdC8ON3HiRPe+jUUAx44dO/D1jMXhrK9Vq0WPufCe43z5hhDiCCf4fm1eyXzfh8GcQ6/vJFEUac2aNdq1a5eee+45zZw5M+v5BQsWqKSkRM3NzZmx1tZWHTt2TLW1tT4vBQAocF5XQPX19dqxY4eefvpplZeXZ+7rJJNJlZWVKZlM6vbbb9f69etVVVWliooKrV27VrW1tSTgAABZvArQ5s2bJUmf/exns8a3bdumv/7rv5YkPfrooyouLtaqVavU09OjZcuW6YknnohlsgCAwuFVgAbzO71Ro0Zp06ZN2rRp0yVPCgBQ+OgFBwAIggXpAvJJZfWn3e1ior7BJ+kkd9sZqxWNuRBYsZE+Mi6QfV7Td9zi085I1rhH6senbc/FtrekOjsHjFl/tN19qts5bn0mXKx5W+PWZ8X8DA16Jv7nymf7uJKrV7LLloIDACAuFCAAQBAUIABAEBQgAEAQFCAAQBCk4C6DWBak6zcSc0VDT8FZfebiSh+55mLNz7dfm8Vne9/3x+e8WMdpLbxn7bure2CyrdORjJOkU92nnONWPz2fdJx1rqyU4vnzRm8/j96GPj35fPkmuK6UdJzPZ3woPfm4AgIABEEBAgAEQQECAARBAQIABEEBAgAEQQouIJ/E13CmdXxSUJcyF59t40oTxbEfn3Mbx+qcF3tN1/h5z/54Vh+3Usfqp9YKp9ZnxbWqqiQlEu79+GDl09wQ12f8o7gCAgAEQQECAARBAQIABEEBAgAEQQECAARBCi5PhEiHDXeyK9f37ZOc8j1XVprMGnf16ztv9HbzfU1XTzXvFU49+gBK7r50vuckjtQlho5ecACAvEMBAgAEQQECAARBAQIABEEIoUD5tujx2Udcc8l1PucwrtZCPovgWduWlJQ4x632OiMd2/uGDazjtBY7dIUQrMXrhrttE8LhCggAEAQFCAAQBAUIABAEBQgAEAQFCAAQBCm4KwzJodzg+z74tP/xHZfHXPqNRfB6e3ud42fPnh30eF+fOzGXr62crhS04gEA5B0KEAAgCAoQACAIChAAIAgKEAAgCFJwgMEnTea7gFtpaalzfMyYMc7xqqqqAWMTJ04c9LYXe02Xnp4e53hXV5dzvKOjwzl+4sQJ5/ipU6cGjLn6w0n2gnRx8E1wxdEfMJf4HH1cC1R+FFdAAIAgKEAAgCAoQACAIChAAIAgKEAAgCBIweGK4ZvisbZ3JdtGjBjh3NZanbSsrMw5Xl5e7hx3Jduqq6ud244ePdo5bnEl3qxE2rvvvusc//3vf+8cP3nypHO8u7t70K9p9Z/z4buS6xXDt2/gELe9EFdAAIAgKEAAgCAoQACAIChAAIAgvEIImzdv1ubNm/W///u/kqRrrrlGDz74oJYvXy5JOnfunO699141NTWpp6dHy5Yt0xNPPGHeLEVh8bnROxxtPf4Y34XarDY6rsBBSak7bJAoTTjHk8mkc3zChAnO8cmTJw8Ys1rxWO18rJv5Z86cGTB2/rx7cTgrVPDOO+84x1OplHP83Llzg56fr3xti5PrgrfimTp1qjZu3KiWlhYdOnRIS5Ys0YoVK/Tmm29KktatW6fdu3dr586d2rdvn44fP66VK1fGPmkAQP7zugK6+eabs/7/oYce0ubNm3XgwAFNnTpVW7du1Y4dO7RkyRJJ0rZt2zRnzhwdOHBAN954Y3yzBgDkvUu+B9Tf36+mpiadPn1atbW1amlpUV9fn+rq6jLbzJ49W9OnT9f+/fvN/fT09KirqyvrAQAofN4F6PXXX9fYsWOVSCR05513ateuXbr66qvV3t6u0tJSVVZWZm1fXV2t9vZ2c3+NjY1KJpOZx7Rp07wPAgCQf7wL0FVXXaVXX31VBw8e1F133aXVq1fr8OHDlzyBhoYGpVKpzKOtre2S9wUAyB/erXhKS0v1iU98QpK0YMECvfTSS/rud7+rW2+9Vb29vers7My6Curo6FBNTY25v0QioUTCnRRCboqrpc3lfk2fVNvFxl0Lu1mfYSuR5pN2k9yJN2vhOYu1yJwrBedKqUn2wnPWuPUrdddcrIXnfBaBu9i4jzhScyHa/8T1teka90mLDvYYh/x3QOl0Wj09PVqwYIFKSkrU3Nycea61tVXHjh1TbW3tUF8GAFBgvK6AGhoatHz5ck2fPl3d3d3asWOHnn/+ee3du1fJZFK333671q9fr6qqKlVUVGjt2rWqra0lAQcAGMCrAJ08eVJ/9Vd/pRMnTiiZTGrevHnau3evPve5z0mSHn30URUXF2vVqlVZf4gKAMCFvArQ1q1bL/r8qFGjtGnTJm3atGlIkwIAFD56wQEAgmBBuitMHAtNxZG0MffguW8rqeZK5liLw1n7GDVqlHPcteBbRUWFc1trfOq0qc7xaVPdfwc3c+bMAWNWYm7s2LHOces4z549O2DMSsxZPeKshGEci/pZ41ZqbjhTl1a6yyvZZk0vx9vVWefbtZDgZUvBAQBwKShAAIAgKEAAgCAoQACAIChAAIAgSMEVqDh6PFl8kmfWeBypKclOto0cOfCjbaXaXNtKdoLNtZppZaV7hdNkstI5bvVHnDLFnWxz9Y4rLy93bmsdj3VuXck2VzJOknp7e53jriTUxV4zjs/EcCY6ffvP+aTgzG09w3vD2VNuqMdDCg4AkNMoQACAIChAAIAgKEAAgCAoQACAIEjB5TnfdE8cK4VaKSsrkeYat/bhO+7qy2a9prU6qbXvcZXjnONjywf2WrNWJ504aZJz/GNTpri3d6x8KkmTHPuxUnAWq7+b6/337bPm22fPdc59P1c+K6jG0R/uYuJIwcUxHte+L9e2XAEBAIKgAAEAgqAAAQCCoAABAIIghJAn4ggbSO6bwtbN30Qi4Ry3WtpYC6GVlZUNeh9WqMC1j4vtx3Xj2tqHNW6FFlzbu0ICFxu3wgZWsMDV/sd6f/r63IvGWSEE1818q7WOdePf4rPInBU26O/v95qLT9AmrvY/rnHrRrw1b58F36ztffftE+QYDlwBAQCCoAABAIKgAAEAgqAAAQCCoAABAIIgBRdQHAtqxdFGp2yUkQIb606BuRJZklRZWekcdy3sZqXdrNcsLSkd9L4labQjqVY5zt1ax0rBWcfpSt5NnOBOtZWNdu/bmrdvItHF+qz09rpTZq59+6YUrXNljbsWtrNScNZcrEXzXKkx3zY/vgvPucathJlrAcCLjY8odn8t950feJxWYtDad5Q2jkek4AAABYwCBAAIggIEAAiCAgQACIICBAAIghTcZTCci8b5pntciSIrkWWl2nz7nrl6xFl91qy0lzVupaxcPdXGeabgrPPimovVB89KI1rJLp+0o5V48l18zbW9tY/SUnca0TqH1kJ9roSY9Zk4d+6c17grYWd9fqyvkzj6uPkm0lzzlqTu7m7nuCsFaO3Dmnd/kXuOlykExxUQACAMChAAIAgKEAAgCAoQACAIChAAIAhScDGKa9VSV+LJSrtZqSQrZeVKGk2YMMG5rZVg+tjHPuYcnzJ5svs1HQkxa35WWsk6V+Mq3cm2UWUD92+l4Fx94yRprLE6qbOfnrEP3zSZDyupZSXvrHPrmruVLrSSXWb6ytjexVqx1TpOqxecK/FlHbuVLjVXJzWO87zjOH1TcNbxW1z7901GWj3ffFZEHcrqqVwBAQCCoAABAIKgAAEAgqAAAQCCyNkQQlFR0YAbZ9aNwcttOMMGkvsmt9UyxLq5arU1GT9+/IAxK2xghRMmTnQvvjbFCCe45mjdhLduoFvGlrtb4Lhe01pMzRq3ghI+74/ve2/x+ez7vqbrvbBCFVbLIattkRmUcJxD368f62a+Tysi66a9FQiwwhaucevYrde0tnctsGe9prWt+Xm7TC13LFwBAQCCoAABAIKgAAEAgqAAAQCCoAABAIIYUgpu48aNamho0N13363HHntM0geLRN17771qampST0+Pli1bpieeeELV1dVe+46iaEgtHnKJbyqpyKMVj5XUstJKrsSblYKzxl1JOslvwTcrNWYdp5UcstJ+rv1Y56rEeE1XUkvyS7BZ87ZYn3nXuLVvKwlljbv2Y6URrcSg9Zmwtnctdmh+PRhfP9bxuBaqsz5X1vk+c+aMc/y0Md7rSM1ZKT1r3lbyzvrcut4j33PoMz4c348v+QropZde0g9+8APNmzcva3zdunXavXu3du7cqX379un48eNauXLlkCcKACgsl1SATp06pdtuu01PPvlk1k+9qVRKW7du1Xe+8x0tWbJECxYs0LZt2/Rf//VfOnDgQGyTBgDkv0sqQPX19frCF76gurq6rPGWlhb19fVljc+ePVvTp0/X/v37nfvq6elRV1dX1gMAUPi87wE1NTXp5Zdf1ksvvTTgufb2dpWWlg74/W51dbXa29ud+2tsbNQ3vvEN32kAAPKc1xVQW1ub7r77bj311FPmjTFfDQ0NSqVSmUdbW1ss+wUA5DavK6CWlhadPHlS1113XWasv79fL7zwgr7//e9r79696u3tVWdnZ9ZVUEdHh2pqapz7TCQSZj+zXBVXLzgzHecYt1JJVprM6uXlSh+5xj4Ydy9KZi1WZiXSXHOxjscatxJfVk85V+rJ7DNn9Q7zSKRZiSdr3EplWT3fXK9p9SWzXtNawM21vXW+rc+b9QOplYJzvabvOXGl3SQ5f41vfo8x3mPr68c6Tte5tVJt1vtgfT+wznkcKThre9fnbThScF4FaOnSpXr99dezxr7yla9o9uzZuu+++zRt2jSVlJSoublZq1atkiS1trbq2LFjqq2tjW/WAIC851WAysvLNXfu3KyxMWPGaPz48Znx22+/XevXr1dVVZUqKiq0du1a1dbW6sYbb4xv1gCAvBf7cgyPPvqoiouLtWrVqqw/RAUA4KOGXICef/75rP8fNWqUNm3apE2bNg111wCAAkYvOABAEDm7Imo+iisF52IluKwUmJVIc/Vrs/p4TZrk7t9n9Yiz+s/5pOCsVI7VP8tKJbn247vaqiWdHpgGSqfdyTMrqWUlviyuVJq1b58eadb2vuk9K2VmvZ+uZJdvGtZKh7nOle+fjfj2AXR9tqz0Xp+RXrT27Zts88KKqACAKxEFCAAQBAUIABAEBQgAEAQFCAAQRE6n4C5MeeTKCqnD3gsuhhVRKyoqnOOuBJvvCqdW2s1K5LnG40qkWefFJyFkfa58VjO1+rKdOnXKOW6dK4srlebT2+1i27vSWtbxxNVrzLW9lWqzWMfp2o/viqjW+2N9Jlx938zPlZGOs1Jz6f7Bb+/9PTKGIN1QVk/lCggAEAQFCAAQBAUIABAEBQgAEEROhxByJXRwobjmZd2gdd0wtdqUWOPWglqu7a0gg3VT2HcuJaUD91Nc5HczO44FtawbyNbNbOtGvGv89OnTzm3fe+8953gci6+dOXPGua11PNbx+9zMtsIt1mfIGnfd5LeO3Xrv4/g6HM72Wdb8rHFzgcH+wb+fPgsaXozrOIfjfeAKCAAQBAUIABAEBQgAEAQFCAAQBAUIABBETqfgCoVvosbVpsZqXWMm1UrdiTRX+sjaR1wLZBU5+n1YyRnfpI2V+nElhKx9uNqoSHYqqbu7e8BYZ2enc9v29nbnuMVaTM7VRsdK3lnvj6XIkUi0wl4TJkxwjpeXlzvHKysrjdcc+AK+7Zl8Uoq+X4NWktB6f1zj9nvpXhjQSjVaCwm6jtMn6Sj5nRefxGkUReZrZu3zj24BAMAwoAABAIKgAAEAgqAAAQCCoAABAIIgBRejuHrEWakSFyv10nfencBxJb6slE2Z0cfrXI97e2sRL1d6xkrU+KTaLra9KyFkpd26urqc4660myS98847A8asnm/WuMV6L3x6wVlpMp/0orWtlbyzUnCpVMo57uopZ+3D6jFovZ+u82Kl2nx670n28bs+K9a2Z864x60FA6203+XuBeebXB0MroAAAEFQgAAAQVCAAABBUIAAAEFQgAAAQeRsCq6oqGhAumIwvYXyic+Kib6rdloJHJ+eYlaqrey0O31VMtLdU86n75eVvrJScNa46zitVJuVVDt58qRz/Pjx4wPG3n//fee2nUYK7LzRJ8xKdvmkF63VVq1z7pOCO3XqlHPcWinVSsGNGzduwFhVVZVz2zFjxjjHrffe9TVhJcysrysrYWh9hlzbW19XVurSOrfWZ8I1d98UnE+CzSdFGUWR+f5k7XPQrw4AQIwoQACAIChAAIAgKEAAgCByNoQQRVFsrW0uG+N+nu9xuLY3W+4YN7Otm6iuNjI+C01J/guHuW4A26fE/YTvzWLXzf9OKyhgLCbX0dHhHHcFDqyb7dZNa+t4rGCB6322bk4PZyuezlSnc9xaAHH06NHO8bKysgFjrmCCZLfosY5zlKOFlLXoovUZ93kfJPdn3PpsWmEDK7Rgvc8+rXh8+YQTaMUDAMg7FCAAQBAUIABAEBQgAEAQFCAAQBA5m4LLR0VWDM7gs8jc+T53aspKyPi0nbFat1jJOyv1YiVwXNv7LjBnHafVAufdd98dMObbAsVKx7nSSr7JJquFkpWyco1bSTrr/fFJwVn7sI7TSqRZny3XuNVyZ+zYsc5xa3tXas5qKxVX0taVmrOSdFY6zhq39uN6/33ae/myPhOk4AAAeYcCBAAIggIEAAiCAgQACIICBAAIwisF9/Wvf13f+MY3ssauuuoq/c///I+kD9Ia9957r5qamtTT06Nly5bpiSeeUHV1dXwzzmG+CRQr8eVKt/T0+qXdrNd0pamsRJbV38xKQlkLuLnmYqW9rLlYC4pZKTPX3M+ece/jzFl3+sjatyuVZKX0fI/T2t71WUmnrQW//NJKPik4nyTdxbZ3peZ8F3Bz9XyT3Ok4a9u4jsf5NWt8JqzPsvWZ8OlL55sutfh8JobC+wrommuu0YkTJzKPX/3qV5nn1q1bp927d2vnzp3at2+fjh8/rpUrV8Y6YQBAYfD+O6CRI0eqpqZmwHgqldLWrVu1Y8cOLVmyRJK0bds2zZkzRwcOHNCNN97o3F9PT0/WTwrWTzsAgMLifQV05MgRTZkyRR//+Md122236dixY5KklpYW9fX1qa6uLrPt7NmzNX36dO3fv9/cX2Njo5LJZOYxbdq0SzgMAEC+8SpAixYt0vbt27Vnzx5t3rxZR48e1Wc+8xl1d3ervb1dpaWlqqyszPo31dXVam9vN/fZ0NCgVCqVebS1tV3SgQAA8ovXr+CWL1+e+e958+Zp0aJFmjFjhn760586F5gajEQioUTCvZgVAKBwDakXXGVlpT75yU/qrbfe0uc+9zn19vaqs7Mz6yqoo6PDec9oMC5MXeT6Cqm+aTcfVqLG2rfPCqpW8srqhfaHP/zBOW6tfulKCFmvaSV+fMddfbV8+qxJdirJdTzpfvf7kI7c4z5pN2s8rq+H4Vz90idN5puAtFY5daU0rV5wVqrNGrd627k+E1avPt/33mdFVOvrviB7wZ06dUq//e1vNXnyZC1YsEAlJSVqbm7OPN/a2qpjx46ptrZ2KC8DAChAXldAf/d3f6ebb75ZM2bM0PHjx7VhwwaNGDFCX/rSl5RMJnX77bdr/fr1qqqqUkVFhdauXava2lozAQcAuHJ5FaD/+7//05e+9CW99957mjhxom666SYdOHBAEydOlCQ9+uijKi4u1qpVq7L+EBUAgAsVRTl2Y6Wrq0vJZFJS7t4D8v3r6Tj+Stxab8X6PbgV7HDdp3Gtn2JtK9nrs3APaCDuAQ3+s++zdpBkf/ZdXQ/y+R6QtU6Q6/NpvWYcnRB8zlUURTp79qxSqZQqKirM16EXHAAgiJxeETVXrngu5DuvOLb37TNnpWFcPzVZP+lbfeasbhXWT4dx9IKzxq2f7FzbW+fE+qnRp6+W9/tj9HGL0oPfT1xfHz77iesKyN3bbuiJTsn93ltXS76/nbDGXXP0PR6f3pC+rxnHZ8UnYTfY1+MKCAAQBAUIABAEBQgAEAQFCAAQRE6HEHJVXDd/rRuGrhujvmED62apTyseK/pthQ2s13TNPa4btD7jvvvweZ99PxMhXjMO1mtaN/PjOB6frxPJfdPeCrH4/umEz3H6BlN8jz+O1/Q5Hp9ACSEEAEBOowABAIKgAAEAgqAAAQCCoAABAIIgBRejuBJCPgkUi09yyDdlFEc7lrgSQj7jw7lgoC/f48l1wznvOL6ufD/jljjSfr6Gs71OHClFn6/vC3EFBAAIggIEAAiCAgQACIICBAAIggIEAAiCFNxlkOs9u+JKCPkY7jTRcC7g5iNEaipfDed7H9dneTi/Jiz5mJgkBQcAyGkUIABAEBQgAEAQFCAAQBAUIABAEKTg8kQuJelCyKW5+MjXeeeD4ehNdqmvmet85x1H/8bB4AoIABAEBQgAEAQFCAAQBAUIABAEBQgAEAQpuCtMvqZ4gMHK1894LvUNvFyvyRUQACAIChAAIAgKEAAgCAoQACAIQggAkAPyNTwxFFwBAQCCoAABAIKgAAEAgqAAAQCCoAABAILI6RTcha0prsSUCAAUKq6AAABBUIAAAEFQgAAAQVCAAABBeBegt99+W1/+8pc1fvx4lZWV6VOf+pQOHTqUeT6KIj344IOaPHmyysrKVFdXpyNHjsQ6aQBA/vMqQO+//74WL16skpISPfPMMzp8+LC+/e1va9y4cZltHn74YT3++OPasmWLDh48qDFjxmjZsmU6d+5c7JMHAOSxyMN9990X3XTTTebz6XQ6qqmpiR555JHMWGdnZ5RIJKKf/OQng3qNVCoVSYokRUVFRVmPD8d58ODBg0fuP1Kp1EW/33tdAf385z/XwoUL9cUvflGTJk3StddeqyeffDLz/NGjR9Xe3q66urrMWDKZ1KJFi7R//37nPnt6etTV1ZX1AAAUPq8C9Lvf/U6bN2/WrFmztHfvXt1111362te+ph/96EeSpPb2dklSdXV11r+rrq7OPHehxsZGJZPJzGPatGmXchwAgDzjVYDS6bSuu+46fetb39K1116rO+64Q1/96le1ZcuWS55AQ0ODUqlU5tHW1nbJ+wIA5A+vAjR58mRdffXVWWNz5szRsWPHJEk1NTWSpI6OjqxtOjo6Ms9dKJFIqKKiIusBACh8XgVo8eLFam1tzRr7zW9+oxkzZkiSZs6cqZqaGjU3N2ee7+rq0sGDB1VbW+s1saKiogEPAEBuGdL36sHl3z7w4osvRiNHjoweeuih6MiRI9FTTz0VjR49Ovrxj3+c2Wbjxo1RZWVl9PTTT0evvfZatGLFimjmzJnR2bNnvVJwRUVFUXFxcdZDOZDq4MGDBw8e//9xYVr5o4nlP5aC8ypAURRFu3fvjubOnRslEolo9uzZ0Q9/+MOs59PpdPTAAw9E1dXVUSKRiJYuXRq1trYOev8UIB48ePDIn8dQClBRFOXWGgddXV1KJpPOS7l0Oh1oVgAAF9ev3D4sK6lU6qL39ekFBwAIggIEAAiCAgQACIICBAAIggIEAAiCAgQACIICBAAIYmToCVhKSkoG5Mt7e3ud2+bYnzLlhDhaF3FegcvH92t2OL8+L1frM66AAABBUIAAAEFQgAAAQVCAAABB5FwI4cMba64bbNwUHzzOFZBfculrNq65/LH95FwB6u7uliT19fUFngkAYCi6u7uVTCbN53NuOYZ0Oq3jx4+rvLxc3d3dmjZtmtra2gp6qe6uri6Os0BcCccocZyFJu7jjKJI3d3dmjJlioqL7Ts9OXcFVFxcrKlTp0r6/1n0ioqKgn7zP8RxFo4r4RgljrPQxHmcF7vy+RAhBABAEBQgAEAQOV2AEomENmzYoEQiEXoqw4rjLBxXwjFKHGehCXWcORdCAABcGXL6CggAULgoQACAIChAAIAgKEAAgCAoQACAIHK6AG3atEl/8id/olGjRmnRokV68cUXQ09pSF544QXdfPPNmjJlioqKivSzn/0s6/koivTggw9q8uTJKisrU11dnY4cORJmspeosbFR119/vcrLyzVp0iTdcsstam1tzdrm3Llzqq+v1/jx4zV27FitWrVKHR0dgWZ8aTZv3qx58+Zl/nK8trZWzzzzTOb5QjjGC23cuFFFRUW65557MmOFcJxf//rXVVRUlPWYPXt25vlCOMYPvf322/ryl7+s8ePHq6ysTJ/61Kd06NChzPOX+3tQzhagf/u3f9P69eu1YcMGvfzyy5o/f76WLVumkydPhp7aJTt9+rTmz5+vTZs2OZ9/+OGH9fjjj2vLli06ePCgxowZo2XLluncuXOXeaaXbt++faqvr9eBAwf07LPPqq+vT5///Od1+vTpzDbr1q3T7t27tXPnTu3bt0/Hjx/XypUrA87a39SpU7Vx40a1tLTo0KFDWrJkiVasWKE333xTUmEc40e99NJL+sEPfqB58+ZljRfKcV5zzTU6ceJE5vGrX/0q81yhHOP777+vxYsXq6SkRM8884wOHz6sb3/72xo3blxmm8v+PSjKUTfccENUX1+f+f/+/v5oypQpUWNjY8BZxUdStGvXrsz/p9PpqKamJnrkkUcyY52dnVEikYh+8pOfBJhhPE6ePBlJivbt2xdF0QfHVFJSEu3cuTOzzX//939HkqL9+/eHmmYsxo0bF/3zP/9zwR1jd3d3NGvWrOjZZ5+N/uzP/iy6++67oygqnPdyw4YN0fz5853PFcoxRlEU3XfffdFNN91kPh/ie1BOXgH19vaqpaVFdXV1mbHi4mLV1dVp//79AWc2fI4ePar29vasY04mk1q0aFFeH3MqlZIkVVVVSZJaWlrU19eXdZyzZ8/W9OnT8/Y4+/v71dTUpNOnT6u2trbgjrG+vl5f+MIXso5HKqz38siRI5oyZYo+/vGP67bbbtOxY8ckFdYx/vznP9fChQv1xS9+UZMmTdK1116rJ598MvN8iO9BOVmA3n33XfX396u6ujprvLq6Wu3t7YFmNbw+PK5COuZ0Oq177rlHixcv1ty5cyV9cJylpaWqrKzM2jYfj/P111/X2LFjlUgkdOedd2rXrl26+uqrC+oYm5qa9PLLL6uxsXHAc4VynIsWLdL27du1Z88ebd68WUePHtVnPvMZdXd3F8wxStLvfvc7bd68WbNmzdLevXt111136Wtf+5p+9KMfSQrzPSjnlmNA4aivr9cbb7yR9fv0QnLVVVfp1VdfVSqV0r//+79r9erV2rdvX+hpxaatrU133323nn32WY0aNSr0dIbN8uXLM/89b948LVq0SDNmzNBPf/pTlZWVBZxZvNLptBYuXKhvfetbkqRrr71Wb7zxhrZs2aLVq1cHmVNOXgFNmDBBI0aMGJA06ejoUE1NTaBZDa8Pj6tQjnnNmjX6xS9+oV/+8peZ9Z2kD46zt7dXnZ2dWdvn43GWlpbqE5/4hBYsWKDGxkbNnz9f3/3udwvmGFtaWnTy5Eldd911GjlypEaOHKl9+/bp8ccf18iRI1VdXV0Qx3mhyspKffKTn9Rbb71VMO+lJE2ePFlXX3111ticOXMyv24M8T0oJwtQaWmpFixYoObm5sxYOp1Wc3OzamtrA85s+MycOVM1NTVZx9zV1aWDBw/m1TFHUaQ1a9Zo165deu655zRz5sys5xcsWKCSkpKs42xtbdWxY8fy6jhd0um0enp6CuYYly5dqtdff12vvvpq5rFw4ULddtttmf8uhOO80KlTp/Tb3/5WkydPLpj3UpIWL1484E8ifvOb32jGjBmSAn0PGpZoQwyampqiRCIRbd++PTp8+HB0xx13RJWVlVF7e3voqV2y7u7u6JVXXoleeeWVSFL0ne98J3rllVei3//+91EURdHGjRujysrK6Omnn45ee+21aMWKFdHMmTOjs2fPBp754N11111RMpmMnn/++ejEiROZx5kzZzLb3HnnndH06dOj5557Ljp06FBUW1sb1dbWBpy1v/vvvz/at29fdPTo0ei1116L7r///qioqCj6z//8zyiKCuMYXT6agouiwjjOe++9N3r++eejo0ePRr/+9a+jurq6aMKECdHJkyejKCqMY4yiKHrxxRejkSNHRg899FB05MiR6KmnnopGjx4d/fjHP85sc7m/B+VsAYqiKPre974XTZ8+PSotLY1uuOGG6MCBA6GnNCS//OUvI0kDHqtXr46i6IMY5AMPPBBVV1dHiUQiWrp0adTa2hp20p5cxycp2rZtW2abs2fPRn/7t38bjRs3Lho9enT0F3/xF9GJEyfCTfoS/M3f/E00Y8aMqLS0NJo4cWK0dOnSTPGJosI4RpcLC1AhHOett94aTZ48OSotLY0+9rGPRbfeemv01ltvZZ4vhGP80O7du6O5c+dGiUQimj17dvTDH/4w6/nL/T2I9YAAAEHk5D0gAEDhowABAIKgAAEAgqAAAQCCoAABAIKgAAEAgqAAAQCCoAABAIKgAAEAgqAAAQCCoAABAIL4f1oACKaeHlBrAAAAAElFTkSuQmCC\n"
          },
          "metadata": {}
        },
        {
          "output_type": "display_data",
          "data": {
            "text/plain": [
              "<Figure size 640x480 with 1 Axes>"
            ],
            "image/png": "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\n"
          },
          "metadata": {}
        },
        {
          "output_type": "display_data",
          "data": {
            "text/plain": [
              "<Figure size 640x480 with 1 Axes>"
            ],
            "image/png": "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\n"
          },
          "metadata": {}
        },
        {
          "output_type": "display_data",
          "data": {
            "text/plain": [
              "<Figure size 640x480 with 1 Axes>"
            ],
            "image/png": "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\n"
          },
          "metadata": {}
        },
        {
          "output_type": "display_data",
          "data": {
            "text/plain": [
              "<Figure size 640x480 with 1 Axes>"
            ],
            "image/png": "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\n"
          },
          "metadata": {}
        },
        {
          "output_type": "display_data",
          "data": {
            "text/plain": [
              "<Figure size 640x480 with 1 Axes>"
            ],
            "image/png": "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\n"
          },
          "metadata": {}
        },
        {
          "output_type": "display_data",
          "data": {
            "text/plain": [
              "<Figure size 640x480 with 1 Axes>"
            ],
            "image/png": "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\n"
          },
          "metadata": {}
        }
      ],
      "execution_count": null
    },
    {
      "cell_type": "code",
      "source": [
        "vae.save('VAE.keras')"
      ],
      "metadata": {
        "id": "A5hJpYeakiQa",
        "trusted": true,
        "execution": {
          "iopub.status.busy": "2025-07-27T05:16:16.255984Z",
          "iopub.execute_input": "2025-07-27T05:16:16.256244Z",
          "iopub.status.idle": "2025-07-27T05:16:16.405361Z",
          "shell.execute_reply.started": "2025-07-27T05:16:16.256227Z",
          "shell.execute_reply": "2025-07-27T05:16:16.404798Z"
        }
      },
      "outputs": [],
      "execution_count": null
    },
    {
      "cell_type": "markdown",
      "source": [
        "## Visualize latent space using PCA"
      ],
      "metadata": {
        "id": "z9V_D_kVtQ2v"
      }
    },
    {
      "cell_type": "code",
      "source": [
        "pca = LatentSpace2D()\n",
        "\n",
        "latent_space = {'encoded_version': [], 'labels': []}\n",
        "for data in processed_dataset.take(5):\n",
        "    encoder_output = encoder(data['image'])\n",
        "    latent_space['encoded_version'].append(encoder_output[0].numpy().squeeze())\n",
        "    latent_space['labels'].append(data['label'])\n",
        "\n",
        "latent_space['encoded_version'] = np.concatenate(latent_space['encoded_version'], axis = 0)\n",
        "latent_space['labels'] = np.concatenate(latent_space['labels'], axis=0)\n",
        "pca.visualize(latent_space)"
      ],
      "metadata": {
        "id": "FXn2eSxotT-y",
        "trusted": true,
        "execution": {
          "iopub.status.busy": "2025-07-27T05:16:49.996912Z",
          "iopub.execute_input": "2025-07-27T05:16:49.997598Z",
          "iopub.status.idle": "2025-07-27T05:16:50.391554Z",
          "shell.execute_reply.started": "2025-07-27T05:16:49.997574Z",
          "shell.execute_reply": "2025-07-27T05:16:50.390898Z"
        },
        "colab": {
          "base_uri": "https://localhost:8080/",
          "height": 512
        },
        "outputId": "e1d8dadd-9a4e-4c53-f7a2-c0b4f9d0cedf"
      },
      "outputs": [
        {
          "output_type": "display_data",
          "data": {
            "text/plain": [
              "<Figure size 800x600 with 2 Axes>"
            ],
            "image/png": "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\n"
          },
          "metadata": {}
        }
      ],
      "execution_count": null
    },
    {
      "cell_type": "markdown",
      "source": [
        "## Sample images from the latent space"
      ],
      "metadata": {
        "id": "F1SUNqXrV08A"
      }
    },
    {
      "cell_type": "code",
      "source": [
        "# Latent space dimensions = 32\n",
        "for _ in range(10):\n",
        "    noise = tf.random.normal(shape = (1, 32))\n",
        "    img = decoder(noise)\n",
        "    plot_img(img[0])"
      ],
      "metadata": {
        "id": "RwkhvSLl-UHM",
        "trusted": true,
        "colab": {
          "base_uri": "https://localhost:8080/",
          "height": 1000
        },
        "outputId": "5087c27b-df5a-4653-87d9-acec733fc29d"
      },
      "outputs": [
        {
          "output_type": "display_data",
          "data": {
            "text/plain": [
              "<Figure size 640x480 with 1 Axes>"
            ],
            "image/png": "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\n"
          },
          "metadata": {}
        },
        {
          "output_type": "display_data",
          "data": {
            "text/plain": [
              "<Figure size 640x480 with 1 Axes>"
            ],
            "image/png": "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\n"
          },
          "metadata": {}
        },
        {
          "output_type": "display_data",
          "data": {
            "text/plain": [
              "<Figure size 640x480 with 1 Axes>"
            ],
            "image/png": "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\n"
          },
          "metadata": {}
        },
        {
          "output_type": "display_data",
          "data": {
            "text/plain": [
              "<Figure size 640x480 with 1 Axes>"
            ],
            "image/png": "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\n"
          },
          "metadata": {}
        },
        {
          "output_type": "display_data",
          "data": {
            "text/plain": [
              "<Figure size 640x480 with 1 Axes>"
            ],
            "image/png": "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\n"
          },
          "metadata": {}
        },
        {
          "output_type": "display_data",
          "data": {
            "text/plain": [
              "<Figure size 640x480 with 1 Axes>"
            ],
            "image/png": "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\n"
          },
          "metadata": {}
        },
        {
          "output_type": "display_data",
          "data": {
            "text/plain": [
              "<Figure size 640x480 with 1 Axes>"
            ],
            "image/png": "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\n"
          },
          "metadata": {}
        },
        {
          "output_type": "display_data",
          "data": {
            "text/plain": [
              "<Figure size 640x480 with 1 Axes>"
            ],
            "image/png": "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\n"
          },
          "metadata": {}
        },
        {
          "output_type": "display_data",
          "data": {
            "text/plain": [
              "<Figure size 640x480 with 1 Axes>"
            ],
            "image/png": "iVBORw0KGgoAAAANSUhEUgAAAaAAAAGfCAYAAAAZGgYhAAAAOnRFWHRTb2Z0d2FyZQBNYXRwbG90bGliIHZlcnNpb24zLjEwLjAsIGh0dHBzOi8vbWF0cGxvdGxpYi5vcmcvlHJYcgAAAAlwSFlzAAAPYQAAD2EBqD+naQAAM9lJREFUeJzt3X9sVfd9//GXDf7BL19jflzj8WNUpYEkhSZAiEe6rcQtiqooGahLK6qxLmqUzNDwI2rjSQnt1MZRojVpWsdpMgaRVuaVSaylU2CR0zhrBiQ4iZqEjZKWDa9g05D4+gdgG3y+f0S535r7eRM+9rl8ri/Ph3Sl8Lkn537O/fXmcF73/SmIoigSAACXWWHoCQAArkwUIABAEBQgAEAQFCAAQBAUIABAEBQgAEAQFCAAQBAUIABAEBQgAEAQFCAAQBBjs7XjhoYGPfroo2pvb9eiRYv0/e9/XzfccMNH/n+Dg4M6fvy4Jk2apIKCgmxNDwCQJVEUqbu7W1VVVSosvMh5TpQFTU1NUXFxcfQP//AP0dtvvx199atfjcrLy6OOjo6P/H/b2toiSdy4cePGbZTf2traLvp9XxBF8TcjXbZsmZYuXaof/OAHkj44q5k1a5bWr1+v+++//6L/byqVUnl5uYqLizPOgPr6+uKeak5ynfll4WUCgKzq7OxUIpEw74/9n+D6+/vV2tqqurq69FhhYaFqamq0b9++jO37+vqGFJbu7m5JH3wJX/hFbP2T3Gj9craOJ5sF6HLvO879j0Y8J5cff4G7vC72fH/UZZTYQwjvvvuuzp8/r2QyOWQ8mUyqvb09Y/v6+nolEon0bdasWXFPCQCQg4Kn4Orq6pRKpdK3tra20FMCAFwGsf8T3NSpUzVmzBh1dHQMGe/o6FBlZWXG9iUlJSopKckY7+vryzh9y7fTaOt4snmco3XfoxXPyeXHc355jeT5jv0MqLi4WIsXL1Zzc3N6bHBwUM3Nzaquro774QAAo1RWfge0adMmrV27VkuWLNENN9ygxx9/XL29vfrKV76SjYcDAIxCWSlAd9xxh373u9/pwQcfVHt7uz71qU9pz549GcEEAMCVKyu/AxqJrq6udG48368BAUA+S6VSKisrM+8PnoIDAFyZKEAAgCAoQACAIChAAIAgKEAAgCAoQACAILK2IN1IubphE8MGgPzBGRAAIAgKEAAgCAoQACAIChAAIAgKEAAgiJxNwUVRROoNAPIYZ0AAgCAoQACAIChAAIAgKEAAgCAoQACAIChAAIAgKEAAgCAoQACAIChAAIAgKEAAgCAoQACAIChAAIAgKEAAgCAoQACAIChAAIAgKEAAgCBydkE6ABiOgoKCjDEWt8xNnAEBAIKgAAEAgqAAAQCCoAABAIKgAAEAgiAFB8TAlbzKNt9kV4g5hpDN4yRNFy/OgAAAQVCAAABBUIAAAEFQgAAAQVCAAABBkILDFcNKR1nJJp80lW/yKptz8XWlpONcfFNtcaTg4krS5UMijzMgAEAQFCAAQBAUIABAEBQgAEAQFCAAQBDeKbiXXnpJjz76qFpbW3XixAnt2rVLt99+e/r+KIq0ZcsWPfPMM+rs7NTy5cvV2NioefPmxTlv5KkQiSzrMeNIwcWxb2t738RcXHPx4Zv2y5bBwUGv7a35+cw7rkSjNfd8WPnV+wyot7dXixYtUkNDg/P+Rx55RE888YSeeuopHThwQBMmTNDKlSt19uzZEU8WAJA/CqIRlMyCgoIhZ0BRFKmqqkqbN2/WfffdJ0lKpVJKJpPavn27vvjFL2bso6+vT319fek/d3V1adasWcOdEka5XPpNCmdAI8cZ0Mj5zD3XzoBSqZTKysrM+2O9BnT06FG1t7erpqYmPZZIJLRs2TLt27fP+f/U19crkUikbxQfALgyxFqA2tvbJUnJZHLIeDKZTN93obq6OqVSqfStra0tzikBAHJU8FY8JSUlKikpCT0NAMBlFmsBqqyslCR1dHRoxowZ6fGOjg596lOf8t7fhf9+nGv/volLE8c1hhD78LlmYm07ZsyYy/6YcYwXFrr/cSSuVVhd49a1DvMaiPFyFjjuOH/+vHNb32s9PuPZ7jPnel5y5ZrbpYr1n+Dmzp2ryspKNTc3p8e6urp04MABVVdXx/lQAIBRzvsMqKenR++88076z0ePHtUbb7yhiooKzZ49Wxs2bNC3v/1tzZs3T3PnztUDDzygqqqqIb8VAgDAuwAdPHhQn/nMZ9J/3rRpkyRp7dq12r59u77+9a+rt7dXd911lzo7O3XTTTdpz549Ki0tjW/WAIBRb0S/A8qGrq4uJRIJSVwDyhdcA7q8j8k1oPy6BmTNfTT8PuijfgcUPAV3MRScsOL6gWKIH3Q6xz2+sCT7S9g1Pnas+6NkFSBr39b2rnHr2H3mfbFxH76vj+vL07cARTKKwWDmuO+XuDV+7ty5S97enLfxvea7/Ui3Hc72caMZKQAgCAoQACAIChAAIAgKEAAgCAoQACCInE7BEcOOXxyJNN/tfSLEViIrjsSXT8JMkoqKipzjrsRbcXHxJW97se19HtM6dt9EXhxLPfhypdJc6TVJGozc6TAr2eYat7a1Um39/f3O8d9fOub3DQwMXPK+fcfjWBricrvUuXEGBAAIggIEAAiCAgQACIICBAAIggIEAAgip1Nw+GhxJNWy2n9N7rSWby80a/tsJtXGjx/vHHet4Gt1e7fmN27cOK/ti4ozx8cUup8r63ji6AXnu+CZNe5KfPn2a7NSY679uFJqkp1qO3P2rHO8t6fHvf2ZM5n7NvbR79l7z3peXK+bbz+50AvYcQYEAAiCAgQACIICBAAIggIEAAiCAgQACCJnU3AFBQVXbC+4y72CaFz913x6rfn2X7MSbK5EmjVuJc+stNukSZOc4xMnTrzkeXin3TzGrce0+Lye1uvjvWqpRzrOJ9V2se1d4729vc5tXek1Seox0m49xuvZ2dmZ+ZhW7z3jMa3Xx3c5cR/Z/E69lH1zBgQACIICBAAIggIEAAiCAgQACCJnQwhRFOV96OByhw2scd8WLdYFaqsFjM8FdN+L+a5AgCRNmDAhY6ysrMy5rRVCKEu4t584IfMxrVY8vgvS+bTR8b3wb23v2rf1yYuMfVgXyi2uuVgBDJ99WOPWa2y16Onu7naOd3V1XeLs7M+g7wJ7Ftfr7NsSKVuL3bEgHQAgp1GAAABBUIAAAEFQgAAAQVCAAABB5GwKTspMkYzWVFyuLxoXV8sdK8Xks4CblWpLJBLOcatdjmt7KwXnu2/XHH0TXFYKznrOXcmu/v7+S95WslNWrtffd3E4i5kEc+zH93Pi81y5UpHWtpKdurTGfRJsVvJuoN897tsqazThDAgAEAQFCAAQBAUIABAEBQgAEAQFCAAQRE6n4EZb6i2OtJvvtr7jPouP+fYxs8Zdfbh8025TpkxxjpeXl1/yuG/azUrNuRJ8VlLJSqpZz7mVkHKlrKxtfRZqk/zeh1bayzpOa9+u47eeQ9++ea59++7j9OnTznHrfes6/r6+Pq99W9tbz4uL73dQ6O9YzoAAAEFQgAAAQVCAAABBUIAAAEFQgAAAQeRsCq6goCAj0eHbhypb4kq7xdGvLY4+blYiyzftZvXJcqXMrPTa1KlTnePJZNI5biXVXOM+vd0ku3+YKznls9qoZCfSrP34pKysRJqVmvN5T1j7tsatlJkc6atC431lvcetfbt6D1qvpe972Rrv7e3NGOvp6XFua6Xgzpw54xyPY5XcbPaNG0mSjjMgAEAQFCAAQBAUIABAEBQgAEAQXgWovr5eS5cu1aRJkzR9+nTdfvvtOnz48JBtzp49q9raWk2ZMkUTJ07U6tWr1dHREeukAQCjn1cKrqWlRbW1tVq6dKnOnTunv/mbv9HnPvc5HTp0KJ0y2bhxo/7t3/5NO3fuVCKR0Lp167Rq1Sq9/PLLXhML3aNoOLzTcR77iWvVUte4KzUk2YkfK1FkpcymVGT2cauYUuHcdvr06e59GL3grP5urjlaq7Bazp13J9Vc6bOzZ886t+3q6nKOW4k0KyHl2r+1re9Kqa73lvW+so7Tt8+czyq5kydPdo5Pmuh+v7lSY7595qzPj3U8rvebqweiZH/efB/Txfre9P0+vVzfv14FaM+ePUP+vH37dk2fPl2tra364z/+Y6VSKW3dulU7duzQihUrJEnbtm3TggULtH//ft14443xzRwAMKqN6BpQKpWSJFVUfPC32dbWVg0MDKimpia9zfz58zV79mzt27fPuY++vj51dXUNuQEA8t+wC9Dg4KA2bNig5cuX69prr5Uktbe3q7i4OONHhslkUu3t7c791NfXK5FIpG+zZs0a7pQAAKPIsAtQbW2t3nrrLTU1NY1oAnV1dUqlUulbW1vbiPYHABgdhtWKZ926dfrZz36ml156STNnzkyPV1ZWqr+/X52dnUPOgjo6OlRZWencV0lJiXlRLl+YbXSMC6Ou7a0LlNbFVZ/F5KyLpVbY4MN/cr2QT3sdq+WO776t4IPPe8oKBJw57W6N4roQb/3T8alTpy55H5JfsMA3EGBdWPYJIfgsmCdJRUVFznGrjZCLdZxWSMY6fhefBfMkv/Y/VqjCek58Wu5I2W2vc7l4nQFFUaR169Zp165deuGFFzR37twh9y9evFhFRUVqbm5Ojx0+fFjHjh1TdXV1PDMGAOQFrzOg2tpa7dixQz/5yU80adKk9HWdRCKhcePGKZFI6M4779SmTZtUUVGhsrIyrV+/XtXV1STgAABDeBWgxsZGSdKf/umfDhnftm2b/vIv/1KS9Nhjj6mwsFCrV69WX1+fVq5cqSeffDKWyQIA8odXAbqUHyeVlpaqoaFBDQ0Nw54UACD/0QsOABBEzi5IdyWLoxWPlahxJXCstJvV5sZqjWIl21ztdaZNm+bc1jfVZqWVXCkrq0VNd3e3c9xKpLkSb52dKee2qVSnc9xKk1mJL9f21vFYiTTrXzBc7yHrfeXLJ43oWtRNkoqN1JjPYnKDkbsNkfU5sZ4r67l17SeOhSgv9piu1kpWu6W4WvTEjTMgAEAQFCAAQBAUIABAEBQgAEAQFCAAQBA5m4IrLCzMSIVYaZArme+CdK6EkNULzkrBWX3ZrGSbazE5q+eblWyyjtN6T/j0a3v//fed41Yft87Ozksak+yEndWvzKfXmk866mJcz63PgoaSneCyUlauZJu1jzNGMnC80U/O9dxGg5eeAJT8+ub58k2kDRpzd22fq2k3C2dAAIAgKEAAgCAoQACAIChAAIAgKEAAgCByNgU3ODiYsyv++fZl81110bUfKx1m9dqy+ru5eq1NrnD3dnOl1yR3b7eLbe9KzVnzthJcPT09XuM+SbX33nvPOW6l41zJNquPmdVPzjcF53pefHu++Yijx6BkH6freHzes9Y+JPdKw2MK/VYUNvftkfaz9mG9buZKrqMs2eaDMyAAQBAUIABAEBQgAEAQFCAAQBAUIABAEDmbgssVPquT+qbjfPpt+az+KNmJIlcirWKyuy+btcKplXazeseVlpZmjFnHfubMGee41VPtd7/7nXPc1cfNO+3W5X7M3tOZiTdrJVNr1VIr7WYloXxSVnGko6zXx0rBWePWZ8KVmrN6ElrHY35+XJ83I1Dr20/PJ8FmvZbWuJlq1OhPu1k4AwIABEEBAgAEQQECAARBAQIABEEIYRisUIHvuE9owWp1YrW0mThxonPcFUKwQgWTJ7tb9FitUaw5ui7oWi10rEDAu+++6xz3CSFY+04ZLXp6jTY6fY6F0FxjknTeuhDtefE7m4uPWe9PF9+gjbk4nkeowgo4WCEE1/vQdx8W6/hdczcDKP3uAIpPGyaJVjwAAAwbBQgAEAQFCAAQBAUIABAEBQgAEETOpuAKCwszEidWq4pscqVe4ki1XWzclcyxUjyuNjeSnYJzJdvKysqc21ppN2su1vG42tRYLXdc6TVJOnnypNe4K/GWSqWc21qLyVntdVytVHwTTL7jPim4OPikvS4+F/e4a//W+8pqQ2WlLn1SfRbreKzj93lPDJxzj2dzgcFcxRkQACAIChAAIAgKEAAgCAoQACAIChAAIIicTcENDg6aSZzQvBfI8uhZJbn7u1mpNiupZi0O51rAzlrUzuoz55N2k6Surq6MMasvW0dHh3P85El3z7dOo4+bq9ecT6pN8lusbDQklazPk0/CzmeBOUkqLTUWTHS8b633uPVeLk+UO8ddC9v5vpettJvV88+V6rS2tcat3nH0ggMAIGYUIABAEBQgAEAQFCAAQBAUIABAEDmbgisoKMhI3IRIfbhSP74936wUnNXjypXimTBhgnNbKwXn2ofkTrxZCSZr3laPKyvF40q8WSuZWiufvveeu0ec1cfNNW7Nz0rB+aSPrNfed9XSbCY/fd631vFYaTKrJ6GVYJtSUZExNm3aNOe21sq8Eye5U3Ou97N17FbS0UqqnTZWyXWl4M56pt2s92E2+SQjs4EzIABAEBQgAEAQFCAAQBAUIABAEF4hhMbGRjU2Nup//ud/JEnXXHONHnzwQd1yyy2SPmh1snnzZjU1Namvr08rV67Uk08+qWQyGfvELxefi3HWBT3fVjyucIJ1kbfUuig87tK3t+ZnXSy1xq0LtN3d3RljrlY5F9uH1UbHp32J74VV6/V0jfuGCnxDCz7iCMlY7wnfsIHPuG9bKat1jxXucfENG/Q43suSu91Un/Ge9V28MJvvCZ/3bTaCCV5nQDNnztTDDz+s1tZWHTx4UCtWrNBtt92mt99+W5K0ceNG7d69Wzt37lRLS4uOHz+uVatWxT5pAMDo53UGdOuttw7583e+8x01NjZq//79mjlzprZu3aodO3ZoxYoVkqRt27ZpwYIF2r9/v2688cb4Zg0AGPWGfQ3o/PnzampqUm9vr6qrq9Xa2qqBgQHV1NSkt5k/f75mz56tffv2mfvp6+tTV1fXkBsAIP95F6A333xTEydOVElJie6++27t2rVLV199tdrb21VcXKzy8vIh2yeTSbW3t5v7q6+vVyKRSN9mzZrlfRAAgNHHuwBdddVVeuONN3TgwAHdc889Wrt2rQ4dOjTsCdTV1SmVSqVvbW1tw94XAGD08G7FU1xcrI9//OOSpMWLF+vVV1/V9773Pd1xxx3q7+9XZ2fnkLOgjo4OVVZWmvsrKSlxtvcYO3ZsRhLDSo9kMyXi04rHN+3msyCduQ8j8TN2jPuldW1vtQCxEkJW+xsr2ZZKpTLGXMm4i+3bmovVSiWO9KKVGvN5T/i2gPFp3WOlpnxbQo0dm/lesZJkVvLMapdjjU+dMuWSt/VNu7mO0/rusMbN97JxicD1vrWSm3G8ZyW/92E2vyNH8ngj/h3Q4OCg+vr6tHjxYhUVFam5uTl93+HDh3Xs2DFVV1eP9GEAAHnG6wyorq5Ot9xyi2bPnq3u7m7t2LFDL774ovbu3atEIqE777xTmzZtUkVFhcrKyrR+/XpVV1eTgAMAZPAqQCdPntRf/MVf6MSJE0okElq4cKH27t2rz372s5Kkxx57TIWFhVq9evWQH6ICAHAhrwK0devWi95fWlqqhoYGNTQ0jGhSAID8Ry84AEAQObsg3cDAwGVdkM7atytpZKWPrHSLtb2VKnGle1wLyUkX6RFnjLsST9Y8rHSc1X/NSqq5trf27ZsQsrZ3jftsK9mvm0scSbqLjbtY8/NNXbr6Bo4rcb9/pk+f7hy3+j1aCdipjsXnpjiScZJUVlbmHLeeW9d7y3rPWmlMa8HEE8ZvGk92nMwYcy3EKNkJO+vz4/NZ8e0nF2KRz9/HGRAAIAgKEAAgCAoQACAIChAAIAgKEAAgiJxNweUy30SJbwrOlVRzjUl2ssnq++V6TN90mJXWOXPmjHP83EBmisfaty+f59w3SefDer6tcd8VVH3Sca5egpKdjHT1WrNWJ53mSK8NZ/zCrvmSnXazer75vG+tHoNWUs1Kwf3uZGbaTZI6U50ZY1bCzuoRZ/Wl80lp5mrazcIZEAAgCAoQACAIChAAIAgKEAAgCAoQACCInE7B5UJywzUHK5Vi9WzyTaYUOhJPVt8ri7VvV9LGSulZaZ0zp91pN2v7vv7M1JyV+InrOXQdU1y9+goKMl+LuHrBWdv7vP4TJkxwjlsri7rSZ1YKzurtNmPGDOf4tOlGCi5Rnjk/Y96FRpLQZyVfq/+alXZ79913vca7HCulWqlQqy+ddTw+/d1y4TvTB2dAAIAgKEAAgCAoQACAIChAAIAgcjqEcDkXpIuD74VyM4TguOjq2y7HutDpGrda65w2wgY9Pe4WI1a7E1c4wQoh+Lao8Xlufd8/dlDg0kMiVgsla9xqO+Nq6WPtwwoQuNrfWNsnEgnntlOnTnWOV1RUOMcTZe79uB7Talvk+x53Xfx/7733nNt2dHQ4x08aLXes/bje+1Yox3cxRp+FEUcbzoAAAEFQgAAAQVCAAABBUIAAAEFQgAAAQeR0Ci7XU28X8m2vYi0m51pQzGqvYi0yZiWkXOkzO5Xj1xrEZzyuxKD1nLsSVb7vJ+t1c+3bd2FAn9dekkqKM8dLSt3bTp482TluJdVc21tte6ZPn+71mNZ+XM+t9T602ui832ksJncys72O1XLn1KlTzvHOzk7neCqVco67UnBWutQ3BTfaFpnzwRkQACAIChAAIAgKEAAgCAoQACAIChAAIIicTsGNtl5wPoksye775UpCWak2K6nls+Cb1VOrzxj3XUzOJwVn8X1uXY/pu484UnDW+Lhx47zGXb3TrGSklXazxl0L0o0fP/6S53Gx7a3n0JX4stJuVv81a3G4EydOZIwdP545Jtk936x0nDVHn36HvinSfMYZEAAgCAoQACAIChAAIAgKEAAgCAoQACCInE7BjTY+qamLjbv2YyW4rOSZlTJzbW/to9/oZWWle3xWdMxmXzbrMa19WOkjn9fH2tZ63awEpJUmmzgps6fa5HJ3/7UpU6Y4x6ca4xMdybYSz/n5vj9dqbFUp7vPmtXHzWc101On3Ik5q+ebtbqvT38337RbPvd8s3AGBAAIggIEAAiCAgQACIICBAAIImdDCIWFhRkXNq2L3NnkurhqXcz2XZDO4treuvjpe+HS9RyaIQSjFY817tOKx2JdzI9DXIvd+YQQrBZKVgjBWmBw0sTMoIAVNrAWh0uUlzvHXe1/xhothKznxPpsWu9b10X+d42gQHt7u3Pc1XJHcocWrCBDV1eXc/zMmTPOcZ8ADmGDj8YZEAAgCAoQACAIChAAIAgKEAAgCAoQACCIEaXgHn74YdXV1enee+/V448/LumDFhubN29WU1OT+vr6tHLlSj355JNKJpNe+x4cHDQTN6H5pt18U1au9MyYQr92Pj6sZI9POx/JTse5EkXWtpYCz+ShK31mbeu7UJ1r365FBC82biXVyo2k2vTp0zPGrM+UtQ9rMTnX+9Z30UFrvLu72znuWmTu+PHjzm2tljtWss21UJ01D1dLIMm/3ZTrs3Ilptp8DfsM6NVXX9UPf/hDLVy4cMj4xo0btXv3bu3cuVMtLS06fvy4Vq1aNeKJAgDyy7AKUE9Pj9asWaNnnnlmyN/kUqmUtm7dqu9+97tasWKFFi9erG3btuk///M/tX///tgmDQAY/YZVgGpra/X5z39eNTU1Q8ZbW1s1MDAwZHz+/PmaPXu29u3b59xXX1+furq6htwAAPnP+xpQU1OTXnvtNb366qsZ97W3t6u4uDjj36CTyaT5a+b6+np961vf8p0GAGCU8zoDamtr07333qsf/ehHZssQX3V1dUqlUulbW1tbLPsFAOQ2rzOg1tZWnTx5Utdff3167Pz583rppZf0gx/8QHv37lV/f786OzuHnAV1dHSosrLSuc+SkhIzKZQL4ugFJ2PcSsm4EjgD59ypnILCkfef8104y0oCWeM+i+BZvdOsPKRPOs7atzVeZPRDc/VxmzBhgnPbiRMzF5KT7KSalY5zpeAqKiqc21ppN+svja5EovX6WOkwq+fbqVOnnOOuReOsfyWx0m6uJJ3kXmQujgXmJP/+biPdNt95FaCbb75Zb7755pCxr3zlK5o/f76+8Y1vaNasWSoqKlJzc7NWr14tSTp8+LCOHTum6urq+GYNABj1vArQpEmTdO211w4ZmzBhgqZMmZIev/POO7Vp0yZVVFSorKxM69evV3V1tW688cb4Zg0AGPViX47hscceU2FhoVavXj3kh6gAAPy+ERegF198ccifS0tL1dDQoIaGhpHuGgCQx+gFBwAIImdXRM0VrsSKT9pLkgaMvmc+q0Wa6TAjYVdU7E5wuXrKWYk5azyO1T/jWlXWZ3ufVJtkp8Zc41YKLpFIOMenGAm2CmOVU9fqp2VlZc5tXSucSvZz5UrBWe9NKwWXSqWc41aCzTXuSsZdbB/vv/++c7ynpydjzPd4rM+4z+q+pN0+GmdAAIAgKEAAgCAoQACAIChAAIAgKEAAgCByNgVXWDgmI7Vz/rw7ZZYrrNSLlaixVmN0rSDqm4IzVwotzd5KoVbKbPz48RljcaSMJL8+blbazepFaPVxc6XMrP5rZgrOSLtZPeJc+3E9r5KdGLSec1cSzPUelOyVRV2rkEp2fzdX4s1a+dTV203y6++WzbSbROJtuDgDAgAEQQECAARBAQIABEEBAgAEkbMhhMHB8/YCb5eT49pithdwc10wjWMhLMm9gFuJcXHed6G2OI7H9zh92utYF+2t1jVWCMHViscKD1gteqyF53we02K1hDp9+rRzvKurK2PManNjjVsBAp9WPK55SHYgwtVCSHIff1yfH8IG8eIMCAAQBAUIABAEBQgAEAQFCAAQBAUIABBEzqbgCgoKMlJwQRIoMQTxrHmbC9g5UmNWKxFrH9ZjFjqShSVGwsrah08iS3InkHzbFlnjPovJWYk0Kx3nk5qzFofzbfNjbe9qr+Pb4slqo+NKtp06dcq5rbVonJWCs1r0uB7Taq1jHY9Pex3r/UaqLSzOgAAAQVCAAABBUIAAAEFQgAAAQVCAAABB5GwKLle4UjJWjzorUWP1oRo4507xuHpfWf3KvFNwjjSVtcCcq2+c5E7SSXbvOJ+kke8CYVYiz9kLboKRait1P7dWCs6171Lj9Sk2etVZz7l1nK5F1nzTblYizZVs8+0FZy0a19PT4xx3zd2nt5vk19+Nnm+5iTMgAEAQFCAAQBAUIABAEBQgAEAQFCAAQBA5m4IbM2ZMRtrMSr1kk8+qrL4puHMD7nSPKw3k2w/LGnfN0Upk+a6IavVl8+GbPrJ6p7nmaCXmrH1YyUPXvouM58o37eaTgrN6p/n2cXOtTmrt47333nOOW6uZWnN0HU8caTdrnF5wuYkzIABAEBQgAEAQFCAAQBAUIABAEDkbQjh37pxXACBbfC5S+oYQrHFXOxqrRY3VvsQad4UZfMMG1rjVusbV/sfiu1CdFXxwzdHa1mo55DMX39fBeu2tsImrpY114d8VKpDsAIGrvY61b6sVj9X+x9VWSnI/L1Zwxvfz40LYIDdxBgQACIICBAAIggIEAAiCAgQACIICBAAIImdTcKNRNlNwVprK1dJEstNUrnGrFY2VGrNSc1arG1c7Gt/WKFZCypq76zGttji+r5treyulZ8379OnTznErfeZa8M1aBM63XY4rYWfNz0q7Wdtbx+9qu+P7OSHZNvpxBgQACIICBAAIggIEAAiCAgQACIICBAAIwisF981vflPf+ta3hoxdddVV+u///m9JHySsNm/erKamJvX19WnlypV68sknlUwm45txDvNNU/kkp6y0m5U+spJqrnFzWyM11m8s1GYl9az9u1jPlZWmsvoFusatba3HtLZ3vW7WYmrW6+ZKnklSKpVyjnelMhNsnalOr31bi8O5+rX59BKU7OP3WWSOVNuVx/sM6JprrtGJEyfSt1/84hfp+zZu3Kjdu3dr586damlp0fHjx7Vq1apYJwwAyA/evwMaO3asKisrM8ZTqZS2bt2qHTt2aMWKFZKkbdu2acGCBdq/f79uvPFG5/76+vqG/C3R+q0CACC/eJ8BHTlyRFVVVfrYxz6mNWvW6NixY5Kk1tZWDQwMqKamJr3t/PnzNXv2bO3bt8/cX319vRKJRPo2a9asYRwGAGC08SpAy5Yt0/bt27Vnzx41Njbq6NGj+vSnP63u7m61t7eruLhY5eXlQ/6fZDKp9vZ2c591dXVKpVLpW1tb27AOBAAwunj9E9wtt9yS/u+FCxdq2bJlmjNnjn784x9rnHFh+qOUlJSY7VQAAPlrRL3gysvL9YlPfELvvPOOPvvZz6q/v1+dnZ1DzoI6Ojqc14w+SkFBQUYKKddTMr79zawUnCs5ZKWprP5m1iqkrkSaz6qiklRs/IXB6gXnOk6fhJlkp6ms7V3PuW9KccBKdjkSedbKn1ZqzEy7GddAXeNW2s16TOs95EoY+qb64ljN1Pfzg9FvRL8D6unp0a9//WvNmDFDixcvVlFRkZqbm9P3Hz58WMeOHVN1dfWIJwoAyC9eZ0D33Xefbr31Vs2ZM0fHjx/Xli1bNGbMGH3pS19SIpHQnXfeqU2bNqmiokJlZWVav369qqurzQQcAODK5VWA/u///k9f+tKXdOrUKU2bNk033XST9u/fr2nTpkmSHnvsMRUWFmr16tVDfogKAMCFvApQU1PTRe8vLS1VQ0ODGhoaRjQpAED+oxccACCInF0RNYqinE2/+M7Lt9eYK4Fk9eay0m4+41aSzpqfrGFje1eazty3wUq7Wcfp2t63z5zParNWCs7qv3a6193Dr6fXnWxz9fyz+gBa7xXrOF3PlfV8W+OsZorh4AwIABAEBQgAEAQFCAAQBAUIABBEzoYQ8olvCxhXCMFn4bWLjbsu2lstd3yDAoUFl97+x3fe1nNlcT2HVnsZ66K9FSxwjVuBAGvcapfjEyyw5u3btsj13PqGB3y3J4QAiTMgAEAgFCAAQBAUIABAEBQgAEAQFCAAQBCk4C6DOJJDvok0a3tX2x1XSm04fFrx+O7DN03lajtjtaKx0mSnzxjJNkcbHSvVZo1bj+nTRsdKu8XRFsf3+SbVhuHgDAgAEAQFCAAQBAUIABAEBQgAEAQFCAAQRE6n4C5MROV60saan2+yy8Xq42Xt2yfxZfU8s/im+nx6wfny6adnLTBnPVdWXzbX8+W7CJyVYPPp4xZX/7Vsfq7i2Lfv58fnvZXr3yn5jjMgAEAQFCAAQBAUIABAEBQgAEAQFCAAQBA5nYIjofLRfBNprjSVlQ6z9uGbGpMrlGS8tAXOjY19SBocdKcDz53LHLeShFbyzDpOn75s1mP6rE4quV9n31Vi4/g85XpiLs79IPs4AwIABEEBAgAEQQECAARBAQIABEEBAgAEkdMpuNHWC86SzZ5VcaTgrH1YSS2r71lc/d18+Kz+6fOc+I7Hsertxbb32UeIz8lo/WwiLM6AAABBUIAAAEFQgAAAQVCAAABB5HQIId8vbPpcRC4sdP9dwbpobQUCXBfQrTYyvrJ5UdzneKzH9J2Hz/ZxhUTimAswWnAGBAAIggIEAAiCAgQACIICBAAIggIEAAgiZ1NwBQUFGckn3+RQPvFNWfmkr3ySZBcbt2QzBefb6mak22ZbLs0Fl5f1Hs/n9wRnQACAIChAAIAgKEAAgCAoQACAILwL0G9/+1t9+ctf1pQpUzRu3Dh98pOf1MGDB9P3R1GkBx98UDNmzNC4ceNUU1OjI0eOxDppAMDo55WCe//997V8+XJ95jOf0XPPPadp06bpyJEjmjx5cnqbRx55RE888YSeffZZzZ07Vw888IBWrlypQ4cOqbS09JIfK5+THx/FlYbxXezNZ5G5XOpLFlfa73LLlXkgzMKI2WQdTT684woij0/O/fffr5dffln/8R//4bw/iiJVVVVp8+bNuu+++yRJqVRKyWRS27dv1xe/+MWPfIyuri4lEokPJpcnK6L68ilA1rjVvHTMmDEZY6OhAMW1fS7vI879XMnyrQDJ+svXZZ7GcKRSKZWVlZn3e/0T3E9/+lMtWbJEX/jCFzR9+nRdd911euaZZ9L3Hz16VO3t7aqpqUmPJRIJLVu2TPv27XPus6+vT11dXUNuAID851WAfvOb36ixsVHz5s3T3r17dc899+hrX/uann32WUlSe3u7JCmZTA75/5LJZPq+C9XX1yuRSKRvs2bNGs5xAABGGa8CNDg4qOuvv14PPfSQrrvuOt1111366le/qqeeemrYE6irq1MqlUrf2trahr0vAMDo4VWAZsyYoauvvnrI2IIFC3Ts2DFJUmVlpSSpo6NjyDYdHR3p+y5UUlKisrKyITcAQP7zKkDLly/X4cOHh4z96le/0pw5cyRJc+fOVWVlpZqbm9P3d3V16cCBA6qurvaa2Ie94H7/lm9cxxjXcUZR5LwNDg5m3KxtrVtcc4lj3yGM1nmPVtbnJJufH999+87R63iMWz58R3rFsDdu3Kg/+qM/0kMPPaQ///M/1yuvvKKnn35aTz/9tKQPXoQNGzbo29/+tubNm5eOYVdVVen222/PxvwBAKOUVwFaunSpdu3apbq6Ov3t3/6t5s6dq8cff1xr1qxJb/P1r39dvb29uuuuu9TZ2ambbrpJe/bs8foNEAAg/3n9Duhy+PB3QFfCcgw+p8y+vwPy+X1Qtt8CufS7oTj2kevHk29C/NOS79II2ZzjaF1aRIr5d0AAAMQlZxekuxLkyt+ks30G4LN9nCGMXJbr84tLLp29ZHMf2XxMn0UX42rZdblwBgQACIICBAAIggIEAAiCAgQACIICBAAIImdTcGPGjMn73wHFIY7fJeTS72B85UqS0DIa26NcTJytbrIljgUdffbtu63vuMX1/vRduDFbr8OlfnY4AwIABEEBAgAEQQECAARBAQIABJFzIYQPL17l0oXuXBDX8+Fz4TLbc4lDLs3FJdfn5yvfjmc08AkW+IYQsu2jHjfnClB3d7ck6fz584FnMrpZL3yuP698wV0Zcj29iHh0d3crkUiY9+fccgyDg4M6fvy4Jk2apO7ubs2aNUttbW15vVR3V1cXx5knroRjlDjOfBP3cUZRpO7ublVVVTmXgPlQzp0BFRYWaubMmZL+f0a9rKwsr1/8D3Gc+eNKOEaJ48w3cR7nxc58PkQIAQAQBAUIABBEThegkpISbdmyRSUlJaGnklUcZ/64Eo5R4jjzTajjzLkQAgDgypDTZ0AAgPxFAQIABEEBAgAEQQECAARBAQIABJHTBaihoUF/+Id/qNLSUi1btkyvvPJK6CmNyEsvvaRbb71VVVVVKigo0L/+678OuT+KIj344IOaMWOGxo0bp5qaGh05ciTMZIepvr5eS5cu1aRJkzR9+nTdfvvtOnz48JBtzp49q9raWk2ZMkUTJ07U6tWr1dHREWjGw9PY2KiFCxemfzleXV2t5557Ln1/PhzjhR5++GEVFBRow4YN6bF8OM5vfvObKigoGHKbP39++v58OMYP/fa3v9WXv/xlTZkyRePGjdMnP/lJHTx4MH3/5f4OytkC9M///M/atGmTtmzZotdee02LFi3SypUrdfLkydBTG7be3l4tWrRIDQ0NzvsfeeQRPfHEE3rqqad04MABTZgwQStXrtTZs2cv80yHr6WlRbW1tdq/f7+ef/55DQwM6HOf+5x6e3vT22zcuFG7d+/Wzp071dLSouPHj2vVqlUBZ+1v5syZevjhh9Xa2qqDBw9qxYoVuu222/T2229Lyo9j/H2vvvqqfvjDH2rhwoVDxvPlOK+55hqdOHEiffvFL36Rvi9fjvH999/X8uXLVVRUpOeee06HDh3S3/3d32ny5MnpbS77d1CUo2644YaotrY2/efz589HVVVVUX19fcBZxUdStGvXrvSfBwcHo8rKyujRRx9Nj3V2dkYlJSXRP/3TPwWYYTxOnjwZSYpaWlqiKPrgmIqKiqKdO3emt/mv//qvSFK0b9++UNOMxeTJk6O///u/z7tj7O7ujubNmxc9//zz0Z/8yZ9E9957bxRF+fNabtmyJVq0aJHzvnw5xiiKom984xvRTTfdZN4f4jsoJ8+A+vv71draqpqamvRYYWGhampqtG/fvoAzy56jR4+qvb19yDEnEgktW7ZsVB9zKpWSJFVUVEiSWltbNTAwMOQ458+fr9mzZ4/a4zx//ryamprU29ur6urqvDvG2tpaff7znx9yPFJ+vZZHjhxRVVWVPvaxj2nNmjU6duyYpPw6xp/+9KdasmSJvvCFL2j69Om67rrr9Mwzz6TvD/EdlJMF6N1339X58+eVTCaHjCeTSbW3tweaVXZ9eFz5dMyDg4PasGGDli9frmuvvVbSB8dZXFys8vLyIduOxuN88803NXHiRJWUlOjuu+/Wrl27dPXVV+fVMTY1Nem1115TfX19xn35cpzLli3T9u3btWfPHjU2Nuro0aP69Kc/re7u7rw5Rkn6zW9+o8bGRs2bN0979+7VPffco6997Wt69tlnJYX5Dsq55RiQP2pra/XWW28N+ff0fHLVVVfpjTfeUCqV0r/8y79o7dq1amlpCT2t2LS1tenee+/V888/r9LS0tDTyZpbbrkl/d8LFy7UsmXLNGfOHP34xz/WuHHjAs4sXoODg1qyZIkeeughSdJ1112nt956S0899ZTWrl0bZE45eQY0depUjRkzJiNp0tHRocrKykCzyq4PjytfjnndunX62c9+pp///Ofp9Z2kD46zv79fnZ2dQ7YfjcdZXFysj3/841q8eLHq6+u1aNEife9738ubY2xtbdXJkyd1/fXXa+zYsRo7dqxaWlr0xBNPaOzYsUomk3lxnBcqLy/XJz7xCb3zzjt581pK0owZM3T11VcPGVuwYEH6nxtDfAflZAEqLi7W4sWL1dzcnB4bHBxUc3OzqqurA84se+bOnavKysohx9zV1aUDBw6MqmOOokjr1q3Trl279MILL2ju3LlD7l+8eLGKioqGHOfhw4d17NixUXWcLoODg+rr68ubY7z55pv15ptv6o033kjflixZojVr1qT/Ox+O80I9PT369a9/rRkzZuTNaylJy5cvz/hJxK9+9SvNmTNHUqDvoKxEG2LQ1NQUlZSURNu3b48OHToU3XXXXVF5eXnU3t4eemrD1t3dHb3++uvR66+/HkmKvvvd70avv/569L//+79RFEXRww8/HJWXl0c/+clPol/+8pfRbbfdFs2dOzc6c+ZM4JlfunvuuSdKJBLRiy++GJ04cSJ9O336dHqbu+++O5o9e3b0wgsvRAcPHoyqq6uj6urqgLP2d//990ctLS3R0aNHo1/+8pfR/fffHxUUFET//u//HkVRfhyjy++n4KIoP45z8+bN0YsvvhgdPXo0evnll6Oamppo6tSp0cmTJ6Moyo9jjKIoeuWVV6KxY8dG3/nOd6IjR45EP/rRj6Lx48dH//iP/5je5nJ/B+VsAYqiKPr+978fzZ49OyouLo5uuOGGaP/+/aGnNCI///nPI0kZt7Vr10ZR9EEM8oEHHoiSyWRUUlIS3XzzzdHhw4fDTtqT6/gkRdu2bUtvc+bMmeiv//qvo8mTJ0fjx4+P/uzP/iw6ceJEuEkPw1/91V9Fc+bMiYqLi6Np06ZFN998c7r4RFF+HKPLhQUoH47zjjvuiGbMmBEVFxdHf/AHfxDdcccd0TvvvJO+Px+O8UO7d++Orr322qikpCSaP39+9PTTTw+5/3J/B7EeEAAgiJy8BgQAyH8UIABAEBQgAEAQFCAAQBAUIABAEBQgAEAQFCAAQBAUIABAEBQgAEAQFCAAQBAUIABAEP8PtPU3yFqKN5oAAAAASUVORK5CYII=\n"
          },
          "metadata": {}
        },
        {
          "output_type": "display_data",
          "data": {
            "text/plain": [
              "<Figure size 640x480 with 1 Axes>"
            ],
            "image/png": "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\n"
          },
          "metadata": {}
        }
      ],
      "execution_count": null
    },
    {
      "cell_type": "code",
      "source": [],
      "metadata": {
        "id": "h-j-Dw6sWzPx"
      },
      "execution_count": null,
      "outputs": []
    }
  ]
}